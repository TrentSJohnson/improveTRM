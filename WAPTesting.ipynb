{
 "cells": [
  {
   "cell_type": "code",
   "execution_count": 1,
   "metadata": {},
   "outputs": [],
   "source": [
    "import numpy as np\n",
    "import pandas as pd\n",
    "from datetime import datetime\n",
    "import networkx as nx\n",
    "from scipy.special import softmax\n",
    "from tqdm import tqdm\n",
    "from random import shuffle\n",
    "import copy\n",
    "from collections import defaultdict\n",
    "from networkx.algorithms import bipartite\n",
    "import matplotlib.pyplot as plt\n",
    "from uga import UGA"
   ]
  },
  {
   "cell_type": "code",
   "execution_count": 2,
   "metadata": {},
   "outputs": [
    {
     "output_type": "execute_result",
     "data": {
      "text/plain": [
       "   tripduration            starttime             stoptime  start station id  \\\n",
       "0           695  2013-06-01 00:00:01  2013-06-01 00:11:36               444   \n",
       "1           693  2013-06-01 00:00:08  2013-06-01 00:11:41               444   \n",
       "2          2059  2013-06-01 00:00:44  2013-06-01 00:35:03               406   \n",
       "3           123  2013-06-01 00:01:04  2013-06-01 00:03:07               475   \n",
       "4          1521  2013-06-01 00:01:22  2013-06-01 00:26:43              2008   \n",
       "\n",
       "       start station name  start station latitude  start station longitude  \\\n",
       "0      Broadway & W 24 St               40.742354               -73.989151   \n",
       "1      Broadway & W 24 St               40.742354               -73.989151   \n",
       "2  Hicks St & Montague St               40.695128               -73.995951   \n",
       "3     E 15 St & Irving Pl               40.735243               -73.987586   \n",
       "4   Little West St & 1 Pl               40.705693               -74.016777   \n",
       "\n",
       "   end station id        end station name  end station latitude  \\\n",
       "0           434.0         9 Ave & W 18 St             40.743174   \n",
       "1           434.0         9 Ave & W 18 St             40.743174   \n",
       "2           406.0  Hicks St & Montague St             40.695128   \n",
       "3           262.0         Washington Park             40.691782   \n",
       "4           310.0     State St & Smith St             40.689269   \n",
       "\n",
       "   end station longitude  bikeid    usertype  birth year  gender  \n",
       "0             -74.003664   19678  Subscriber      1983.0       1  \n",
       "1             -74.003664   16649  Subscriber      1984.0       1  \n",
       "2             -73.995951   19599    Customer         NaN       0  \n",
       "3             -73.973730   16352  Subscriber      1960.0       1  \n",
       "4             -73.989129   15567  Subscriber      1983.0       1  "
      ],
      "text/html": "<div>\n<style scoped>\n    .dataframe tbody tr th:only-of-type {\n        vertical-align: middle;\n    }\n\n    .dataframe tbody tr th {\n        vertical-align: top;\n    }\n\n    .dataframe thead th {\n        text-align: right;\n    }\n</style>\n<table border=\"1\" class=\"dataframe\">\n  <thead>\n    <tr style=\"text-align: right;\">\n      <th></th>\n      <th>tripduration</th>\n      <th>starttime</th>\n      <th>stoptime</th>\n      <th>start station id</th>\n      <th>start station name</th>\n      <th>start station latitude</th>\n      <th>start station longitude</th>\n      <th>end station id</th>\n      <th>end station name</th>\n      <th>end station latitude</th>\n      <th>end station longitude</th>\n      <th>bikeid</th>\n      <th>usertype</th>\n      <th>birth year</th>\n      <th>gender</th>\n    </tr>\n  </thead>\n  <tbody>\n    <tr>\n      <th>0</th>\n      <td>695</td>\n      <td>2013-06-01 00:00:01</td>\n      <td>2013-06-01 00:11:36</td>\n      <td>444</td>\n      <td>Broadway &amp; W 24 St</td>\n      <td>40.742354</td>\n      <td>-73.989151</td>\n      <td>434.0</td>\n      <td>9 Ave &amp; W 18 St</td>\n      <td>40.743174</td>\n      <td>-74.003664</td>\n      <td>19678</td>\n      <td>Subscriber</td>\n      <td>1983.0</td>\n      <td>1</td>\n    </tr>\n    <tr>\n      <th>1</th>\n      <td>693</td>\n      <td>2013-06-01 00:00:08</td>\n      <td>2013-06-01 00:11:41</td>\n      <td>444</td>\n      <td>Broadway &amp; W 24 St</td>\n      <td>40.742354</td>\n      <td>-73.989151</td>\n      <td>434.0</td>\n      <td>9 Ave &amp; W 18 St</td>\n      <td>40.743174</td>\n      <td>-74.003664</td>\n      <td>16649</td>\n      <td>Subscriber</td>\n      <td>1984.0</td>\n      <td>1</td>\n    </tr>\n    <tr>\n      <th>2</th>\n      <td>2059</td>\n      <td>2013-06-01 00:00:44</td>\n      <td>2013-06-01 00:35:03</td>\n      <td>406</td>\n      <td>Hicks St &amp; Montague St</td>\n      <td>40.695128</td>\n      <td>-73.995951</td>\n      <td>406.0</td>\n      <td>Hicks St &amp; Montague St</td>\n      <td>40.695128</td>\n      <td>-73.995951</td>\n      <td>19599</td>\n      <td>Customer</td>\n      <td>NaN</td>\n      <td>0</td>\n    </tr>\n    <tr>\n      <th>3</th>\n      <td>123</td>\n      <td>2013-06-01 00:01:04</td>\n      <td>2013-06-01 00:03:07</td>\n      <td>475</td>\n      <td>E 15 St &amp; Irving Pl</td>\n      <td>40.735243</td>\n      <td>-73.987586</td>\n      <td>262.0</td>\n      <td>Washington Park</td>\n      <td>40.691782</td>\n      <td>-73.973730</td>\n      <td>16352</td>\n      <td>Subscriber</td>\n      <td>1960.0</td>\n      <td>1</td>\n    </tr>\n    <tr>\n      <th>4</th>\n      <td>1521</td>\n      <td>2013-06-01 00:01:22</td>\n      <td>2013-06-01 00:26:43</td>\n      <td>2008</td>\n      <td>Little West St &amp; 1 Pl</td>\n      <td>40.705693</td>\n      <td>-74.016777</td>\n      <td>310.0</td>\n      <td>State St &amp; Smith St</td>\n      <td>40.689269</td>\n      <td>-73.989129</td>\n      <td>15567</td>\n      <td>Subscriber</td>\n      <td>1983.0</td>\n      <td>1</td>\n    </tr>\n  </tbody>\n</table>\n</div>"
     },
     "metadata": {},
     "execution_count": 2
    }
   ],
   "source": [
    "data = pd.read_csv('nyc_citi.csv')\n",
    "data = data.loc[[type(i)==str for i in data['start station name']]]\n",
    "data = data.loc[[type(i)==str for i in data['end station name']]]\n",
    "data.head()"
   ]
  },
  {
   "cell_type": "code",
   "execution_count": 3,
   "metadata": {},
   "outputs": [
    {
     "output_type": "stream",
     "name": "stdout",
     "text": [
      "(559644, 15)\n"
     ]
    }
   ],
   "source": [
    "data.starttime=data.starttime.apply(lambda x: datetime.strptime(x,\"%Y-%m-%d %H:%M:%S\"))\n",
    "data.stoptime=data.stoptime.apply(lambda x: datetime.strptime(x,\"%Y-%m-%d %H:%M:%S\"))\n",
    "print(data.shape)"
   ]
  },
  {
   "cell_type": "code",
   "execution_count": 113,
   "metadata": {},
   "outputs": [],
   "source": []
  },
  {
   "cell_type": "code",
   "execution_count": 4,
   "metadata": {},
   "outputs": [],
   "source": [
    "def build_station_graph(data,starttime,stoptime):\n",
    "    graphx=nx.Graph()\n",
    "    filtered_data = data[(data['starttime']>=starttime) & (data['stoptime']<=stoptime)]\n",
    "    locations = list(set(filtered_data['start station name']).union(filtered_data['end station name']))\n",
    "    vertices = pd.Series([{}]*len(locations),index=locations)\n",
    "    for loc in locations:\n",
    "        vertices[loc] = {'change':0,'x':np.random.random(),'y':np.random.random(),'type':''}\n",
    "        \n",
    "    for i in filtered_data['start station name']:\n",
    "        vertices[i]['change'] -= 1\n",
    "    for i in filtered_data['end station name']:\n",
    "        vertices[i]['change'] += 1\n",
    "    for loc in locations:\n",
    "        if vertices[loc]['change'] > 0:\n",
    "            vertices[loc]['type'] = 'overflow'\n",
    "        if vertices[loc]['change'] < 0:\n",
    "            vertices[loc]['type'] = 'underflow'\n",
    "    vertices = vertices.loc[[x['type'] != '' for x in vertices]]\n",
    "    for vertex in vertices.index:\n",
    "        graphx.add_node(vertex,bipartite=int(vertices[vertex]['type']=='overflow'))\n",
    "    #print(vertices)\n",
    "    nx.set_node_attributes(graphx, {i: vertices[i] for i in vertices.index}) \n",
    "    for i in range(len(vertices.index)-1):\n",
    "        for j in range(len(vertices.index[i:])):\n",
    "            if vertices[vertices.index[i]]['type'] != vertices[vertices.index[j]]['type']:\n",
    "                x1=vertices[vertices.index[i]]['x']\n",
    "                y1=vertices[vertices.index[i]]['y']\n",
    "                x2=vertices[vertices.index[j]]['x']\n",
    "                y2=vertices[vertices.index[j]]['y']\n",
    "                graphx.add_weighted_edges_from([(vertices.index[i],vertices.index[j],euc_dis(x1,y1,x2,y2))])\n",
    "    return graphx\n",
    "\n",
    "def cloned_station_vertices(graphx):\n",
    "    nodes = list(graphx.nodes())\n",
    "    for node in nodes:\n",
    "        if graphx.nodes[node]['change']>1:\n",
    "            for i in range(graphx.nodes[node]['change']-1):\n",
    "                i = i+1\n",
    "                graphx.add_nodes_from([(str(node)+str(i),graphx.nodes[node])],bipartite=int(graphx.nodes[node]['bipartite']))\n",
    "                new_node_name = str(node)+str(i)\n",
    "                new_node_data = graphx.nodes[new_node_name]\n",
    "                for node_ in graphx.nodes:\n",
    "                    if np.sign(new_node_data['change']) != np.sign(graphx.nodes[node_]['change']):\n",
    "                        x1=new_node_data['x']\n",
    "                        y1=new_node_data['y']\n",
    "                        x2=graphx.nodes[node_]['x']\n",
    "                        y2=graphx.nodes[node_]['y']\n",
    "                        graphx.add_weighted_edges_from([(node_,new_node_name,euc_dis(x1,y1,x2,y2))])\n",
    "    return graphx\n",
    "                \n",
    "\n",
    "\n",
    "                    \n",
    "            "
   ]
  },
  {
   "cell_type": "code",
   "execution_count": 5,
   "metadata": {},
   "outputs": [
    {
     "output_type": "stream",
     "name": "stdout",
     "text": [
      "['E 10 St & Avenue A', 'Pershing Square South', 'Allen St & Rivington St', 'E 7 St & Avenue A', '10 Ave & W 28 St', 'W 22 St & 10 Ave', 'Washington Park', 'Allen St & Stanton St', 'St Marks Pl & 2 Ave', 'W 22 St & 8 Ave', 'Forsyth St & Broome St', 'W 26 St & 8 Ave', 'W 54 St & 9 Ave', 'Greenwich St & W Houston St', 'Pershing Square North', 'E 6 St & Avenue B', 'Clermont Ave & Lafayette Ave', 'W 37 St & 10 Ave', 'Ashland Pl & Hanson Pl', 'Cadman Plaza West & Montague St', 'E 4 St & 2 Ave', 'W 13 St & 6 Ave', 'Shevchenko Pl & E 7 St', 'E 20 St & 2 Ave', 'Christopher St & Greenwich St', '8 Ave & W 31 St N', 'Broadway & W 24 St', 'DeKalb Ave & S Portland Ave', 'University Pl & E 14 St', 'Catherine St & Monroe St', 'Atlantic Ave & Fort Greene Pl', 'E 31 St & 3 Ave', 'E 58 St & 3 Ave', 'Pike St & E Broadway', 'Cleveland Pl & Spring St', 'W 13 St & 7 Ave', 'Lafayette St & E 8 St', '9 Ave & W 22 St', 'Fulton St & Grand Ave', 'Broadway & W 29 St', 'Murray St & West St', '9 Ave & W 18 St', 'Suffolk St & Stanton St', 'W 37 St & 5 Ave', 'Mercer St & Spring St', '9 Ave & W 14 St', '8 Ave & W 31 St N1', '8 Ave & W 31 St N2', '9 Ave & W 18 St1']\n['E 10 St & Avenue A', 'Pershing Square South', 'Allen St & Rivington St', 'E 7 St & Avenue A', '10 Ave & W 28 St', 'W 22 St & 10 Ave', 'Washington Park', 'Allen St & Stanton St', 'St Marks Pl & 2 Ave', 'W 22 St & 8 Ave', 'Forsyth St & Broome St', 'W 26 St & 8 Ave', 'W 54 St & 9 Ave', 'Greenwich St & W Houston St', 'Pershing Square North', 'E 6 St & Avenue B', 'Clermont Ave & Lafayette Ave', 'W 37 St & 10 Ave', 'Ashland Pl & Hanson Pl', 'Cadman Plaza West & Montague St', 'E 4 St & 2 Ave', 'W 13 St & 6 Ave', 'Shevchenko Pl & E 7 St', 'E 20 St & 2 Ave', 'Christopher St & Greenwich St', '8 Ave & W 31 St N', 'Broadway & W 24 St', 'DeKalb Ave & S Portland Ave', 'University Pl & E 14 St', 'Catherine St & Monroe St', 'Atlantic Ave & Fort Greene Pl', 'E 31 St & 3 Ave', 'E 58 St & 3 Ave', 'Pike St & E Broadway', 'Cleveland Pl & Spring St', 'W 13 St & 7 Ave', 'Lafayette St & E 8 St', '9 Ave & W 22 St', 'Fulton St & Grand Ave', 'Broadway & W 29 St', 'Murray St & West St', '9 Ave & W 18 St', 'Suffolk St & Stanton St', 'W 37 St & 5 Ave', 'Mercer St & Spring St', '9 Ave & W 14 St', '8 Ave & W 31 St N1', '8 Ave & W 31 St N2', '9 Ave & W 18 St1', 0, 1, 2, 3, 4, 5, 6, 7, 8, 9, 10, 11, 12, 13, 14, 15, 16, 17, 18, 19, 20, 21]\n{'type': 'worker', 'xs': 0.6209467119996362, 'ys': 0.2682025057635191, 'xe': 0.20106486685506597, 'ye': 0.8409627524435361}\n"
     ]
    }
   ],
   "source": [
    "def euc_dis(x1,y1,x2,y2):\n",
    "        return ((x1-x2)**2+(y1-y2)**2)**.5\n",
    "graph = build_station_graph(data,data.loc[0,'starttime'],data.loc[10,'stoptime'])\n",
    "#print(graph['E 6 St & Avenue D'])\n",
    "overflow = {node:{} for node in graph.nodes() if graph.nodes[node]['type']=='overflow'}\n",
    "underflow = {node:{} for node in graph.nodes() if graph.nodes[node]['type']=='underflow'}\n",
    "\n",
    "\n",
    "cgraph = cloned_station_vertices(graph)\n",
    "workers = {i:{\n",
    "                'type':'worker',\n",
    "               'xs':np.random.random(),\n",
    "               'ys':np.random.random(),\n",
    "               'xe':np.random.random(),\n",
    "               'ye':np.random.random()\n",
    "              } for i in range(np.min([len(underflow), len(overflow)]))}\n",
    "cwgraph = copy.deepcopy(cgraph)\n",
    "print(cwgraph.nodes)\n",
    "cwgraph.add_nodes_from(range(len(workers)))\n",
    "nx.set_node_attributes(cwgraph, workers) \n",
    "cwgraph.add_edges_from([(w,s) for w in workers for s in cgraph.nodes ])\n",
    "print(cwgraph.nodes)\n",
    "print(cwgraph.nodes[1])"
   ]
  },
  {
   "cell_type": "code",
   "execution_count": 6,
   "metadata": {
    "scrolled": true,
    "tags": []
   },
   "outputs": [
    {
     "output_type": "stream",
     "name": "stderr",
     "text": [
      "  1%|          | 1/100 [00:00<00:29,  3.34it/s]-37.57047695266268 -29.007907250310474\n",
      " 52%|█████▏    | 52/100 [00:16<00:14,  3.21it/s]-32.57903435107606 -23.778746333666405\n",
      "100%|██████████| 100/100 [00:31<00:00,  3.18it/s]\n"
     ]
    }
   ],
   "source": [
    "uga = UGA(cwgraph)\n",
    "\n",
    "best, score, log = uga.run(0.1,0.1,100,100)"
   ]
  },
  {
   "cell_type": "code",
   "execution_count": 7,
   "metadata": {},
   "outputs": [
    {
     "output_type": "display_data",
     "data": {
      "text/plain": "<Figure size 432x288 with 1 Axes>",
      "image/svg+xml": "<?xml version=\"1.0\" encoding=\"utf-8\" standalone=\"no\"?>\n<!DOCTYPE svg PUBLIC \"-//W3C//DTD SVG 1.1//EN\"\n  \"http://www.w3.org/Graphics/SVG/1.1/DTD/svg11.dtd\">\n<!-- Created with matplotlib (https://matplotlib.org/) -->\n<svg height=\"248.518125pt\" version=\"1.1\" viewBox=\"0 0 377.304687 248.518125\" width=\"377.304687pt\" xmlns=\"http://www.w3.org/2000/svg\" xmlns:xlink=\"http://www.w3.org/1999/xlink\">\n <metadata>\n  <rdf:RDF xmlns:cc=\"http://creativecommons.org/ns#\" xmlns:dc=\"http://purl.org/dc/elements/1.1/\" xmlns:rdf=\"http://www.w3.org/1999/02/22-rdf-syntax-ns#\">\n   <cc:Work>\n    <dc:type rdf:resource=\"http://purl.org/dc/dcmitype/StillImage\"/>\n    <dc:date>2021-06-15T16:12:58.996419</dc:date>\n    <dc:format>image/svg+xml</dc:format>\n    <dc:creator>\n     <cc:Agent>\n      <dc:title>Matplotlib v3.3.2, https://matplotlib.org/</dc:title>\n     </cc:Agent>\n    </dc:creator>\n   </cc:Work>\n  </rdf:RDF>\n </metadata>\n <defs>\n  <style type=\"text/css\">*{stroke-linecap:butt;stroke-linejoin:round;}</style>\n </defs>\n <g id=\"figure_1\">\n  <g id=\"patch_1\">\n   <path d=\"M 0 248.518125 \nL 377.304687 248.518125 \nL 377.304687 0 \nL 0 0 \nz\n\" style=\"fill:none;\"/>\n  </g>\n  <g id=\"axes_1\">\n   <g id=\"patch_2\">\n    <path d=\"M 35.304688 224.64 \nL 370.104688 224.64 \nL 370.104688 7.2 \nL 35.304688 7.2 \nz\n\" style=\"fill:#ffffff;\"/>\n   </g>\n   <g id=\"matplotlib.axis_1\">\n    <g id=\"xtick_1\">\n     <g id=\"line2d_1\">\n      <defs>\n       <path d=\"M 0 0 \nL 0 3.5 \n\" id=\"me7054009c1\" style=\"stroke:#000000;stroke-width:0.8;\"/>\n      </defs>\n      <g>\n       <use style=\"stroke:#000000;stroke-width:0.8;\" x=\"50.522869\" xlink:href=\"#me7054009c1\" y=\"224.64\"/>\n      </g>\n     </g>\n     <g id=\"text_1\">\n      <!-- 0 -->\n      <g transform=\"translate(47.341619 239.238437)scale(0.1 -0.1)\">\n       <defs>\n        <path d=\"M 31.78125 66.40625 \nQ 24.171875 66.40625 20.328125 58.90625 \nQ 16.5 51.421875 16.5 36.375 \nQ 16.5 21.390625 20.328125 13.890625 \nQ 24.171875 6.390625 31.78125 6.390625 \nQ 39.453125 6.390625 43.28125 13.890625 \nQ 47.125 21.390625 47.125 36.375 \nQ 47.125 51.421875 43.28125 58.90625 \nQ 39.453125 66.40625 31.78125 66.40625 \nz\nM 31.78125 74.21875 \nQ 44.046875 74.21875 50.515625 64.515625 \nQ 56.984375 54.828125 56.984375 36.375 \nQ 56.984375 17.96875 50.515625 8.265625 \nQ 44.046875 -1.421875 31.78125 -1.421875 \nQ 19.53125 -1.421875 13.0625 8.265625 \nQ 6.59375 17.96875 6.59375 36.375 \nQ 6.59375 54.828125 13.0625 64.515625 \nQ 19.53125 74.21875 31.78125 74.21875 \nz\n\" id=\"DejaVuSans-48\"/>\n       </defs>\n       <use xlink:href=\"#DejaVuSans-48\"/>\n      </g>\n     </g>\n    </g>\n    <g id=\"xtick_2\">\n     <g id=\"line2d_2\">\n      <g>\n       <use style=\"stroke:#000000;stroke-width:0.8;\" x=\"112.010473\" xlink:href=\"#me7054009c1\" y=\"224.64\"/>\n      </g>\n     </g>\n     <g id=\"text_2\">\n      <!-- 20 -->\n      <g transform=\"translate(105.647973 239.238437)scale(0.1 -0.1)\">\n       <defs>\n        <path d=\"M 19.1875 8.296875 \nL 53.609375 8.296875 \nL 53.609375 0 \nL 7.328125 0 \nL 7.328125 8.296875 \nQ 12.9375 14.109375 22.625 23.890625 \nQ 32.328125 33.6875 34.8125 36.53125 \nQ 39.546875 41.84375 41.421875 45.53125 \nQ 43.3125 49.21875 43.3125 52.78125 \nQ 43.3125 58.59375 39.234375 62.25 \nQ 35.15625 65.921875 28.609375 65.921875 \nQ 23.96875 65.921875 18.8125 64.3125 \nQ 13.671875 62.703125 7.8125 59.421875 \nL 7.8125 69.390625 \nQ 13.765625 71.78125 18.9375 73 \nQ 24.125 74.21875 28.421875 74.21875 \nQ 39.75 74.21875 46.484375 68.546875 \nQ 53.21875 62.890625 53.21875 53.421875 \nQ 53.21875 48.921875 51.53125 44.890625 \nQ 49.859375 40.875 45.40625 35.40625 \nQ 44.1875 33.984375 37.640625 27.21875 \nQ 31.109375 20.453125 19.1875 8.296875 \nz\n\" id=\"DejaVuSans-50\"/>\n       </defs>\n       <use xlink:href=\"#DejaVuSans-50\"/>\n       <use x=\"63.623047\" xlink:href=\"#DejaVuSans-48\"/>\n      </g>\n     </g>\n    </g>\n    <g id=\"xtick_3\">\n     <g id=\"line2d_3\">\n      <g>\n       <use style=\"stroke:#000000;stroke-width:0.8;\" x=\"173.498076\" xlink:href=\"#me7054009c1\" y=\"224.64\"/>\n      </g>\n     </g>\n     <g id=\"text_3\">\n      <!-- 40 -->\n      <g transform=\"translate(167.135576 239.238437)scale(0.1 -0.1)\">\n       <defs>\n        <path d=\"M 37.796875 64.3125 \nL 12.890625 25.390625 \nL 37.796875 25.390625 \nz\nM 35.203125 72.90625 \nL 47.609375 72.90625 \nL 47.609375 25.390625 \nL 58.015625 25.390625 \nL 58.015625 17.1875 \nL 47.609375 17.1875 \nL 47.609375 0 \nL 37.796875 0 \nL 37.796875 17.1875 \nL 4.890625 17.1875 \nL 4.890625 26.703125 \nz\n\" id=\"DejaVuSans-52\"/>\n       </defs>\n       <use xlink:href=\"#DejaVuSans-52\"/>\n       <use x=\"63.623047\" xlink:href=\"#DejaVuSans-48\"/>\n      </g>\n     </g>\n    </g>\n    <g id=\"xtick_4\">\n     <g id=\"line2d_4\">\n      <g>\n       <use style=\"stroke:#000000;stroke-width:0.8;\" x=\"234.985679\" xlink:href=\"#me7054009c1\" y=\"224.64\"/>\n      </g>\n     </g>\n     <g id=\"text_4\">\n      <!-- 60 -->\n      <g transform=\"translate(228.623179 239.238437)scale(0.1 -0.1)\">\n       <defs>\n        <path d=\"M 33.015625 40.375 \nQ 26.375 40.375 22.484375 35.828125 \nQ 18.609375 31.296875 18.609375 23.390625 \nQ 18.609375 15.53125 22.484375 10.953125 \nQ 26.375 6.390625 33.015625 6.390625 \nQ 39.65625 6.390625 43.53125 10.953125 \nQ 47.40625 15.53125 47.40625 23.390625 \nQ 47.40625 31.296875 43.53125 35.828125 \nQ 39.65625 40.375 33.015625 40.375 \nz\nM 52.59375 71.296875 \nL 52.59375 62.3125 \nQ 48.875 64.0625 45.09375 64.984375 \nQ 41.3125 65.921875 37.59375 65.921875 \nQ 27.828125 65.921875 22.671875 59.328125 \nQ 17.53125 52.734375 16.796875 39.40625 \nQ 19.671875 43.65625 24.015625 45.921875 \nQ 28.375 48.1875 33.59375 48.1875 \nQ 44.578125 48.1875 50.953125 41.515625 \nQ 57.328125 34.859375 57.328125 23.390625 \nQ 57.328125 12.15625 50.6875 5.359375 \nQ 44.046875 -1.421875 33.015625 -1.421875 \nQ 20.359375 -1.421875 13.671875 8.265625 \nQ 6.984375 17.96875 6.984375 36.375 \nQ 6.984375 53.65625 15.1875 63.9375 \nQ 23.390625 74.21875 37.203125 74.21875 \nQ 40.921875 74.21875 44.703125 73.484375 \nQ 48.484375 72.75 52.59375 71.296875 \nz\n\" id=\"DejaVuSans-54\"/>\n       </defs>\n       <use xlink:href=\"#DejaVuSans-54\"/>\n       <use x=\"63.623047\" xlink:href=\"#DejaVuSans-48\"/>\n      </g>\n     </g>\n    </g>\n    <g id=\"xtick_5\">\n     <g id=\"line2d_5\">\n      <g>\n       <use style=\"stroke:#000000;stroke-width:0.8;\" x=\"296.473283\" xlink:href=\"#me7054009c1\" y=\"224.64\"/>\n      </g>\n     </g>\n     <g id=\"text_5\">\n      <!-- 80 -->\n      <g transform=\"translate(290.110783 239.238437)scale(0.1 -0.1)\">\n       <defs>\n        <path d=\"M 31.78125 34.625 \nQ 24.75 34.625 20.71875 30.859375 \nQ 16.703125 27.09375 16.703125 20.515625 \nQ 16.703125 13.921875 20.71875 10.15625 \nQ 24.75 6.390625 31.78125 6.390625 \nQ 38.8125 6.390625 42.859375 10.171875 \nQ 46.921875 13.96875 46.921875 20.515625 \nQ 46.921875 27.09375 42.890625 30.859375 \nQ 38.875 34.625 31.78125 34.625 \nz\nM 21.921875 38.8125 \nQ 15.578125 40.375 12.03125 44.71875 \nQ 8.5 49.078125 8.5 55.328125 \nQ 8.5 64.0625 14.71875 69.140625 \nQ 20.953125 74.21875 31.78125 74.21875 \nQ 42.671875 74.21875 48.875 69.140625 \nQ 55.078125 64.0625 55.078125 55.328125 \nQ 55.078125 49.078125 51.53125 44.71875 \nQ 48 40.375 41.703125 38.8125 \nQ 48.828125 37.15625 52.796875 32.3125 \nQ 56.78125 27.484375 56.78125 20.515625 \nQ 56.78125 9.90625 50.3125 4.234375 \nQ 43.84375 -1.421875 31.78125 -1.421875 \nQ 19.734375 -1.421875 13.25 4.234375 \nQ 6.78125 9.90625 6.78125 20.515625 \nQ 6.78125 27.484375 10.78125 32.3125 \nQ 14.796875 37.15625 21.921875 38.8125 \nz\nM 18.3125 54.390625 \nQ 18.3125 48.734375 21.84375 45.5625 \nQ 25.390625 42.390625 31.78125 42.390625 \nQ 38.140625 42.390625 41.71875 45.5625 \nQ 45.3125 48.734375 45.3125 54.390625 \nQ 45.3125 60.0625 41.71875 63.234375 \nQ 38.140625 66.40625 31.78125 66.40625 \nQ 25.390625 66.40625 21.84375 63.234375 \nQ 18.3125 60.0625 18.3125 54.390625 \nz\n\" id=\"DejaVuSans-56\"/>\n       </defs>\n       <use xlink:href=\"#DejaVuSans-56\"/>\n       <use x=\"63.623047\" xlink:href=\"#DejaVuSans-48\"/>\n      </g>\n     </g>\n    </g>\n    <g id=\"xtick_6\">\n     <g id=\"line2d_6\">\n      <g>\n       <use style=\"stroke:#000000;stroke-width:0.8;\" x=\"357.960886\" xlink:href=\"#me7054009c1\" y=\"224.64\"/>\n      </g>\n     </g>\n     <g id=\"text_6\">\n      <!-- 100 -->\n      <g transform=\"translate(348.417136 239.238437)scale(0.1 -0.1)\">\n       <defs>\n        <path d=\"M 12.40625 8.296875 \nL 28.515625 8.296875 \nL 28.515625 63.921875 \nL 10.984375 60.40625 \nL 10.984375 69.390625 \nL 28.421875 72.90625 \nL 38.28125 72.90625 \nL 38.28125 8.296875 \nL 54.390625 8.296875 \nL 54.390625 0 \nL 12.40625 0 \nz\n\" id=\"DejaVuSans-49\"/>\n       </defs>\n       <use xlink:href=\"#DejaVuSans-49\"/>\n       <use x=\"63.623047\" xlink:href=\"#DejaVuSans-48\"/>\n       <use x=\"127.246094\" xlink:href=\"#DejaVuSans-48\"/>\n      </g>\n     </g>\n    </g>\n   </g>\n   <g id=\"matplotlib.axis_2\">\n    <g id=\"ytick_1\">\n     <g id=\"line2d_7\">\n      <defs>\n       <path d=\"M 0 0 \nL -3.5 0 \n\" id=\"me8871b200d\" style=\"stroke:#000000;stroke-width:0.8;\"/>\n      </defs>\n      <g>\n       <use style=\"stroke:#000000;stroke-width:0.8;\" x=\"35.304688\" xlink:href=\"#me8871b200d\" y=\"214.550261\"/>\n      </g>\n     </g>\n     <g id=\"text_7\">\n      <!-- −29 -->\n      <g transform=\"translate(7.2 218.34948)scale(0.1 -0.1)\">\n       <defs>\n        <path d=\"M 10.59375 35.5 \nL 73.1875 35.5 \nL 73.1875 27.203125 \nL 10.59375 27.203125 \nz\n\" id=\"DejaVuSans-8722\"/>\n        <path d=\"M 10.984375 1.515625 \nL 10.984375 10.5 \nQ 14.703125 8.734375 18.5 7.8125 \nQ 22.3125 6.890625 25.984375 6.890625 \nQ 35.75 6.890625 40.890625 13.453125 \nQ 46.046875 20.015625 46.78125 33.40625 \nQ 43.953125 29.203125 39.59375 26.953125 \nQ 35.25 24.703125 29.984375 24.703125 \nQ 19.046875 24.703125 12.671875 31.3125 \nQ 6.296875 37.9375 6.296875 49.421875 \nQ 6.296875 60.640625 12.9375 67.421875 \nQ 19.578125 74.21875 30.609375 74.21875 \nQ 43.265625 74.21875 49.921875 64.515625 \nQ 56.59375 54.828125 56.59375 36.375 \nQ 56.59375 19.140625 48.40625 8.859375 \nQ 40.234375 -1.421875 26.421875 -1.421875 \nQ 22.703125 -1.421875 18.890625 -0.6875 \nQ 15.09375 0.046875 10.984375 1.515625 \nz\nM 30.609375 32.421875 \nQ 37.25 32.421875 41.125 36.953125 \nQ 45.015625 41.5 45.015625 49.421875 \nQ 45.015625 57.28125 41.125 61.84375 \nQ 37.25 66.40625 30.609375 66.40625 \nQ 23.96875 66.40625 20.09375 61.84375 \nQ 16.21875 57.28125 16.21875 49.421875 \nQ 16.21875 41.5 20.09375 36.953125 \nQ 23.96875 32.421875 30.609375 32.421875 \nz\n\" id=\"DejaVuSans-57\"/>\n       </defs>\n       <use xlink:href=\"#DejaVuSans-8722\"/>\n       <use x=\"83.789062\" xlink:href=\"#DejaVuSans-50\"/>\n       <use x=\"147.412109\" xlink:href=\"#DejaVuSans-57\"/>\n      </g>\n     </g>\n    </g>\n    <g id=\"ytick_2\">\n     <g id=\"line2d_8\">\n      <g>\n       <use style=\"stroke:#000000;stroke-width:0.8;\" x=\"35.304688\" xlink:href=\"#me8871b200d\" y=\"188.485224\"/>\n      </g>\n     </g>\n     <g id=\"text_8\">\n      <!-- −28 -->\n      <g transform=\"translate(7.2 192.284443)scale(0.1 -0.1)\">\n       <use xlink:href=\"#DejaVuSans-8722\"/>\n       <use x=\"83.789062\" xlink:href=\"#DejaVuSans-50\"/>\n       <use x=\"147.412109\" xlink:href=\"#DejaVuSans-56\"/>\n      </g>\n     </g>\n    </g>\n    <g id=\"ytick_3\">\n     <g id=\"line2d_9\">\n      <g>\n       <use style=\"stroke:#000000;stroke-width:0.8;\" x=\"35.304688\" xlink:href=\"#me8871b200d\" y=\"162.420187\"/>\n      </g>\n     </g>\n     <g id=\"text_9\">\n      <!-- −27 -->\n      <g transform=\"translate(7.2 166.219406)scale(0.1 -0.1)\">\n       <defs>\n        <path d=\"M 8.203125 72.90625 \nL 55.078125 72.90625 \nL 55.078125 68.703125 \nL 28.609375 0 \nL 18.3125 0 \nL 43.21875 64.59375 \nL 8.203125 64.59375 \nz\n\" id=\"DejaVuSans-55\"/>\n       </defs>\n       <use xlink:href=\"#DejaVuSans-8722\"/>\n       <use x=\"83.789062\" xlink:href=\"#DejaVuSans-50\"/>\n       <use x=\"147.412109\" xlink:href=\"#DejaVuSans-55\"/>\n      </g>\n     </g>\n    </g>\n    <g id=\"ytick_4\">\n     <g id=\"line2d_10\">\n      <g>\n       <use style=\"stroke:#000000;stroke-width:0.8;\" x=\"35.304688\" xlink:href=\"#me8871b200d\" y=\"136.35515\"/>\n      </g>\n     </g>\n     <g id=\"text_10\">\n      <!-- −26 -->\n      <g transform=\"translate(7.2 140.154369)scale(0.1 -0.1)\">\n       <use xlink:href=\"#DejaVuSans-8722\"/>\n       <use x=\"83.789062\" xlink:href=\"#DejaVuSans-50\"/>\n       <use x=\"147.412109\" xlink:href=\"#DejaVuSans-54\"/>\n      </g>\n     </g>\n    </g>\n    <g id=\"ytick_5\">\n     <g id=\"line2d_11\">\n      <g>\n       <use style=\"stroke:#000000;stroke-width:0.8;\" x=\"35.304688\" xlink:href=\"#me8871b200d\" y=\"110.290113\"/>\n      </g>\n     </g>\n     <g id=\"text_11\">\n      <!-- −25 -->\n      <g transform=\"translate(7.2 114.089332)scale(0.1 -0.1)\">\n       <defs>\n        <path d=\"M 10.796875 72.90625 \nL 49.515625 72.90625 \nL 49.515625 64.59375 \nL 19.828125 64.59375 \nL 19.828125 46.734375 \nQ 21.96875 47.46875 24.109375 47.828125 \nQ 26.265625 48.1875 28.421875 48.1875 \nQ 40.625 48.1875 47.75 41.5 \nQ 54.890625 34.8125 54.890625 23.390625 \nQ 54.890625 11.625 47.5625 5.09375 \nQ 40.234375 -1.421875 26.90625 -1.421875 \nQ 22.3125 -1.421875 17.546875 -0.640625 \nQ 12.796875 0.140625 7.71875 1.703125 \nL 7.71875 11.625 \nQ 12.109375 9.234375 16.796875 8.0625 \nQ 21.484375 6.890625 26.703125 6.890625 \nQ 35.15625 6.890625 40.078125 11.328125 \nQ 45.015625 15.765625 45.015625 23.390625 \nQ 45.015625 31 40.078125 35.4375 \nQ 35.15625 39.890625 26.703125 39.890625 \nQ 22.75 39.890625 18.8125 39.015625 \nQ 14.890625 38.140625 10.796875 36.28125 \nz\n\" id=\"DejaVuSans-53\"/>\n       </defs>\n       <use xlink:href=\"#DejaVuSans-8722\"/>\n       <use x=\"83.789062\" xlink:href=\"#DejaVuSans-50\"/>\n       <use x=\"147.412109\" xlink:href=\"#DejaVuSans-53\"/>\n      </g>\n     </g>\n    </g>\n    <g id=\"ytick_6\">\n     <g id=\"line2d_12\">\n      <g>\n       <use style=\"stroke:#000000;stroke-width:0.8;\" x=\"35.304688\" xlink:href=\"#me8871b200d\" y=\"84.225076\"/>\n      </g>\n     </g>\n     <g id=\"text_12\">\n      <!-- −24 -->\n      <g transform=\"translate(7.2 88.024295)scale(0.1 -0.1)\">\n       <use xlink:href=\"#DejaVuSans-8722\"/>\n       <use x=\"83.789062\" xlink:href=\"#DejaVuSans-50\"/>\n       <use x=\"147.412109\" xlink:href=\"#DejaVuSans-52\"/>\n      </g>\n     </g>\n    </g>\n    <g id=\"ytick_7\">\n     <g id=\"line2d_13\">\n      <g>\n       <use style=\"stroke:#000000;stroke-width:0.8;\" x=\"35.304688\" xlink:href=\"#me8871b200d\" y=\"58.160039\"/>\n      </g>\n     </g>\n     <g id=\"text_13\">\n      <!-- −23 -->\n      <g transform=\"translate(7.2 61.959258)scale(0.1 -0.1)\">\n       <defs>\n        <path d=\"M 40.578125 39.3125 \nQ 47.65625 37.796875 51.625 33 \nQ 55.609375 28.21875 55.609375 21.1875 \nQ 55.609375 10.40625 48.1875 4.484375 \nQ 40.765625 -1.421875 27.09375 -1.421875 \nQ 22.515625 -1.421875 17.65625 -0.515625 \nQ 12.796875 0.390625 7.625 2.203125 \nL 7.625 11.71875 \nQ 11.71875 9.328125 16.59375 8.109375 \nQ 21.484375 6.890625 26.8125 6.890625 \nQ 36.078125 6.890625 40.9375 10.546875 \nQ 45.796875 14.203125 45.796875 21.1875 \nQ 45.796875 27.640625 41.28125 31.265625 \nQ 36.765625 34.90625 28.71875 34.90625 \nL 20.21875 34.90625 \nL 20.21875 43.015625 \nL 29.109375 43.015625 \nQ 36.375 43.015625 40.234375 45.921875 \nQ 44.09375 48.828125 44.09375 54.296875 \nQ 44.09375 59.90625 40.109375 62.90625 \nQ 36.140625 65.921875 28.71875 65.921875 \nQ 24.65625 65.921875 20.015625 65.03125 \nQ 15.375 64.15625 9.8125 62.3125 \nL 9.8125 71.09375 \nQ 15.4375 72.65625 20.34375 73.4375 \nQ 25.25 74.21875 29.59375 74.21875 \nQ 40.828125 74.21875 47.359375 69.109375 \nQ 53.90625 64.015625 53.90625 55.328125 \nQ 53.90625 49.265625 50.4375 45.09375 \nQ 46.96875 40.921875 40.578125 39.3125 \nz\n\" id=\"DejaVuSans-51\"/>\n       </defs>\n       <use xlink:href=\"#DejaVuSans-8722\"/>\n       <use x=\"83.789062\" xlink:href=\"#DejaVuSans-50\"/>\n       <use x=\"147.412109\" xlink:href=\"#DejaVuSans-51\"/>\n      </g>\n     </g>\n    </g>\n    <g id=\"ytick_8\">\n     <g id=\"line2d_14\">\n      <g>\n       <use style=\"stroke:#000000;stroke-width:0.8;\" x=\"35.304688\" xlink:href=\"#me8871b200d\" y=\"32.095002\"/>\n      </g>\n     </g>\n     <g id=\"text_14\">\n      <!-- −22 -->\n      <g transform=\"translate(7.2 35.89422)scale(0.1 -0.1)\">\n       <use xlink:href=\"#DejaVuSans-8722\"/>\n       <use x=\"83.789062\" xlink:href=\"#DejaVuSans-50\"/>\n       <use x=\"147.412109\" xlink:href=\"#DejaVuSans-50\"/>\n      </g>\n     </g>\n    </g>\n   </g>\n   <g id=\"line2d_15\">\n    <path clip-path=\"url(#p7a4ed3b6cb)\" d=\"M 50.522869 214.756364 \nL 53.597249 188.047639 \nL 56.67163 161.554504 \nL 59.74601 167.992368 \nL 62.82039 139.427712 \nL 65.89477 137.736897 \nL 68.96915 125.017549 \nL 72.04353 117.673045 \nL 75.117911 129.084714 \nL 78.192291 110.133997 \nL 81.266671 96.034729 \nL 84.341051 78.832668 \nL 87.415431 68.545699 \nL 90.489811 79.4496 \nL 93.564192 66.205524 \nL 96.638572 50.896412 \nL 99.712952 44.035815 \nL 102.787332 45.721962 \nL 105.861712 53.2233 \nL 108.936092 71.303814 \nL 112.010473 78.806161 \nL 115.084853 97.273152 \nL 118.159233 72.491067 \nL 121.233613 56.46817 \nL 124.307993 39.608475 \nL 127.382373 29.378604 \nL 130.456754 35.826611 \nL 133.531134 42.801039 \nL 136.605514 36.646515 \nL 139.679894 31.217872 \nL 142.754274 27.27163 \nL 145.828654 30.091332 \nL 148.903035 34.561899 \nL 151.977415 29.300314 \nL 155.051795 42.686349 \nL 158.126175 65.206479 \nL 161.200555 30.742238 \nL 164.274935 45.033051 \nL 167.349316 37.31022 \nL 170.423696 44.401408 \nL 173.498076 49.341824 \nL 176.572456 40.668988 \nL 179.646836 17.083636 \nL 182.721216 28.952883 \nL 185.795597 24.500568 \nL 188.869977 46.563386 \nL 191.944357 61.818891 \nL 195.018737 68.011723 \nL 198.093117 68.469256 \nL 201.167497 78.554829 \nL 204.241878 78.458091 \nL 207.316258 70.610575 \nL 210.390638 69.758918 \nL 213.465018 79.535001 \nL 216.539398 73.703649 \nL 219.613778 72.424599 \nL 222.688159 58.35521 \nL 225.762539 43.669544 \nL 228.836919 54.521101 \nL 231.911299 46.175853 \nL 234.985679 34.750283 \nL 238.060059 25.649861 \nL 241.13444 39.770432 \nL 244.20882 37.128491 \nL 247.2832 41.335127 \nL 250.35758 36.289666 \nL 253.43196 40.612331 \nL 256.50634 31.973797 \nL 259.580721 35.779133 \nL 262.655101 39.08849 \nL 265.729481 46.249034 \nL 268.803861 39.304187 \nL 271.878241 36.257255 \nL 274.952621 50.626913 \nL 278.027002 44.098702 \nL 281.101382 50.48854 \nL 284.175762 65.921497 \nL 287.250142 60.948215 \nL 290.324522 53.28183 \nL 293.398902 59.684348 \nL 296.473283 50.05778 \nL 299.547663 48.614194 \nL 302.622043 45.041678 \nL 305.696423 42.317392 \nL 308.770803 46.687393 \nL 311.845183 65.125545 \nL 314.919564 51.501427 \nL 317.993944 80.710081 \nL 321.068324 73.946829 \nL 324.142704 71.533111 \nL 327.217084 50.48774 \nL 330.291464 56.555573 \nL 333.365845 41.691237 \nL 336.440225 55.884975 \nL 339.514605 74.190918 \nL 342.588985 68.072579 \nL 345.663365 78.774275 \nL 348.737745 66.351158 \nL 351.812126 67.908387 \nL 354.886506 83.889522 \n\" style=\"fill:none;stroke:#1f77b4;stroke-linecap:square;stroke-width:1.5;\"/>\n   </g>\n   <g id=\"patch_3\">\n    <path d=\"M 35.304688 224.64 \nL 35.304688 7.2 \n\" style=\"fill:none;stroke:#000000;stroke-linecap:square;stroke-linejoin:miter;stroke-width:0.8;\"/>\n   </g>\n   <g id=\"patch_4\">\n    <path d=\"M 370.104688 224.64 \nL 370.104688 7.2 \n\" style=\"fill:none;stroke:#000000;stroke-linecap:square;stroke-linejoin:miter;stroke-width:0.8;\"/>\n   </g>\n   <g id=\"patch_5\">\n    <path d=\"M 35.304688 224.64 \nL 370.104688 224.64 \n\" style=\"fill:none;stroke:#000000;stroke-linecap:square;stroke-linejoin:miter;stroke-width:0.8;\"/>\n   </g>\n   <g id=\"patch_6\">\n    <path d=\"M 35.304688 7.2 \nL 370.104688 7.2 \n\" style=\"fill:none;stroke:#000000;stroke-linecap:square;stroke-linejoin:miter;stroke-width:0.8;\"/>\n   </g>\n  </g>\n </g>\n <defs>\n  <clipPath id=\"p7a4ed3b6cb\">\n   <rect height=\"217.44\" width=\"334.8\" x=\"35.304688\" y=\"7.2\"/>\n  </clipPath>\n </defs>\n</svg>\n",
      "image/png": "[encoded data removed]"
     },
     "metadata": {
      "needs_background": "light"
     }
    }
   ],
   "source": [
    "plt.plot(log)\n",
    "plt.show()"
   ]
  },
  {
   "cell_type": "code",
   "execution_count": 8,
   "metadata": {},
   "outputs": [],
   "source": [
    "\n",
    "edge_list = defaultdict(lambda:{})\n",
    "for edge in cgraph.edges:\n",
    "    if graph.edges[edge]['weight'] > 0 and cgraph.nodes[edge[0]]['type'] != 'worker' and cgraph.nodes[edge[0]]['type'] != 'worker':\n",
    "        edge_list[edge[0]][edge[1]] = graph.edges[edge]['weight']\n",
    "        edge_list[edge[1]][edge[0]] = graph.edges[edge]['weight']\n",
    "#print(edge_list)\n",
    "\n",
    "worker = {node:{} for node in cwgraph.nodes() if cwgraph.nodes[node]['type']=='worker'}\n",
    "\n"
   ]
  },
  {
   "cell_type": "code",
   "execution_count": 47,
   "metadata": {},
   "outputs": [],
   "source": [
    "\n",
    "def euc_tri(worker, underflow, overflow, graph):\n",
    "    worker_data = graph.nodes[worker]\n",
    "    underflow_data = graph.nodes[underflow]\n",
    "    overflow_data = graph.nodes[overflow]\n",
    "    return euc_dis(worker_data['xe'],worker_data['ye'],underflow_data['x'],underflow_data['y']) + euc_dis(worker_data['xs'],worker_data['ys'],overflow_data['x'],overflow_data['y']) + euc_dis(underflow_data['x'],underflow_data['y'],overflow_data['x'],overflow_data['y'])\n",
    "\n",
    "def matching_score(matching,graph):\n",
    "    triplets = []\n",
    "    finished = {}\n",
    "    for u1 in matching.keys():\n",
    "        temp = {}\n",
    "        if type(u1)==str:\n",
    "            u2 = matching[u1]\n",
    "            u1,u3 = u1.split('|')\n",
    "        else:\n",
    "            u2 = matching[u1]\n",
    "            u2,u3 = u2.split('|')\n",
    "        temp[graph.nodes[u1]['type']] = u1\n",
    "        temp[graph.nodes[u2]['type']] = u2\n",
    "        temp[graph.nodes[u3]['type']] = u3\n",
    "        triplets.append(temp)\n",
    "    w = 0\n",
    "    for i in triplets:\n",
    "        w += euc_tri(i['worker'],i['underflow'],i['overflow'],graph)\n",
    "    return triplets,w\n"
   ]
  },
  {
   "cell_type": "code",
   "execution_count": 50,
   "metadata": {},
   "outputs": [
    {
     "output_type": "stream",
     "name": "stdout",
     "text": [
      "{'Cadman Plaza West & Montague St|Forsyth St & Broome St': 21, 'Greenwich St & W Houston St|E 58 St & 3 Ave': 2, 'Catherine St & Monroe St|10 Ave & W 28 St': 6, 'E 7 St & Avenue A|9 Ave & W 22 St': 16, '8 Ave & W 31 St N|E 4 St & 2 Ave': 4, 'W 22 St & 10 Ave|Ashland Pl & Hanson Pl': 15, 'Shevchenko Pl & E 7 St|Allen St & Stanton St': 19, 'E 20 St & 2 Ave|W 54 St & 9 Ave': 1, '9 Ave & W 18 St|Pershing Square South': 18, 'Allen St & Rivington St|Lafayette St & E 8 St': 5, '8 Ave & W 31 St N2|Broadway & W 29 St': 14, 'Pershing Square North|E 31 St & 3 Ave': 17, 'W 37 St & 10 Ave|DeKalb Ave & S Portland Ave': 3, '8 Ave & W 31 St N1|Murray St & West St': 10, 'University Pl & E 14 St|W 26 St & 8 Ave': 8, 'E 6 St & Avenue B|Atlantic Ave & Fort Greene Pl': 12, 'Clermont Ave & Lafayette Ave|Broadway & W 24 St': 11, 'St Marks Pl & 2 Ave|W 13 St & 7 Ave': 9, '9 Ave & W 18 St1|9 Ave & W 14 St': 13, 'W 13 St & 6 Ave|W 22 St & 8 Ave': 0, 'Mercer St & Spring St|E 10 St & Avenue A': 7, 'Washington Park|Cleveland Pl & Spring St': 20, 21: 'Cadman Plaza West & Montague St|Forsyth St & Broome St', 2: 'Greenwich St & W Houston St|E 58 St & 3 Ave', 6: 'Catherine St & Monroe St|10 Ave & W 28 St', 16: 'E 7 St & Avenue A|9 Ave & W 22 St', 4: '8 Ave & W 31 St N|E 4 St & 2 Ave', 15: 'W 22 St & 10 Ave|Ashland Pl & Hanson Pl', 19: 'Shevchenko Pl & E 7 St|Allen St & Stanton St', 1: 'E 20 St & 2 Ave|W 54 St & 9 Ave', 18: '9 Ave & W 18 St|Pershing Square South', 5: 'Allen St & Rivington St|Lafayette St & E 8 St', 14: '8 Ave & W 31 St N2|Broadway & W 29 St', 17: 'Pershing Square North|E 31 St & 3 Ave', 3: 'W 37 St & 10 Ave|DeKalb Ave & S Portland Ave', 10: '8 Ave & W 31 St N1|Murray St & West St', 8: 'University Pl & E 14 St|W 26 St & 8 Ave', 12: 'E 6 St & Avenue B|Atlantic Ave & Fort Greene Pl', 11: 'Clermont Ave & Lafayette Ave|Broadway & W 24 St', 9: 'St Marks Pl & 2 Ave|W 13 St & 7 Ave', 13: '9 Ave & W 18 St1|9 Ave & W 14 St', 0: 'W 13 St & 6 Ave|W 22 St & 8 Ave', 7: 'Mercer St & Spring St|E 10 St & Avenue A', 20: 'Washington Park|Cleveland Pl & Spring St'}\n"
     ]
    },
    {
     "output_type": "execute_result",
     "data": {
      "text/plain": [
       "([{'overflow': 'Cadman Plaza West & Montague St',\n",
       "   'worker': 21,\n",
       "   'underflow': 'Forsyth St & Broome St'},\n",
       "  {'overflow': 'Greenwich St & W Houston St',\n",
       "   'worker': 2,\n",
       "   'underflow': 'E 58 St & 3 Ave'},\n",
       "  {'overflow': 'Catherine St & Monroe St',\n",
       "   'worker': 6,\n",
       "   'underflow': '10 Ave & W 28 St'},\n",
       "  {'overflow': 'E 7 St & Avenue A',\n",
       "   'worker': 16,\n",
       "   'underflow': '9 Ave & W 22 St'},\n",
       "  {'overflow': '8 Ave & W 31 St N',\n",
       "   'worker': 4,\n",
       "   'underflow': 'E 4 St & 2 Ave'},\n",
       "  {'overflow': 'W 22 St & 10 Ave',\n",
       "   'worker': 15,\n",
       "   'underflow': 'Ashland Pl & Hanson Pl'},\n",
       "  {'overflow': 'Shevchenko Pl & E 7 St',\n",
       "   'worker': 19,\n",
       "   'underflow': 'Allen St & Stanton St'},\n",
       "  {'overflow': 'E 20 St & 2 Ave', 'worker': 1, 'underflow': 'W 54 St & 9 Ave'},\n",
       "  {'overflow': '9 Ave & W 18 St',\n",
       "   'worker': 18,\n",
       "   'underflow': 'Pershing Square South'},\n",
       "  {'overflow': 'Allen St & Rivington St',\n",
       "   'worker': 5,\n",
       "   'underflow': 'Lafayette St & E 8 St'},\n",
       "  {'overflow': '8 Ave & W 31 St N2',\n",
       "   'worker': 14,\n",
       "   'underflow': 'Broadway & W 29 St'},\n",
       "  {'overflow': 'Pershing Square North',\n",
       "   'worker': 17,\n",
       "   'underflow': 'E 31 St & 3 Ave'},\n",
       "  {'overflow': 'W 37 St & 10 Ave',\n",
       "   'worker': 3,\n",
       "   'underflow': 'DeKalb Ave & S Portland Ave'},\n",
       "  {'overflow': '8 Ave & W 31 St N1',\n",
       "   'worker': 10,\n",
       "   'underflow': 'Murray St & West St'},\n",
       "  {'overflow': 'University Pl & E 14 St',\n",
       "   'worker': 8,\n",
       "   'underflow': 'W 26 St & 8 Ave'},\n",
       "  {'overflow': 'E 6 St & Avenue B',\n",
       "   'worker': 12,\n",
       "   'underflow': 'Atlantic Ave & Fort Greene Pl'},\n",
       "  {'overflow': 'Clermont Ave & Lafayette Ave',\n",
       "   'worker': 11,\n",
       "   'underflow': 'Broadway & W 24 St'},\n",
       "  {'overflow': 'St Marks Pl & 2 Ave',\n",
       "   'worker': 9,\n",
       "   'underflow': 'W 13 St & 7 Ave'},\n",
       "  {'overflow': '9 Ave & W 18 St1',\n",
       "   'worker': 13,\n",
       "   'underflow': '9 Ave & W 14 St'},\n",
       "  {'overflow': 'W 13 St & 6 Ave', 'worker': 0, 'underflow': 'W 22 St & 8 Ave'},\n",
       "  {'overflow': 'Mercer St & Spring St',\n",
       "   'worker': 7,\n",
       "   'underflow': 'E 10 St & Avenue A'},\n",
       "  {'overflow': 'Washington Park',\n",
       "   'worker': 20,\n",
       "   'underflow': 'Cleveland Pl & Spring St'},\n",
       "  {'worker': 21,\n",
       "   'overflow': 'Cadman Plaza West & Montague St',\n",
       "   'underflow': 'Forsyth St & Broome St'},\n",
       "  {'worker': 2,\n",
       "   'overflow': 'Greenwich St & W Houston St',\n",
       "   'underflow': 'E 58 St & 3 Ave'},\n",
       "  {'worker': 6,\n",
       "   'overflow': 'Catherine St & Monroe St',\n",
       "   'underflow': '10 Ave & W 28 St'},\n",
       "  {'worker': 16,\n",
       "   'overflow': 'E 7 St & Avenue A',\n",
       "   'underflow': '9 Ave & W 22 St'},\n",
       "  {'worker': 4,\n",
       "   'overflow': '8 Ave & W 31 St N',\n",
       "   'underflow': 'E 4 St & 2 Ave'},\n",
       "  {'worker': 15,\n",
       "   'overflow': 'W 22 St & 10 Ave',\n",
       "   'underflow': 'Ashland Pl & Hanson Pl'},\n",
       "  {'worker': 19,\n",
       "   'overflow': 'Shevchenko Pl & E 7 St',\n",
       "   'underflow': 'Allen St & Stanton St'},\n",
       "  {'worker': 1, 'overflow': 'E 20 St & 2 Ave', 'underflow': 'W 54 St & 9 Ave'},\n",
       "  {'worker': 18,\n",
       "   'overflow': '9 Ave & W 18 St',\n",
       "   'underflow': 'Pershing Square South'},\n",
       "  {'worker': 5,\n",
       "   'overflow': 'Allen St & Rivington St',\n",
       "   'underflow': 'Lafayette St & E 8 St'},\n",
       "  {'worker': 14,\n",
       "   'overflow': '8 Ave & W 31 St N2',\n",
       "   'underflow': 'Broadway & W 29 St'},\n",
       "  {'worker': 17,\n",
       "   'overflow': 'Pershing Square North',\n",
       "   'underflow': 'E 31 St & 3 Ave'},\n",
       "  {'worker': 3,\n",
       "   'overflow': 'W 37 St & 10 Ave',\n",
       "   'underflow': 'DeKalb Ave & S Portland Ave'},\n",
       "  {'worker': 10,\n",
       "   'overflow': '8 Ave & W 31 St N1',\n",
       "   'underflow': 'Murray St & West St'},\n",
       "  {'worker': 8,\n",
       "   'overflow': 'University Pl & E 14 St',\n",
       "   'underflow': 'W 26 St & 8 Ave'},\n",
       "  {'worker': 12,\n",
       "   'overflow': 'E 6 St & Avenue B',\n",
       "   'underflow': 'Atlantic Ave & Fort Greene Pl'},\n",
       "  {'worker': 11,\n",
       "   'overflow': 'Clermont Ave & Lafayette Ave',\n",
       "   'underflow': 'Broadway & W 24 St'},\n",
       "  {'worker': 9,\n",
       "   'overflow': 'St Marks Pl & 2 Ave',\n",
       "   'underflow': 'W 13 St & 7 Ave'},\n",
       "  {'worker': 13,\n",
       "   'overflow': '9 Ave & W 18 St1',\n",
       "   'underflow': '9 Ave & W 14 St'},\n",
       "  {'worker': 0, 'overflow': 'W 13 St & 6 Ave', 'underflow': 'W 22 St & 8 Ave'},\n",
       "  {'worker': 7,\n",
       "   'overflow': 'Mercer St & Spring St',\n",
       "   'underflow': 'E 10 St & Avenue A'},\n",
       "  {'worker': 20,\n",
       "   'overflow': 'Washington Park',\n",
       "   'underflow': 'Cleveland Pl & Spring St'}],\n",
       " 42.28715861734697)"
      ]
     },
     "metadata": {},
     "execution_count": 50
    }
   ],
   "source": [
    "\n",
    "matching = bipartite.matching.minimum_weight_full_matching(cgraph)\n",
    "spwgraph =nx.Graph()\n",
    "for key in matching.keys():\n",
    "    if cgraph.nodes[key]['type'] =='overflow':\n",
    "        for w, worker_ in enumerate(worker):\n",
    "            spwgraph.add_edge((key+'|'+matching[key]),w,\n",
    "                              weight=cgraph.edges[key, matching[key]]['weight']+\n",
    "                             euc_dis(cwgraph.nodes[worker_]['xs'],cwgraph.nodes[worker_]['ys'],cgraph.nodes[key]['x'],cgraph.nodes[key]['y']) +\n",
    "                             euc_dis(cwgraph.nodes[worker_]['xe'],cwgraph.nodes[worker_]['ye'],cgraph.nodes[matching[key]]['x'],cgraph.nodes[matching[key]]['y'])\n",
    "                                         )\n",
    "matching2 = bipartite.matching.minimum_weight_full_matching(spwgraph)\n",
    "#print(matching2)\n",
    "matching_score(matching2,cwgraph)\n"
   ]
  },
  {
   "cell_type": "code",
   "execution_count": null,
   "metadata": {},
   "outputs": [],
   "source": []
  },
  {
   "cell_type": "code",
   "execution_count": null,
   "metadata": {},
   "outputs": [],
   "source": []
  }
 ],
 "metadata": {
  "kernelspec": {
   "name": "python3",
   "display_name": "Python 3.8.5 64-bit ('anaconda3': virtualenv)"
  },
  "language_info": {
   "codemirror_mode": {
    "name": "ipython",
    "version": 3
   },
   "file_extension": ".py",
   "mimetype": "text/x-python",
   "name": "python",
   "nbconvert_exporter": "python",
   "pygments_lexer": "ipython3",
   "version": "3.8.5"
  },
  "interpreter": {
   "hash": "7b075df4f4e27b25c6fb358d93914fe9d599b3558fd08d496857a3ce92e80af5"
  }
 },
 "nbformat": 4,
 "nbformat_minor": 4
}