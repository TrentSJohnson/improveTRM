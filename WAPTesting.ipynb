{
 "cells": [
  {
   "cell_type": "code",
   "execution_count": 8,
   "metadata": {},
   "outputs": [],
   "source": [
    "import numpy as np\n",
    "import pandas as pd\n",
    "from datetime import datetime\n",
    "import networkx as nx\n",
    "from scipy.special import softmax\n",
    "from tqdm import tqdm\n",
    "from random import shuffle\n",
    "import copy\n",
    "from collections import defaultdict\n",
    "from networkx.algorithms import bipartite\n",
    "import matplotlib.pyplot as plt"
   ]
  },
  {
   "cell_type": "code",
   "execution_count": 9,
   "metadata": {},
   "outputs": [
    {
     "output_type": "execute_result",
     "data": {
      "text/plain": [
       "   tripduration            starttime             stoptime  start station id  \\\n",
       "0           695  2013-06-01 00:00:01  2013-06-01 00:11:36               444   \n",
       "1           693  2013-06-01 00:00:08  2013-06-01 00:11:41               444   \n",
       "2          2059  2013-06-01 00:00:44  2013-06-01 00:35:03               406   \n",
       "3           123  2013-06-01 00:01:04  2013-06-01 00:03:07               475   \n",
       "4          1521  2013-06-01 00:01:22  2013-06-01 00:26:43              2008   \n",
       "\n",
       "       start station name  start station latitude  start station longitude  \\\n",
       "0      Broadway & W 24 St               40.742354               -73.989151   \n",
       "1      Broadway & W 24 St               40.742354               -73.989151   \n",
       "2  Hicks St & Montague St               40.695128               -73.995951   \n",
       "3     E 15 St & Irving Pl               40.735243               -73.987586   \n",
       "4   Little West St & 1 Pl               40.705693               -74.016777   \n",
       "\n",
       "   end station id        end station name  end station latitude  \\\n",
       "0           434.0         9 Ave & W 18 St             40.743174   \n",
       "1           434.0         9 Ave & W 18 St             40.743174   \n",
       "2           406.0  Hicks St & Montague St             40.695128   \n",
       "3           262.0         Washington Park             40.691782   \n",
       "4           310.0     State St & Smith St             40.689269   \n",
       "\n",
       "   end station longitude  bikeid    usertype  birth year  gender  \n",
       "0             -74.003664   19678  Subscriber      1983.0       1  \n",
       "1             -74.003664   16649  Subscriber      1984.0       1  \n",
       "2             -73.995951   19599    Customer         NaN       0  \n",
       "3             -73.973730   16352  Subscriber      1960.0       1  \n",
       "4             -73.989129   15567  Subscriber      1983.0       1  "
      ],
      "text/html": "<div>\n<style scoped>\n    .dataframe tbody tr th:only-of-type {\n        vertical-align: middle;\n    }\n\n    .dataframe tbody tr th {\n        vertical-align: top;\n    }\n\n    .dataframe thead th {\n        text-align: right;\n    }\n</style>\n<table border=\"1\" class=\"dataframe\">\n  <thead>\n    <tr style=\"text-align: right;\">\n      <th></th>\n      <th>tripduration</th>\n      <th>starttime</th>\n      <th>stoptime</th>\n      <th>start station id</th>\n      <th>start station name</th>\n      <th>start station latitude</th>\n      <th>start station longitude</th>\n      <th>end station id</th>\n      <th>end station name</th>\n      <th>end station latitude</th>\n      <th>end station longitude</th>\n      <th>bikeid</th>\n      <th>usertype</th>\n      <th>birth year</th>\n      <th>gender</th>\n    </tr>\n  </thead>\n  <tbody>\n    <tr>\n      <th>0</th>\n      <td>695</td>\n      <td>2013-06-01 00:00:01</td>\n      <td>2013-06-01 00:11:36</td>\n      <td>444</td>\n      <td>Broadway &amp; W 24 St</td>\n      <td>40.742354</td>\n      <td>-73.989151</td>\n      <td>434.0</td>\n      <td>9 Ave &amp; W 18 St</td>\n      <td>40.743174</td>\n      <td>-74.003664</td>\n      <td>19678</td>\n      <td>Subscriber</td>\n      <td>1983.0</td>\n      <td>1</td>\n    </tr>\n    <tr>\n      <th>1</th>\n      <td>693</td>\n      <td>2013-06-01 00:00:08</td>\n      <td>2013-06-01 00:11:41</td>\n      <td>444</td>\n      <td>Broadway &amp; W 24 St</td>\n      <td>40.742354</td>\n      <td>-73.989151</td>\n      <td>434.0</td>\n      <td>9 Ave &amp; W 18 St</td>\n      <td>40.743174</td>\n      <td>-74.003664</td>\n      <td>16649</td>\n      <td>Subscriber</td>\n      <td>1984.0</td>\n      <td>1</td>\n    </tr>\n    <tr>\n      <th>2</th>\n      <td>2059</td>\n      <td>2013-06-01 00:00:44</td>\n      <td>2013-06-01 00:35:03</td>\n      <td>406</td>\n      <td>Hicks St &amp; Montague St</td>\n      <td>40.695128</td>\n      <td>-73.995951</td>\n      <td>406.0</td>\n      <td>Hicks St &amp; Montague St</td>\n      <td>40.695128</td>\n      <td>-73.995951</td>\n      <td>19599</td>\n      <td>Customer</td>\n      <td>NaN</td>\n      <td>0</td>\n    </tr>\n    <tr>\n      <th>3</th>\n      <td>123</td>\n      <td>2013-06-01 00:01:04</td>\n      <td>2013-06-01 00:03:07</td>\n      <td>475</td>\n      <td>E 15 St &amp; Irving Pl</td>\n      <td>40.735243</td>\n      <td>-73.987586</td>\n      <td>262.0</td>\n      <td>Washington Park</td>\n      <td>40.691782</td>\n      <td>-73.973730</td>\n      <td>16352</td>\n      <td>Subscriber</td>\n      <td>1960.0</td>\n      <td>1</td>\n    </tr>\n    <tr>\n      <th>4</th>\n      <td>1521</td>\n      <td>2013-06-01 00:01:22</td>\n      <td>2013-06-01 00:26:43</td>\n      <td>2008</td>\n      <td>Little West St &amp; 1 Pl</td>\n      <td>40.705693</td>\n      <td>-74.016777</td>\n      <td>310.0</td>\n      <td>State St &amp; Smith St</td>\n      <td>40.689269</td>\n      <td>-73.989129</td>\n      <td>15567</td>\n      <td>Subscriber</td>\n      <td>1983.0</td>\n      <td>1</td>\n    </tr>\n  </tbody>\n</table>\n</div>"
     },
     "metadata": {},
     "execution_count": 9
    }
   ],
   "source": [
    "data = pd.read_csv('nyc_citi.csv')\n",
    "data = data.loc[[type(i)==str for i in data['start station name']]]\n",
    "data = data.loc[[type(i)==str for i in data['end station name']]]\n",
    "data.head()"
   ]
  },
  {
   "cell_type": "code",
   "execution_count": 10,
   "metadata": {},
   "outputs": [
    {
     "output_type": "stream",
     "name": "stdout",
     "text": [
      "(559644, 15)\n"
     ]
    }
   ],
   "source": [
    "data.starttime=data.starttime.apply(lambda x: datetime.strptime(x,\"%Y-%m-%d %H:%M:%S\"))\n",
    "data.stoptime=data.stoptime.apply(lambda x: datetime.strptime(x,\"%Y-%m-%d %H:%M:%S\"))\n",
    "print(data.shape)"
   ]
  },
  {
   "cell_type": "code",
   "execution_count": 13,
   "metadata": {},
   "outputs": [],
   "source": [
    "def euc_dis(x1,y1,x2,y2):\n",
    "    return ((x1-x2)**2+(y1-y2)**2)**.5"
   ]
  },
  {
   "cell_type": "code",
   "execution_count": 14,
   "metadata": {},
   "outputs": [],
   "source": [
    "def build_station_graph(data,starttime,stoptime):\n",
    "    graphx=nx.Graph()\n",
    "    filtered_data = data[(data['starttime']>=starttime) & (data['stoptime']<=stoptime)]\n",
    "    locations = list(set(filtered_data['start station name']).union(filtered_data['end station name']))\n",
    "    vertices = pd.Series([{}]*len(locations),index=locations)\n",
    "    for loc in locations:\n",
    "        vertices[loc] = {'change':0,'x':np.random.random(),'y':np.random.random(),'type':''}\n",
    "        \n",
    "    for i in filtered_data['start station name']:\n",
    "        vertices[i]['change'] -= 1\n",
    "    for i in filtered_data['end station name']:\n",
    "        vertices[i]['change'] += 1\n",
    "    for loc in locations:\n",
    "        if vertices[loc]['change'] > 0:\n",
    "            vertices[loc]['type'] = 'overflow'\n",
    "        if vertices[loc]['change'] < 0:\n",
    "            vertices[loc]['type'] = 'underflow'\n",
    "    vertices = vertices.loc[[x['type'] != '' for x in vertices]]\n",
    "    for vertex in vertices.index:\n",
    "        graphx.add_node(vertex,bipartite=int(vertices[vertex]['type']=='overflow'))\n",
    "    #print(vertices)\n",
    "    nx.set_node_attributes(graphx, {i: vertices[i] for i in vertices.index}) \n",
    "    for i in range(len(vertices.index)-1):\n",
    "        for j in range(len(vertices.index[i:])):\n",
    "            if vertices[vertices.index[i]]['type'] != vertices[vertices.index[j]]['type']:\n",
    "                x1=vertices[vertices.index[i]]['x']\n",
    "                y1=vertices[vertices.index[i]]['y']\n",
    "                x2=vertices[vertices.index[j]]['x']\n",
    "                y2=vertices[vertices.index[j]]['y']\n",
    "                graphx.add_weighted_edges_from([(vertices.index[i],vertices.index[j],euc_dis(x1,y1,x2,y2))])\n",
    "    return graphx\n",
    "\n",
    "def cloned_station_vertices(graphx):\n",
    "    nodes = list(graphx.nodes())\n",
    "    for node in nodes:\n",
    "        if graphx.nodes[node]['change']>1:\n",
    "            for i in range(graphx.nodes[node]['change']-1):\n",
    "                i = i+1\n",
    "                graphx.add_nodes_from([(str(node)+str(i),graphx.nodes[node])],bipartite=int(graphx.nodes[node]['type']=='underflow'))\n",
    "                #print(graphx[str(node)+str(i)])\n",
    "                new_node_name = str(node)+str(i)\n",
    "                new_node_data = graphx.nodes[new_node_name]\n",
    "                for node_ in graphx.nodes:\n",
    "                    if np.sign(new_node_data['change']) != np.sign(graphx.nodes[node_]['change']):\n",
    "                        x1=new_node_data['x']\n",
    "                        y1=new_node_data['y']\n",
    "                        x2=graphx.nodes[node_]['x']\n",
    "                        y2=graphx.nodes[node_]['y']\n",
    "                        graphx.add_weighted_edges_from([(node_,new_node_name,euc_dis(x1,y1,x2,y2))])\n",
    "    return graphx\n",
    "                \n",
    "\n",
    "\n",
    "                    \n",
    "            "
   ]
  },
  {
   "cell_type": "code",
   "execution_count": 16,
   "metadata": {},
   "outputs": [
    {
     "output_type": "stream",
     "name": "stdout",
     "text": [
      "['DeKalb Ave & S Portland Ave', 'W 13 St & 7 Ave', 'W 54 St & 9 Ave', 'E 58 St & 3 Ave', '10 Ave & W 28 St', 'Cadman Plaza West & Montague St', 'Atlantic Ave & Fort Greene Pl', '8 Ave & W 31 St N', 'Shevchenko Pl & E 7 St', 'Washington Park', 'Ashland Pl & Hanson Pl', 'W 37 St & 5 Ave', 'Pershing Square South', 'Fulton St & Grand Ave', 'Murray St & West St', 'Catherine St & Monroe St', 'E 10 St & Avenue A', 'Allen St & Rivington St', 'W 37 St & 10 Ave', 'Lafayette St & E 8 St', 'Forsyth St & Broome St', 'Suffolk St & Stanton St', 'Broadway & W 24 St', 'W 22 St & 8 Ave', 'Mercer St & Spring St', 'E 20 St & 2 Ave', 'Cleveland Pl & Spring St', 'W 22 St & 10 Ave', '9 Ave & W 18 St', '9 Ave & W 22 St', 'Greenwich St & W Houston St', 'University Pl & E 14 St', 'E 31 St & 3 Ave', 'E 6 St & Avenue B', 'St Marks Pl & 2 Ave', 'Pike St & E Broadway', 'Clermont Ave & Lafayette Ave', 'W 26 St & 8 Ave', 'E 4 St & 2 Ave', '9 Ave & W 14 St', 'Allen St & Stanton St', 'Pershing Square North', 'Christopher St & Greenwich St', 'E 7 St & Avenue A', 'W 13 St & 6 Ave', 'Broadway & W 29 St', '8 Ave & W 31 St N1', '8 Ave & W 31 St N2', '9 Ave & W 18 St1']\n['DeKalb Ave & S Portland Ave', 'W 13 St & 7 Ave', 'W 54 St & 9 Ave', 'E 58 St & 3 Ave', '10 Ave & W 28 St', 'Cadman Plaza West & Montague St', 'Atlantic Ave & Fort Greene Pl', '8 Ave & W 31 St N', 'Shevchenko Pl & E 7 St', 'Washington Park', 'Ashland Pl & Hanson Pl', 'W 37 St & 5 Ave', 'Pershing Square South', 'Fulton St & Grand Ave', 'Murray St & West St', 'Catherine St & Monroe St', 'E 10 St & Avenue A', 'Allen St & Rivington St', 'W 37 St & 10 Ave', 'Lafayette St & E 8 St', 'Forsyth St & Broome St', 'Suffolk St & Stanton St', 'Broadway & W 24 St', 'W 22 St & 8 Ave', 'Mercer St & Spring St', 'E 20 St & 2 Ave', 'Cleveland Pl & Spring St', 'W 22 St & 10 Ave', '9 Ave & W 18 St', '9 Ave & W 22 St', 'Greenwich St & W Houston St', 'University Pl & E 14 St', 'E 31 St & 3 Ave', 'E 6 St & Avenue B', 'St Marks Pl & 2 Ave', 'Pike St & E Broadway', 'Clermont Ave & Lafayette Ave', 'W 26 St & 8 Ave', 'E 4 St & 2 Ave', '9 Ave & W 14 St', 'Allen St & Stanton St', 'Pershing Square North', 'Christopher St & Greenwich St', 'E 7 St & Avenue A', 'W 13 St & 6 Ave', 'Broadway & W 29 St', '8 Ave & W 31 St N1', '8 Ave & W 31 St N2', '9 Ave & W 18 St1', 0, 1, 2, 3, 4, 5, 6, 7, 8, 9, 10, 11, 12, 13, 14, 15, 16, 17, 18, 19, 20, 21]\n{'type': 'worker', 'xs': 0.5273313612283754, 'ys': 0.4738814457054259, 'xe': 0.8240891451207255, 'ye': 0.8063195031022615}\n"
     ]
    }
   ],
   "source": [
    "graph = build_station_graph(data,data.loc[0,'starttime'],data.loc[10,'stoptime'])\n",
    "#print(graph['E 6 St & Avenue D'])\n",
    "overflow = {node:{} for node in graph.nodes() if graph.nodes[node]['type']=='overflow'}\n",
    "underflow = {node:{} for node in graph.nodes() if graph.nodes[node]['type']=='underflow'}\n",
    "\n",
    "\n",
    "cgraph = cloned_station_vertices(graph)\n",
    "workers = {i:{\n",
    "                'type':'worker',\n",
    "               'xs':np.random.random(),\n",
    "               'ys':np.random.random(),\n",
    "               'xe':np.random.random(),\n",
    "               'ye':np.random.random()\n",
    "              } for i in range(np.min([len(underflow), len(overflow)]))}\n",
    "cwgraph = cgraph.copy()\n",
    "print(cwgraph.nodes)\n",
    "cwgraph.add_nodes_from(range(len(workers)))\n",
    "nx.set_node_attributes(cwgraph, workers) \n",
    "cwgraph.add_edges_from([(w,s) for w in workers for s in cgraph.nodes ])\n",
    "print(cwgraph.nodes)\n",
    "print(cwgraph.nodes[1])"
   ]
  },
  {
   "cell_type": "code",
   "execution_count": 18,
   "metadata": {},
   "outputs": [],
   "source": [
    "\n",
    "class UGA:\n",
    "    def __init__(self,meta_graph):\n",
    "        self.meta_graph = meta_graph\n",
    "        self.overflow = [node for node in meta_graph.nodes() if meta_graph.nodes[node]['type'] == 'overflow']\n",
    "        self.worker = [node for node in meta_graph.nodes() if meta_graph.nodes[node]['type'] == 'worker']\n",
    "        self.underflow = [node for node in meta_graph.nodes() if meta_graph.nodes[node]['type'] == 'underflow']\n",
    "        \n",
    "    def add_triplet(self, vertex, graph):\n",
    "        neighbors = list(self.meta_graph.neighbors(vertex))\n",
    "        shuffle(neighbors)\n",
    "        overflow = None\n",
    "        underflow = None\n",
    "        for overflow_ in neighbors:\n",
    "            if (not overflow_ in list(graph.nodes())) and self.meta_graph.nodes[overflow_]['type']=='overflow':\n",
    "                \n",
    "                overflow = overflow_\n",
    "        for underflow_ in neighbors:\n",
    "            if (not underflow_ in list(graph.nodes())) and self.meta_graph.nodes[underflow_]['type']=='underflow':\n",
    "                underflow = underflow_\n",
    "        if overflow != None and underflow != None:    \n",
    "            graph.add_node(overflow)\n",
    "            graph.add_node(underflow)\n",
    "            graph.add_node(vertex)\n",
    "            graph.add_edge(vertex,underflow)\n",
    "            graph.add_edge(vertex,overflow)\n",
    "            \n",
    "    \n",
    "            \n",
    "    #each species is a complete of worker station triples\n",
    "    def build_matching(self):\n",
    "        graph = nx.Graph()\n",
    "        \n",
    "        shuffle(self.worker)\n",
    "        for w in self.worker:\n",
    "            self.add_triplet(w,graph)\n",
    "        graph.add_nodes_from([i for i in self.meta_graph.nodes if not i in list(graph.nodes)])\n",
    "        return graph\n",
    "    \n",
    "    def find_overflow(self,vertex):\n",
    "        while True:\n",
    "            node_ind = np.random.choice(range(len(self.overflow)))\n",
    "            if self.overflow[node_ind] != vertex:\n",
    "                return self.overflow[node_ind]\n",
    "            \n",
    "    def find_underflow(self,vertex):\n",
    "        while True:\n",
    "            node_ind = np.random.choice(range(len(self.underflow)))\n",
    "            if self.underflow[node_ind] != vertex:\n",
    "                return self.underflow[node_ind]\n",
    "            \n",
    "    \n",
    "    def swap(self, worker, to_replace, graph):\n",
    "        if self.meta_graph.nodes[to_replace]['type'] == 'overflow':\n",
    "            other = self.find_overflow(to_replace)\n",
    "        else:\n",
    "            other = self.find_underflow(to_replace)\n",
    "        if len(list(graph.neighbors(other)))>0:\n",
    "            otherw = list(graph.neighbors(other))[0]\n",
    "            \n",
    "            graph.add_edge(otherw,to_replace)\n",
    "            graph.remove_edge(otherw,other)\n",
    "        graph.add_edge(worker,other)\n",
    "        graph.remove_edge(worker,to_replace)\n",
    "            \n",
    "        \n",
    "        \n",
    "    def euc_fitness(self,spec):\n",
    "        return sum([self.euc_fitness_ind(gene,spec) for gene in spec.nodes if self.meta_graph.nodes[gene]['type'] == 'worker'])\n",
    "\n",
    "    def euc_fitness_ind(self,gene,spec):\n",
    "        w = 0\n",
    "\n",
    "\n",
    "        neighbors = list(spec.neighbors(gene))\n",
    "        if len(neighbors) != 0:\n",
    "            for i in neighbors:\n",
    "                if self.meta_graph.nodes[i]['type'] == 'underflow':\n",
    "                    w += euc_dis(self.meta_graph.nodes[i]['x'], self.meta_graph.nodes[i]['y'],\n",
    "                                 self.meta_graph.nodes[gene]['xs'],self.meta_graph.nodes[gene]['ys'])\n",
    "                else:\n",
    "                    w += euc_dis(self.meta_graph.nodes[i]['x'],self.meta_graph.nodes[i]['y'],\n",
    "                                 self.meta_graph.nodes[gene]['xe'],self.meta_graph.nodes[gene]['ye'])\n",
    "            w += euc_dis(self.meta_graph.nodes[neighbors[0]]['x'],self.meta_graph.nodes[neighbors[0]]['y'],\n",
    "                         self.meta_graph.nodes[neighbors[1]]['x'],self.meta_graph.nodes[neighbors[1]]['y'])\n",
    "\n",
    "        return -w\n",
    "\n",
    "    def compare_specs(self,s1,s2,fitness):\n",
    "        return self.euc_fitness(s1) > self.euc_fitness(s2)\n",
    "\n",
    "    \n",
    "            \n",
    "    def run(self, sswap_rate, oswap_rate, gens, pop_size):\n",
    "        #make a population\n",
    "        pop = [self.build_matching() for i in range(pop_size)]\n",
    "        \n",
    "        bests = []\n",
    "        for gen in tqdm(range(gens)):\n",
    "            #get scores of species\n",
    "            scores = np.array([self.euc_fitness(s) for s in pop])\n",
    "            bests.append(max(scores))\n",
    "            \n",
    "            scores = softmax(scores)  \n",
    "            print(scores[:20])\n",
    "            selected = []\n",
    "            \n",
    "            #while selecting pick a species\n",
    "            while len(selected) < len(pop):\n",
    "                spec_ind = np.random.choice(list(range(len(pop))), p=scores)\n",
    "                spec = pop[spec_ind]\n",
    "                #for each gene (a triple)\n",
    "                for j,node in enumerate(spec.nodes):\n",
    "                    #swap with another pop\n",
    "                    edges = set(spec.edges)\n",
    "                    if self.meta_graph.nodes[node]['type']!= 'worker' and len(list(spec.neighbors(node)))>0 and np.random.random() < sswap_rate:\n",
    "                        self.swap(list(spec.neighbors(node))[0], node, spec)\n",
    "                        print(edges.intersection(set(self.meta_graph.edges).intersection(set(spec.edges))))\n",
    "                selected.append(spec)\n",
    "                                    \n",
    "            pop = selected\n",
    "        return pop[np.argmax(scores)],np.max(scores), bests\n",
    "                \n",
    "                \n",
    "    \n",
    "                            \n",
    "\n"
   ]
  },
  {
   "cell_type": "code",
   "execution_count": 19,
   "metadata": {
    "scrolled": true,
    "tags": [
     "outputPrepend"
    ]
   },
   "outputs": [
    {
     "output_type": "stream",
     "name": "stderr",
     "text": [
      ", 14), ('University Pl & E 14 St', 19), ('W 37 St & 10 Ave', 6), ('Lafayette St & E 8 St', 10), ('E 58 St & 3 Ave', 8), ('E 10 St & Avenue A', 3), ('8 Ave & W 31 St N1', 16), ('Broadway & W 24 St', 2), ('E 20 St & 2 Ave', 17), ('Broadway & W 29 St', 4), ('Mercer St & Spring St', 8), ('Catherine St & Monroe St', 13)}\n",
      "{('9 Ave & W 22 St', 21), ('10 Ave & W 28 St', 15), ('9 Ave & W 18 St1', 10), ('8 Ave & W 31 St N1', 16), ('E 10 St & Avenue A', 3), ('W 54 St & 9 Ave', 14), ('Murray St & West St', 7), ('Broadway & W 24 St', 2), ('University Pl & E 14 St', 19), ('Lafayette St & E 8 St', 10), ('E 20 St & 2 Ave', 17), ('Broadway & W 29 St', 4), ('E 58 St & 3 Ave', 8), ('Forsyth St & Broome St', 19), ('W 37 St & 10 Ave', 6), ('Mercer St & Spring St', 8), ('Cadman Plaza West & Montague St', 0), ('Catherine St & Monroe St', 13)}\n",
      "{('9 Ave & W 22 St', 21), ('10 Ave & W 28 St', 15), ('9 Ave & W 18 St1', 10), ('8 Ave & W 31 St N1', 16), ('E 10 St & Avenue A', 3), ('Murray St & West St', 7), ('Broadway & W 24 St', 2), ('University Pl & E 14 St', 19), ('Lafayette St & E 8 St', 10), ('E 20 St & 2 Ave', 17), ('9 Ave & W 14 St', 6), ('Broadway & W 29 St', 4), ('E 58 St & 3 Ave', 8), ('Forsyth St & Broome St', 19), ('W 37 St & 10 Ave', 6), ('Mercer St & Spring St', 8), ('Cadman Plaza West & Montague St', 0), ('Catherine St & Monroe St', 13)}\n",
      "{('9 Ave & W 22 St', 21), ('10 Ave & W 28 St', 15), ('Murray St & West St', 7), ('Forsyth St & Broome St', 19), ('Cadman Plaza West & Montague St', 0), ('9 Ave & W 18 St1', 10), ('University Pl & E 14 St', 19), ('W 37 St & 10 Ave', 6), ('Lafayette St & E 8 St', 10), ('E 58 St & 3 Ave', 8), ('E 10 St & Avenue A', 3), ('8 Ave & W 31 St N1', 16), ('Broadway & W 24 St', 2), ('E 20 St & 2 Ave', 17), ('9 Ave & W 14 St', 6), ('Broadway & W 29 St', 4), ('Mercer St & Spring St', 8), ('W 54 St & 9 Ave', 12), ('Catherine St & Monroe St', 13)}\n",
      "{('9 Ave & W 22 St', 21), ('10 Ave & W 28 St', 15), ('Murray St & West St', 7), ('Forsyth St & Broome St', 19), ('Cadman Plaza West & Montague St', 0), ('9 Ave & W 18 St1', 10), ('University Pl & E 14 St', 19), ('W 37 St & 10 Ave', 6), ('Lafayette St & E 8 St', 10), ('E 58 St & 3 Ave', 8), ('E 10 St & Avenue A', 3), ('8 Ave & W 31 St N1', 16), ('Broadway & W 24 St', 2), ('E 20 St & 2 Ave', 17), ('9 Ave & W 14 St', 6), ('Broadway & W 29 St', 4), ('Mercer St & Spring St', 8), ('W 54 St & 9 Ave', 12), ('Catherine St & Monroe St', 13)}\n",
      "{('9 Ave & W 22 St', 21), ('10 Ave & W 28 St', 15), ('Murray St & West St', 7), ('Forsyth St & Broome St', 19), ('Cadman Plaza West & Montague St', 0), ('9 Ave & W 18 St1', 10), ('University Pl & E 14 St', 19), ('W 37 St & 10 Ave', 6), ('Lafayette St & E 8 St', 10), ('E 58 St & 3 Ave', 8), ('E 10 St & Avenue A', 3), ('8 Ave & W 31 St N1', 16), ('Broadway & W 24 St', 2), ('E 20 St & 2 Ave', 17), ('9 Ave & W 14 St', 6), ('Broadway & W 29 St', 4), ('Mercer St & Spring St', 8), ('W 54 St & 9 Ave', 12), ('Catherine St & Monroe St', 13)}\n",
      "{('9 Ave & W 22 St', 21), ('10 Ave & W 28 St', 15), ('Murray St & West St', 7), ('Forsyth St & Broome St', 19), ('Cadman Plaza West & Montague St', 0), ('9 Ave & W 18 St1', 10), ('University Pl & E 14 St', 19), ('W 37 St & 10 Ave', 6), ('Lafayette St & E 8 St', 10), ('E 58 St & 3 Ave', 8), ('E 10 St & Avenue A', 3), ('8 Ave & W 31 St N1', 16), ('Broadway & W 24 St', 2), ('E 20 St & 2 Ave', 17), ('9 Ave & W 14 St', 6), ('Broadway & W 29 St', 4), ('Mercer St & Spring St', 8), ('W 54 St & 9 Ave', 12), ('Catherine St & Monroe St', 13)}\n",
      "{('9 Ave & W 22 St', 21), ('10 Ave & W 28 St', 15), ('Murray St & West St', 7), ('Forsyth St & Broome St', 19), ('Cadman Plaza West & Montague St', 0), ('9 Ave & W 18 St1', 10), ('University Pl & E 14 St', 19), ('W 37 St & 10 Ave', 6), ('Lafayette St & E 8 St', 10), ('E 58 St & 3 Ave', 8), ('E 10 St & Avenue A', 3), ('8 Ave & W 31 St N1', 16), ('Broadway & W 24 St', 2), ('E 20 St & 2 Ave', 17), ('9 Ave & W 14 St', 6), ('Broadway & W 29 St', 4), ('Mercer St & Spring St', 8), ('W 54 St & 9 Ave', 12), ('Catherine St & Monroe St', 13)}\n",
      "{('9 Ave & W 22 St', 21), ('10 Ave & W 28 St', 15), ('Murray St & West St', 7), ('Forsyth St & Broome St', 19), ('Cadman Plaza West & Montague St', 0), ('9 Ave & W 18 St1', 10), ('University Pl & E 14 St', 19), ('W 37 St & 10 Ave', 6), ('Lafayette St & E 8 St', 10), ('E 58 St & 3 Ave', 8), ('E 10 St & Avenue A', 3), ('8 Ave & W 31 St N1', 16), ('Broadway & W 24 St', 2), ('E 20 St & 2 Ave', 17), ('9 Ave & W 14 St', 6), ('Broadway & W 29 St', 4), ('Mercer St & Spring St', 8), ('W 54 St & 9 Ave', 12), ('Catherine St & Monroe St', 13)}\n",
      "{('9 Ave & W 22 St', 21), ('8 Ave & W 31 St N1', 16), ('9 Ave & W 18 St1', 10), ('E 10 St & Avenue A', 3), ('Murray St & West St', 7), ('Broadway & W 24 St', 2), ('University Pl & E 14 St', 19), ('Lafayette St & E 8 St', 10), ('E 20 St & 2 Ave', 17), ('9 Ave & W 14 St', 6), ('Broadway & W 29 St', 4), ('E 58 St & 3 Ave', 8), ('Forsyth St & Broome St', 19), ('W 37 St & 10 Ave', 6), ('Mercer St & Spring St', 8), ('Cadman Plaza West & Montague St', 0), ('W 54 St & 9 Ave', 12), ('Catherine St & Monroe St', 13)}\n",
      "{('9 Ave & W 22 St', 21), ('Murray St & West St', 7), ('Forsyth St & Broome St', 19), ('Cadman Plaza West & Montague St', 0), ('9 Ave & W 18 St1', 10), ('University Pl & E 14 St', 19), ('W 37 St & 10 Ave', 6), ('Lafayette St & E 8 St', 10), ('E 58 St & 3 Ave', 8), ('E 10 St & Avenue A', 3), ('8 Ave & W 31 St N1', 16), ('Broadway & W 24 St', 2), ('E 20 St & 2 Ave', 17), ('9 Ave & W 14 St', 6), ('Broadway & W 29 St', 4), ('10 Ave & W 28 St', 0), ('Mercer St & Spring St', 8), ('W 54 St & 9 Ave', 12), ('Catherine St & Monroe St', 13)}\n",
      "{('9 Ave & W 22 St', 21), ('8 Ave & W 31 St N1', 16), ('9 Ave & W 18 St1', 10), ('Murray St & West St', 7), ('Broadway & W 24 St', 2), ('University Pl & E 14 St', 19), ('10 Ave & W 28 St', 0), ('Lafayette St & E 8 St', 10), ('E 20 St & 2 Ave', 17), ('9 Ave & W 14 St', 6), ('Broadway & W 29 St', 4), ('E 58 St & 3 Ave', 8), ('Forsyth St & Broome St', 19), ('W 37 St & 10 Ave', 6), ('Mercer St & Spring St', 8), ('Cadman Plaza West & Montague St', 0), ('W 54 St & 9 Ave', 12), ('Catherine St & Monroe St', 13)}\n",
      "{('E 10 St & Avenue A', 5), ('9 Ave & W 22 St', 21), ('9 Ave & W 18 St1', 10), ('Murray St & West St', 7), ('Broadway & W 24 St', 2), ('University Pl & E 14 St', 19), ('10 Ave & W 28 St', 0), ('Lafayette St & E 8 St', 10), ('E 20 St & 2 Ave', 17), ('9 Ave & W 14 St', 6), ('Broadway & W 29 St', 4), ('E 58 St & 3 Ave', 8), ('Forsyth St & Broome St', 19), ('W 37 St & 10 Ave', 6), ('Mercer St & Spring St', 8), ('Cadman Plaza West & Montague St', 0), ('W 54 St & 9 Ave', 12), ('Catherine St & Monroe St', 13)}\n",
      "{('E 10 St & Avenue A', 5), ('9 Ave & W 22 St', 21), ('9 Ave & W 18 St1', 10), ('8 Ave & W 31 St N1', 2), ('Murray St & West St', 7), ('Broadway & W 24 St', 2), ('University Pl & E 14 St', 19), ('10 Ave & W 28 St', 0), ('Lafayette St & E 8 St', 10), ('E 20 St & 2 Ave', 17), ('9 Ave & W 14 St', 6), ('Broadway & W 29 St', 4), ('E 58 St & 3 Ave', 8), ('Forsyth St & Broome St', 19), ('W 37 St & 10 Ave', 6), ('Cadman Plaza West & Montague St', 0), ('W 54 St & 9 Ave', 12), ('Catherine St & Monroe St', 13)}\n",
      "{('E 10 St & Avenue A', 5), ('9 Ave & W 22 St', 21), ('9 Ave & W 18 St1', 10), ('8 Ave & W 31 St N1', 2), ('Murray St & West St', 7), ('Broadway & W 24 St', 2), ('W 54 St & 9 Ave', 12), ('University Pl & E 14 St', 19), ('10 Ave & W 28 St', 0), ('Lafayette St & E 8 St', 10), ('E 20 St & 2 Ave', 17), ('9 Ave & W 14 St', 6), ('E 58 St & 3 Ave', 8), ('Forsyth St & Broome St', 19), ('W 37 St & 10 Ave', 6), ('Cadman Plaza West & Montague St', 0), ('Mercer St & Spring St', 12), ('Catherine St & Monroe St', 13)}\n",
      "{('Broadway & W 29 St', 20), ('E 10 St & Avenue A', 5), ('9 Ave & W 22 St', 21), ('9 Ave & W 18 St1', 10), ('8 Ave & W 31 St N1', 2), ('Murray St & West St', 7), ('Broadway & W 24 St', 2), ('University Pl & E 14 St', 19), ('E 20 St & 2 Ave', 17), ('9 Ave & W 14 St', 6), ('E 58 St & 3 Ave', 8), ('Mercer St & Spring St', 12), ('Forsyth St & Broome St', 19), ('W 37 St & 10 Ave', 6), ('Cadman Plaza West & Montague St', 0), ('W 54 St & 9 Ave', 12), ('Catherine St & Monroe St', 13)}\n",
      "{('Broadway & W 29 St', 20), ('E 10 St & Avenue A', 5), ('9 Ave & W 22 St', 21), ('9 Ave & W 18 St1', 10), ('8 Ave & W 31 St N1', 2), ('Murray St & West St', 7), ('Broadway & W 24 St', 2), ('University Pl & E 14 St', 19), ('E 20 St & 2 Ave', 17), ('Lafayette St & E 8 St', 0), ('9 Ave & W 14 St', 6), ('10 Ave & W 28 St', 10), ('Mercer St & Spring St', 12), ('Forsyth St & Broome St', 19), ('E 58 St & 3 Ave', 8), ('W 37 St & 10 Ave', 6), ('W 54 St & 9 Ave', 12), ('Catherine St & Monroe St', 13)}\n",
      "{('Broadway & W 29 St', 20), ('E 10 St & Avenue A', 5), ('9 Ave & W 22 St', 21), ('9 Ave & W 18 St1', 10), ('8 Ave & W 31 St N1', 2), ('Cadman Plaza West & Montague St', 21), ('Murray St & West St', 7), ('University Pl & E 14 St', 19), ('E 20 St & 2 Ave', 17), ('Lafayette St & E 8 St', 0), ('9 Ave & W 14 St', 6), ('10 Ave & W 28 St', 10), ('Mercer St & Spring St', 12), ('E 58 St & 3 Ave', 8), ('W 37 St & 10 Ave', 6), ('W 54 St & 9 Ave', 12), ('Catherine St & Monroe St', 13)}\n",
      "{('Broadway & W 24 St', 19), ('9 Ave & W 18 St1', 10), ('Forsyth St & Broome St', 2), ('8 Ave & W 31 St N1', 2), ('Cadman Plaza West & Montague St', 21), ('Murray St & West St', 7), ('University Pl & E 14 St', 19), ('E 20 St & 2 Ave', 17), ('Lafayette St & E 8 St', 0), ('9 Ave & W 14 St', 6), ('10 Ave & W 28 St', 10), ('Mercer St & Spring St', 12), ('E 58 St & 3 Ave', 8), ('W 37 St & 10 Ave', 6), ('Broadway & W 29 St', 20), ('W 54 St & 9 Ave', 12), ('Catherine St & Monroe St', 13)}\n",
      "{('E 10 St & Avenue A', 21), ('Broadway & W 24 St', 19), ('9 Ave & W 18 St1', 10), ('Forsyth St & Broome St', 2), ('8 Ave & W 31 St N1', 2), ('Cadman Plaza West & Montague St', 21), ('Murray St & West St', 7), ('University Pl & E 14 St', 19), ('E 20 St & 2 Ave', 17), ('Lafayette St & E 8 St', 0), ('9 Ave & W 14 St', 6), ('10 Ave & W 28 St', 10), ('Mercer St & Spring St', 12), ('E 58 St & 3 Ave', 8), ('Broadway & W 29 St', 20), ('W 54 St & 9 Ave', 12), ('Catherine St & Monroe St', 13)}\n",
      "{('W 37 St & 10 Ave', 15), ('E 10 St & Avenue A', 21), ('Broadway & W 24 St', 19), ('9 Ave & W 18 St1', 10), ('Forsyth St & Broome St', 2), ('8 Ave & W 31 St N1', 2), ('Cadman Plaza West & Montague St', 21), ('University Pl & E 14 St', 19), ('E 20 St & 2 Ave', 17), ('9 Ave & W 14 St', 6), ('10 Ave & W 28 St', 10), ('Mercer St & Spring St', 12), ('E 58 St & 3 Ave', 8), ('Broadway & W 29 St', 20), ('W 54 St & 9 Ave', 12), ('Catherine St & Monroe St', 13)}\n",
      "{('W 37 St & 10 Ave', 15), ('E 10 St & Avenue A', 21), ('Broadway & W 24 St', 19), ('9 Ave & W 18 St1', 10), ('Forsyth St & Broome St', 2), ('8 Ave & W 31 St N1', 2), ('Cadman Plaza West & Montague St', 21), ('Lafayette St & E 8 St', 7), ('Murray St & West St', 0), ('E 20 St & 2 Ave', 17), ('9 Ave & W 14 St', 6), ('10 Ave & W 28 St', 10), ('Mercer St & Spring St', 12), ('E 58 St & 3 Ave', 8), ('Broadway & W 29 St', 20), ('W 54 St & 9 Ave', 12), ('Catherine St & Monroe St', 13)}\n",
      "{('W 37 St & 10 Ave', 15), ('E 10 St & Avenue A', 21), ('Broadway & W 24 St', 19), ('9 Ave & W 18 St1', 10), ('Forsyth St & Broome St', 2), ('8 Ave & W 31 St N1', 2), ('Cadman Plaza West & Montague St', 21), ('University Pl & E 14 St', 0), ('Lafayette St & E 8 St', 7), ('Murray St & West St', 0), ('E 20 St & 2 Ave', 17), ('9 Ave & W 14 St', 6), ('10 Ave & W 28 St', 10), ('Mercer St & Spring St', 12), ('E 58 St & 3 Ave', 8), ('Broadway & W 29 St', 20), ('W 54 St & 9 Ave', 12), ('Catherine St & Monroe St', 13)}\n",
      "{('E 10 St & Avenue A', 21), ('Broadway & W 24 St', 19), ('9 Ave & W 18 St1', 10), ('Forsyth St & Broome St', 2), ('8 Ave & W 31 St N1', 2), ('Cadman Plaza West & Montague St', 21), ('University Pl & E 14 St', 0), ('Lafayette St & E 8 St', 7), ('Murray St & West St', 0), ('E 20 St & 2 Ave', 17), ('9 Ave & W 14 St', 6), ('10 Ave & W 28 St', 10), ('Mercer St & Spring St', 12), ('E 58 St & 3 Ave', 8), ('Broadway & W 29 St', 20), ('W 54 St & 9 Ave', 12), ('Catherine St & Monroe St', 13)}\n",
      "{('E 10 St & Avenue A', 21), ('Broadway & W 24 St', 19), ('W 37 St & 10 Ave', 18), ('9 Ave & W 18 St1', 10), ('Forsyth St & Broome St', 2), ('Cadman Plaza West & Montague St', 21), ('University Pl & E 14 St', 0), ('Lafayette St & E 8 St', 7), ('Murray St & West St', 0), ('E 20 St & 2 Ave', 17), ('9 Ave & W 14 St', 6), ('10 Ave & W 28 St', 10), ('Mercer St & Spring St', 12), ('E 58 St & 3 Ave', 8), ('Broadway & W 29 St', 20), ('E 6 St & Avenue B', 15), ('W 54 St & 9 Ave', 12), ('Catherine St & Monroe St', 13)}\n",
      "{('E 6 St & Avenue B', 15), ('Broadway & W 24 St', 19), ('9 Ave & W 18 St1', 10), ('Cadman Plaza West & Montague St', 21), ('Murray St & West St', 0), ('W 37 St & 10 Ave', 18), ('W 37 St & 5 Ave', 2), ('University Pl & E 14 St', 0), ('Lafayette St & E 8 St', 7), ('10 Ave & W 28 St', 10), ('Mercer St & Spring St', 12), ('E 58 St & 3 Ave', 8), ('Broadway & W 29 St', 20), ('E 10 St & Avenue A', 21), ('Forsyth St & Broome St', 2), ('E 20 St & 2 Ave', 17), ('9 Ave & W 14 St', 6), ('W 54 St & 9 Ave', 12), ('Catherine St & Monroe St', 13)}\n",
      "{('E 10 St & Avenue A', 21), ('Broadway & W 24 St', 19), ('W 37 St & 10 Ave', 18), ('9 Ave & W 18 St1', 10), ('Cadman Plaza West & Montague St', 21), ('W 37 St & 5 Ave', 2), ('University Pl & E 14 St', 0), ('Lafayette St & E 8 St', 7), ('Murray St & West St', 0), ('E 20 St & 2 Ave', 17), ('9 Ave & W 14 St', 6), ('10 Ave & W 28 St', 10), ('Mercer St & Spring St', 12), ('E 58 St & 3 Ave', 8), ('Broadway & W 29 St', 20), ('E 6 St & Avenue B', 15), ('W 54 St & 9 Ave', 12), ('Catherine St & Monroe St', 13)}\n",
      "{('E 10 St & Avenue A', 21), ('Broadway & W 24 St', 19), ('W 37 St & 10 Ave', 18), ('9 Ave & W 18 St1', 10), ('Cadman Plaza West & Montague St', 21), ('W 37 St & 5 Ave', 2), ('University Pl & E 14 St', 0), ('Lafayette St & E 8 St', 7), ('Murray St & West St', 0), ('E 20 St & 2 Ave', 17), ('E 31 St & 3 Ave', 2), ('9 Ave & W 14 St', 6), ('10 Ave & W 28 St', 10), ('Mercer St & Spring St', 12), ('E 58 St & 3 Ave', 8), ('Broadway & W 29 St', 20), ('E 6 St & Avenue B', 15), ('W 54 St & 9 Ave', 12)}\n",
      "{('E 6 St & Avenue B', 15), ('Broadway & W 24 St', 19), ('9 Ave & W 18 St1', 10), ('Cadman Plaza West & Montague St', 21), ('Murray St & West St', 0), ('W 37 St & 10 Ave', 18), ('W 37 St & 5 Ave', 2), ('University Pl & E 14 St', 0), ('Lafayette St & E 8 St', 7), ('10 Ave & W 28 St', 10), ('Mercer St & Spring St', 12), ('E 58 St & 3 Ave', 8), ('Broadway & W 29 St', 20), ('E 10 St & Avenue A', 21), ('Greenwich St & W Houston St', 13), ('E 20 St & 2 Ave', 17), ('E 31 St & 3 Ave', 2), ('9 Ave & W 14 St', 6), ('W 54 St & 9 Ave', 12)}\n",
      "{('Forsyth St & Broome St', 4), ('E 6 St & Avenue B', 15), ('Broadway & W 24 St', 19), ('9 Ave & W 18 St1', 10), ('Cadman Plaza West & Montague St', 21), ('Murray St & West St', 0), ('W 37 St & 10 Ave', 18), ('W 37 St & 5 Ave', 2), ('University Pl & E 14 St', 0), ('Lafayette St & E 8 St', 7), ('10 Ave & W 28 St', 10), ('Mercer St & Spring St', 12), ('E 58 St & 3 Ave', 8), ('Broadway & W 29 St', 20), ('E 10 St & Avenue A', 21), ('Greenwich St & W Houston St', 13), ('E 20 St & 2 Ave', 17), ('E 31 St & 3 Ave', 2), ('W 54 St & 9 Ave', 12)}\n",
      "{('Forsyth St & Broome St', 4), ('E 6 St & Avenue B', 15), ('Broadway & W 24 St', 19), ('9 Ave & W 18 St1', 10), ('Cadman Plaza West & Montague St', 21), ('Murray St & West St', 0), ('W 37 St & 10 Ave', 18), ('W 37 St & 5 Ave', 2), ('University Pl & E 14 St', 0), ('10 Ave & W 28 St', 10), ('Mercer St & Spring St', 12), ('E 58 St & 3 Ave', 8), ('Broadway & W 29 St', 20), ('E 10 St & Avenue A', 21), ('Greenwich St & W Houston St', 13), ('E 20 St & 2 Ave', 17), ('E 31 St & 3 Ave', 2), ('9 Ave & W 22 St', 6), ('W 54 St & 9 Ave', 12)}\n",
      "{('Forsyth St & Broome St', 4), ('E 6 St & Avenue B', 15), ('Broadway & W 24 St', 19), ('9 Ave & W 18 St1', 10), ('Cadman Plaza West & Montague St', 21), ('Murray St & West St', 0), ('W 37 St & 10 Ave', 18), ('W 37 St & 5 Ave', 2), ('University Pl & E 14 St', 0), ('Lafayette St & E 8 St', 13), ('10 Ave & W 28 St', 10), ('Mercer St & Spring St', 12), ('E 58 St & 3 Ave', 8), ('Broadway & W 29 St', 20), ('E 10 St & Avenue A', 21), ('E 20 St & 2 Ave', 17), ('E 31 St & 3 Ave', 2), ('9 Ave & W 22 St', 6), ('W 54 St & 9 Ave', 12)}\n",
      "{('Forsyth St & Broome St', 4), ('E 6 St & Avenue B', 15), ('Broadway & W 24 St', 19), ('9 Ave & W 18 St1', 10), ('Cadman Plaza West & Montague St', 21), ('Murray St & West St', 0), ('W 37 St & 10 Ave', 18), ('W 37 St & 5 Ave', 2), ('University Pl & E 14 St', 0), ('Lafayette St & E 8 St', 13), ('10 Ave & W 28 St', 10), ('Mercer St & Spring St', 12), ('E 58 St & 3 Ave', 8), ('Broadway & W 29 St', 20), ('E 10 St & Avenue A', 21), ('E 20 St & 2 Ave', 17), ('E 31 St & 3 Ave', 2), ('9 Ave & W 22 St', 6), ('W 54 St & 9 Ave', 12)}\n",
      "{('E 10 St & Avenue A', 21), ('Broadway & W 24 St', 19), ('W 37 St & 10 Ave', 18), ('9 Ave & W 18 St1', 10), ('Cadman Plaza West & Montague St', 21), ('W 37 St & 5 Ave', 2), ('Lafayette St & E 8 St', 13), ('W 54 St & 9 Ave', 12), ('Murray St & West St', 0), ('Forsyth St & Broome St', 4), ('E 20 St & 2 Ave', 17), ('E 31 St & 3 Ave', 2), ('10 Ave & W 28 St', 10), ('9 Ave & W 22 St', 6), ('E 58 St & 3 Ave', 8), ('Broadway & W 29 St', 20), ('E 6 St & Avenue B', 15), ('Mercer St & Spring St', 12)}\n",
      "{('E 10 St & Avenue A', 21), ('Broadway & W 24 St', 19), ('W 37 St & 10 Ave', 18), ('9 Ave & W 18 St1', 10), ('Cadman Plaza West & Montague St', 21), ('W 37 St & 5 Ave', 2), ('Lafayette St & E 8 St', 13), ('W 54 St & 9 Ave', 12), ('Murray St & West St', 0), ('Forsyth St & Broome St', 4), ('E 20 St & 2 Ave', 17), ('E 31 St & 3 Ave', 2), ('10 Ave & W 28 St', 10), ('9 Ave & W 22 St', 6), ('E 58 St & 3 Ave', 8), ('Broadway & W 29 St', 20), ('E 6 St & Avenue B', 15), ('Mercer St & Spring St', 12)}\n",
      "{('E 10 St & Avenue A', 21), ('Broadway & W 24 St', 19), ('W 37 St & 10 Ave', 18), ('9 Ave & W 18 St1', 10), ('Cadman Plaza West & Montague St', 21), ('W 37 St & 5 Ave', 2), ('Lafayette St & E 8 St', 13), ('Murray St & West St', 0), ('Forsyth St & Broome St', 4), ('E 31 St & 3 Ave', 2), ('10 Ave & W 28 St', 10), ('9 Ave & W 22 St', 6), ('E 58 St & 3 Ave', 8), ('Broadway & W 29 St', 20), ('E 6 St & Avenue B', 15), ('W 54 St & 9 Ave', 12)}\n",
      "{('E 10 St & Avenue A', 21), ('Broadway & W 24 St', 19), ('W 37 St & 10 Ave', 18), ('9 Ave & W 18 St1', 10), ('Cadman Plaza West & Montague St', 21), ('W 37 St & 5 Ave', 2), ('Lafayette St & E 8 St', 13), ('Murray St & West St', 0), ('Forsyth St & Broome St', 4), ('E 31 St & 3 Ave', 2), ('10 Ave & W 28 St', 10), ('9 Ave & W 22 St', 6), ('E 6 St & Avenue B', 15), ('W 54 St & 9 Ave', 12), ('Mercer St & Spring St', 17)}\n",
      "{('E 10 St & Avenue A', 21), ('Broadway & W 24 St', 19), ('W 37 St & 10 Ave', 18), ('9 Ave & W 18 St1', 10), ('Cadman Plaza West & Montague St', 21), ('W 37 St & 5 Ave', 2), ('Lafayette St & E 8 St', 13), ('Murray St & West St', 0), ('Forsyth St & Broome St', 4), ('Broadway & W 29 St', 8), ('E 31 St & 3 Ave', 2), ('9 Ave & W 22 St', 6), ('E 6 St & Avenue B', 15), ('W 54 St & 9 Ave', 12), ('Mercer St & Spring St', 17)}\n",
      "{('E 58 St & 3 Ave', 10), ('E 10 St & Avenue A', 21), ('Broadway & W 24 St', 19), ('W 37 St & 10 Ave', 18), ('9 Ave & W 18 St1', 10), ('Cadman Plaza West & Montague St', 21), ('W 37 St & 5 Ave', 2), ('Lafayette St & E 8 St', 13), ('Murray St & West St', 0), ('Forsyth St & Broome St', 4), ('Broadway & W 29 St', 8), ('10 Ave & W 28 St', 20), ('E 31 St & 3 Ave', 2), ('9 Ave & W 22 St', 6), ('E 6 St & Avenue B', 15), ('W 54 St & 9 Ave', 12), ('Mercer St & Spring St', 17)}\n",
      "{('E 58 St & 3 Ave', 10), ('E 10 St & Avenue A', 21), ('Broadway & W 24 St', 19), ('W 37 St & 10 Ave', 18), ('9 Ave & W 18 St1', 10), ('Cadman Plaza West & Montague St', 21), ('W 37 St & 5 Ave', 2), ('Lafayette St & E 8 St', 13), ('Murray St & West St', 0), ('Forsyth St & Broome St', 4), ('Broadway & W 29 St', 8), ('10 Ave & W 28 St', 20), ('E 31 St & 3 Ave', 2), ('9 Ave & W 22 St', 6), ('E 6 St & Avenue B', 15), ('W 54 St & 9 Ave', 12), ('Mercer St & Spring St', 17)}\n",
      "\n"
     ]
    },
    {
     "output_type": "error",
     "ename": "KeyboardInterrupt",
     "evalue": "",
     "traceback": [
      "\u001b[0;31m---------------------------------------------------------------------------\u001b[0m",
      "\u001b[0;31mKeyboardInterrupt\u001b[0m                         Traceback (most recent call last)",
      "\u001b[0;32m<ipython-input-19-5ff1d0aac28b>\u001b[0m in \u001b[0;36m<module>\u001b[0;34m\u001b[0m\n\u001b[1;32m      1\u001b[0m \u001b[0muga\u001b[0m \u001b[0;34m=\u001b[0m \u001b[0mUGA\u001b[0m\u001b[0;34m(\u001b[0m\u001b[0mcwgraph\u001b[0m\u001b[0;34m)\u001b[0m\u001b[0;34m\u001b[0m\u001b[0;34m\u001b[0m\u001b[0m\n\u001b[1;32m      2\u001b[0m \u001b[0;34m\u001b[0m\u001b[0m\n\u001b[0;32m----> 3\u001b[0;31m \u001b[0mbest\u001b[0m\u001b[0;34m,\u001b[0m \u001b[0mscore\u001b[0m\u001b[0;34m,\u001b[0m \u001b[0mlog\u001b[0m \u001b[0;34m=\u001b[0m \u001b[0muga\u001b[0m\u001b[0;34m.\u001b[0m\u001b[0mrun\u001b[0m\u001b[0;34m(\u001b[0m\u001b[0;36m0.5\u001b[0m\u001b[0;34m,\u001b[0m\u001b[0;36m0.001\u001b[0m\u001b[0;34m,\u001b[0m\u001b[0;36m400\u001b[0m\u001b[0;34m,\u001b[0m\u001b[0;36m100\u001b[0m\u001b[0;34m)\u001b[0m\u001b[0;34m\u001b[0m\u001b[0;34m\u001b[0m\u001b[0m\n\u001b[0m",
      "\u001b[0;32m<ipython-input-18-8ef06598d1ba>\u001b[0m in \u001b[0;36mrun\u001b[0;34m(self, sswap_rate, oswap_rate, gens, pop_size)\u001b[0m\n\u001b[1;32m    115\u001b[0m                     \u001b[0;32mif\u001b[0m \u001b[0mself\u001b[0m\u001b[0;34m.\u001b[0m\u001b[0mmeta_graph\u001b[0m\u001b[0;34m.\u001b[0m\u001b[0mnodes\u001b[0m\u001b[0;34m[\u001b[0m\u001b[0mnode\u001b[0m\u001b[0;34m]\u001b[0m\u001b[0;34m[\u001b[0m\u001b[0;34m'type'\u001b[0m\u001b[0;34m]\u001b[0m\u001b[0;34m!=\u001b[0m \u001b[0;34m'worker'\u001b[0m \u001b[0;32mand\u001b[0m \u001b[0mlen\u001b[0m\u001b[0;34m(\u001b[0m\u001b[0mlist\u001b[0m\u001b[0;34m(\u001b[0m\u001b[0mspec\u001b[0m\u001b[0;34m.\u001b[0m\u001b[0mneighbors\u001b[0m\u001b[0;34m(\u001b[0m\u001b[0mnode\u001b[0m\u001b[0;34m)\u001b[0m\u001b[0;34m)\u001b[0m\u001b[0;34m)\u001b[0m\u001b[0;34m>\u001b[0m\u001b[0;36m0\u001b[0m \u001b[0;32mand\u001b[0m \u001b[0mnp\u001b[0m\u001b[0;34m.\u001b[0m\u001b[0mrandom\u001b[0m\u001b[0;34m.\u001b[0m\u001b[0mrandom\u001b[0m\u001b[0;34m(\u001b[0m\u001b[0;34m)\u001b[0m \u001b[0;34m<\u001b[0m \u001b[0msswap_rate\u001b[0m\u001b[0;34m:\u001b[0m\u001b[0;34m\u001b[0m\u001b[0;34m\u001b[0m\u001b[0m\n\u001b[1;32m    116\u001b[0m                         \u001b[0mself\u001b[0m\u001b[0;34m.\u001b[0m\u001b[0mswap\u001b[0m\u001b[0;34m(\u001b[0m\u001b[0mlist\u001b[0m\u001b[0;34m(\u001b[0m\u001b[0mspec\u001b[0m\u001b[0;34m.\u001b[0m\u001b[0mneighbors\u001b[0m\u001b[0;34m(\u001b[0m\u001b[0mnode\u001b[0m\u001b[0;34m)\u001b[0m\u001b[0;34m)\u001b[0m\u001b[0;34m[\u001b[0m\u001b[0;36m0\u001b[0m\u001b[0;34m]\u001b[0m\u001b[0;34m,\u001b[0m \u001b[0mnode\u001b[0m\u001b[0;34m,\u001b[0m \u001b[0mspec\u001b[0m\u001b[0;34m)\u001b[0m\u001b[0;34m\u001b[0m\u001b[0;34m\u001b[0m\u001b[0m\n\u001b[0;32m--> 117\u001b[0;31m                         \u001b[0mprint\u001b[0m\u001b[0;34m(\u001b[0m\u001b[0medges\u001b[0m\u001b[0;34m.\u001b[0m\u001b[0mintersection\u001b[0m\u001b[0;34m(\u001b[0m\u001b[0mset\u001b[0m\u001b[0;34m(\u001b[0m\u001b[0mself\u001b[0m\u001b[0;34m.\u001b[0m\u001b[0mmeta_graph\u001b[0m\u001b[0;34m.\u001b[0m\u001b[0medges\u001b[0m\u001b[0;34m)\u001b[0m\u001b[0;34m.\u001b[0m\u001b[0mintersection\u001b[0m\u001b[0;34m(\u001b[0m\u001b[0mset\u001b[0m\u001b[0;34m(\u001b[0m\u001b[0mspec\u001b[0m\u001b[0;34m.\u001b[0m\u001b[0medges\u001b[0m\u001b[0;34m)\u001b[0m\u001b[0;34m)\u001b[0m\u001b[0;34m)\u001b[0m\u001b[0;34m)\u001b[0m\u001b[0;34m\u001b[0m\u001b[0;34m\u001b[0m\u001b[0m\n\u001b[0m\u001b[1;32m    118\u001b[0m                 \u001b[0mselected\u001b[0m\u001b[0;34m.\u001b[0m\u001b[0mappend\u001b[0m\u001b[0;34m(\u001b[0m\u001b[0mspec\u001b[0m\u001b[0;34m)\u001b[0m\u001b[0;34m\u001b[0m\u001b[0;34m\u001b[0m\u001b[0m\n\u001b[1;32m    119\u001b[0m \u001b[0;34m\u001b[0m\u001b[0m\n",
      "\u001b[0;32m~/opt/anaconda3/lib/python3.8/site-packages/ipykernel/iostream.py\u001b[0m in \u001b[0;36mwrite\u001b[0;34m(self, string)\u001b[0m\n\u001b[1;32m    402\u001b[0m             \u001b[0mis_child\u001b[0m \u001b[0;34m=\u001b[0m \u001b[0;34m(\u001b[0m\u001b[0;32mnot\u001b[0m \u001b[0mself\u001b[0m\u001b[0;34m.\u001b[0m\u001b[0m_is_master_process\u001b[0m\u001b[0;34m(\u001b[0m\u001b[0;34m)\u001b[0m\u001b[0;34m)\u001b[0m\u001b[0;34m\u001b[0m\u001b[0;34m\u001b[0m\u001b[0m\n\u001b[1;32m    403\u001b[0m             \u001b[0;31m# only touch the buffer in the IO thread to avoid races\u001b[0m\u001b[0;34m\u001b[0m\u001b[0;34m\u001b[0m\u001b[0;34m\u001b[0m\u001b[0m\n\u001b[0;32m--> 404\u001b[0;31m             \u001b[0mself\u001b[0m\u001b[0;34m.\u001b[0m\u001b[0mpub_thread\u001b[0m\u001b[0;34m.\u001b[0m\u001b[0mschedule\u001b[0m\u001b[0;34m(\u001b[0m\u001b[0;32mlambda\u001b[0m \u001b[0;34m:\u001b[0m \u001b[0mself\u001b[0m\u001b[0;34m.\u001b[0m\u001b[0m_buffer\u001b[0m\u001b[0;34m.\u001b[0m\u001b[0mwrite\u001b[0m\u001b[0;34m(\u001b[0m\u001b[0mstring\u001b[0m\u001b[0;34m)\u001b[0m\u001b[0;34m)\u001b[0m\u001b[0;34m\u001b[0m\u001b[0;34m\u001b[0m\u001b[0m\n\u001b[0m\u001b[1;32m    405\u001b[0m             \u001b[0;32mif\u001b[0m \u001b[0mis_child\u001b[0m\u001b[0;34m:\u001b[0m\u001b[0;34m\u001b[0m\u001b[0;34m\u001b[0m\u001b[0m\n\u001b[1;32m    406\u001b[0m                 \u001b[0;31m# mp.Pool cannot be trusted to flush promptly (or ever),\u001b[0m\u001b[0;34m\u001b[0m\u001b[0;34m\u001b[0m\u001b[0;34m\u001b[0m\u001b[0m\n",
      "\u001b[0;32m~/opt/anaconda3/lib/python3.8/site-packages/ipykernel/iostream.py\u001b[0m in \u001b[0;36mschedule\u001b[0;34m(self, f)\u001b[0m\n\u001b[1;32m    203\u001b[0m             \u001b[0mself\u001b[0m\u001b[0;34m.\u001b[0m\u001b[0m_events\u001b[0m\u001b[0;34m.\u001b[0m\u001b[0mappend\u001b[0m\u001b[0;34m(\u001b[0m\u001b[0mf\u001b[0m\u001b[0;34m)\u001b[0m\u001b[0;34m\u001b[0m\u001b[0;34m\u001b[0m\u001b[0m\n\u001b[1;32m    204\u001b[0m             \u001b[0;31m# wake event thread (message content is ignored)\u001b[0m\u001b[0;34m\u001b[0m\u001b[0;34m\u001b[0m\u001b[0;34m\u001b[0m\u001b[0m\n\u001b[0;32m--> 205\u001b[0;31m             \u001b[0mself\u001b[0m\u001b[0;34m.\u001b[0m\u001b[0m_event_pipe\u001b[0m\u001b[0;34m.\u001b[0m\u001b[0msend\u001b[0m\u001b[0;34m(\u001b[0m\u001b[0;34mb''\u001b[0m\u001b[0;34m)\u001b[0m\u001b[0;34m\u001b[0m\u001b[0;34m\u001b[0m\u001b[0m\n\u001b[0m\u001b[1;32m    206\u001b[0m         \u001b[0;32melse\u001b[0m\u001b[0;34m:\u001b[0m\u001b[0;34m\u001b[0m\u001b[0;34m\u001b[0m\u001b[0m\n\u001b[1;32m    207\u001b[0m             \u001b[0mf\u001b[0m\u001b[0;34m(\u001b[0m\u001b[0;34m)\u001b[0m\u001b[0;34m\u001b[0m\u001b[0;34m\u001b[0m\u001b[0m\n",
      "\u001b[0;32m~/opt/anaconda3/lib/python3.8/site-packages/zmq/sugar/socket.py\u001b[0m in \u001b[0;36msend\u001b[0;34m(self, data, flags, copy, track, routing_id, group)\u001b[0m\n\u001b[1;32m    414\u001b[0m                                  copy_threshold=self.copy_threshold)\n\u001b[1;32m    415\u001b[0m             \u001b[0mdata\u001b[0m\u001b[0;34m.\u001b[0m\u001b[0mgroup\u001b[0m \u001b[0;34m=\u001b[0m \u001b[0mgroup\u001b[0m\u001b[0;34m\u001b[0m\u001b[0;34m\u001b[0m\u001b[0m\n\u001b[0;32m--> 416\u001b[0;31m         \u001b[0;32mreturn\u001b[0m \u001b[0msuper\u001b[0m\u001b[0;34m(\u001b[0m\u001b[0mSocket\u001b[0m\u001b[0;34m,\u001b[0m \u001b[0mself\u001b[0m\u001b[0;34m)\u001b[0m\u001b[0;34m.\u001b[0m\u001b[0msend\u001b[0m\u001b[0;34m(\u001b[0m\u001b[0mdata\u001b[0m\u001b[0;34m,\u001b[0m \u001b[0mflags\u001b[0m\u001b[0;34m=\u001b[0m\u001b[0mflags\u001b[0m\u001b[0;34m,\u001b[0m \u001b[0mcopy\u001b[0m\u001b[0;34m=\u001b[0m\u001b[0mcopy\u001b[0m\u001b[0;34m,\u001b[0m \u001b[0mtrack\u001b[0m\u001b[0;34m=\u001b[0m\u001b[0mtrack\u001b[0m\u001b[0;34m)\u001b[0m\u001b[0;34m\u001b[0m\u001b[0;34m\u001b[0m\u001b[0m\n\u001b[0m\u001b[1;32m    417\u001b[0m \u001b[0;34m\u001b[0m\u001b[0m\n\u001b[1;32m    418\u001b[0m     \u001b[0;32mdef\u001b[0m \u001b[0msend_multipart\u001b[0m\u001b[0;34m(\u001b[0m\u001b[0mself\u001b[0m\u001b[0;34m,\u001b[0m \u001b[0mmsg_parts\u001b[0m\u001b[0;34m,\u001b[0m \u001b[0mflags\u001b[0m\u001b[0;34m=\u001b[0m\u001b[0;36m0\u001b[0m\u001b[0;34m,\u001b[0m \u001b[0mcopy\u001b[0m\u001b[0;34m=\u001b[0m\u001b[0;32mTrue\u001b[0m\u001b[0;34m,\u001b[0m \u001b[0mtrack\u001b[0m\u001b[0;34m=\u001b[0m\u001b[0;32mFalse\u001b[0m\u001b[0;34m,\u001b[0m \u001b[0;34m**\u001b[0m\u001b[0mkwargs\u001b[0m\u001b[0;34m)\u001b[0m\u001b[0;34m:\u001b[0m\u001b[0;34m\u001b[0m\u001b[0;34m\u001b[0m\u001b[0m\n",
      "\u001b[0;32mzmq/backend/cython/socket.pyx\u001b[0m in \u001b[0;36mzmq.backend.cython.socket.Socket.send\u001b[0;34m()\u001b[0m\n",
      "\u001b[0;32mzmq/backend/cython/socket.pyx\u001b[0m in \u001b[0;36mzmq.backend.cython.socket.Socket.send\u001b[0;34m()\u001b[0m\n",
      "\u001b[0;32mzmq/backend/cython/socket.pyx\u001b[0m in \u001b[0;36mzmq.backend.cython.socket._send_copy\u001b[0;34m()\u001b[0m\n",
      "\u001b[0;32m~/opt/anaconda3/lib/python3.8/site-packages/zmq/backend/cython/checkrc.pxd\u001b[0m in \u001b[0;36mzmq.backend.cython.checkrc._check_rc\u001b[0;34m()\u001b[0m\n",
      "\u001b[0;31mKeyboardInterrupt\u001b[0m: "
     ]
    }
   ],
   "source": [
    "uga = UGA(cwgraph)\n",
    "\n",
    "best, score, log = uga.run(0.5,0.001,400,100)"
   ]
  },
  {
   "cell_type": "code",
   "execution_count": null,
   "metadata": {},
   "outputs": [],
   "source": [
    "plt.plot(log)\n",
    "plt.show()"
   ]
  },
  {
   "cell_type": "code",
   "execution_count": null,
   "metadata": {},
   "outputs": [],
   "source": [
    "len(overflow)"
   ]
  },
  {
   "cell_type": "code",
   "execution_count": null,
   "metadata": {},
   "outputs": [],
   "source": [
    "\n",
    "edge_list = defaultdict(lambda:{})\n",
    "for edge in cgraph.edges:\n",
    "    if graph.edges[edge]['weight'] > 0 and cgraph.nodes[edge[0]]['type'] != 'worker' and cgraph.nodes[edge[0]]['type'] != 'worker':\n",
    "        edge_list[edge[0]][edge[1]] = graph.edges[edge]['weight']\n",
    "        edge_list[edge[1]][edge[0]] = graph.edges[edge]['weight']\n",
    "#print(edge_list)\n",
    "\n",
    "worker = {node:{} for node in cwgraph.nodes() if cwgraph.nodes[node]['type']=='worker'}\n",
    "\n"
   ]
  },
  {
   "cell_type": "code",
   "execution_count": null,
   "metadata": {},
   "outputs": [],
   "source": [
    "\n",
    "matching = bipartite.matching.minimum_weight_full_matching(cgraph)\n",
    "spwgraph =nx.Graph()\n",
    "for key in matching.keys():\n",
    "    if cgraph.nodes[key]['type'] =='overflow':\n",
    "        for w, worker_ in enumerate(worker):\n",
    "            spwgraph.add_edge((key+'|'+matching[key]),w,\n",
    "                              weight=cgraph.edges[key, matching[key]]['weight']+\n",
    "                             euc_dis(cwgraph.nodes[worker_]['xs'],cwgraph.nodes[worker_]['ys'],cgraph.nodes[matching[key]]['x'],cgraph.nodes[matching[key]]['y']) +\n",
    "                             euc_dis(cwgraph.nodes[worker_]['xe'],cwgraph.nodes[worker_]['ye'],cgraph.nodes[matching[key]]['x'],cgraph.nodes[matching[key]]['y'])\n",
    "                                         )\n",
    "matching2 = bipartite.matching.minimum_weight_full_matching(spwgraph)\n",
    "matching2\n"
   ]
  },
  {
   "cell_type": "code",
   "execution_count": null,
   "metadata": {},
   "outputs": [],
   "source": [
    "print(graph.nodes['Maodison St & Montgomery St'])"
   ]
  },
  {
   "cell_type": "code",
   "execution_count": null,
   "metadata": {},
   "outputs": [],
   "source": [
    "cgraph.edges['Rivington St & Chrystie St', 'Rivington St & Chrystie St']"
   ]
  },
  {
   "cell_type": "code",
   "execution_count": null,
   "metadata": {},
   "outputs": [],
   "source": []
  }
 ],
 "metadata": {
  "kernelspec": {
   "name": "python3",
   "display_name": "Python 3.8.5 64-bit ('anaconda3': virtualenv)"
  },
  "language_info": {
   "codemirror_mode": {
    "name": "ipython",
    "version": 3
   },
   "file_extension": ".py",
   "mimetype": "text/x-python",
   "name": "python",
   "nbconvert_exporter": "python",
   "pygments_lexer": "ipython3",
   "version": "3.8.5"
  },
  "interpreter": {
   "hash": "7b075df4f4e27b25c6fb358d93914fe9d599b3558fd08d496857a3ce92e80af5"
  }
 },
 "nbformat": 4,
 "nbformat_minor": 4
}