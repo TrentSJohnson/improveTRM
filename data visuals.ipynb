{
 "cells": [
  {
   "cell_type": "code",
   "execution_count": 136,
   "metadata": {},
   "outputs": [],
   "source": [
    "import pandas as pd\n",
    "import numpy as np\n",
    "from matplotlib import rc\n",
    "import matplotlib.pyplot as plt\n",
    "name = 'metro'"
   ]
  },
  {
   "cell_type": "code",
   "execution_count": 137,
   "metadata": {
    "pycharm": {
     "name": "#%%\n"
    }
   },
   "outputs": [
    {
     "name": "stdout",
     "output_type": "stream",
     "text": [
      "              GHS    Local Ratio            TRM             HS           TRHS\n",
      "0   386860.593069  363732.072247  392174.494363  387265.415181  390334.482795\n",
      "1   122236.662155  117290.974230  123015.369366  122236.662155  122236.662155\n",
      "2   202698.583017  193908.792049  222269.049925  217626.275888  202626.747094\n",
      "3   249062.503358  249062.503358  253266.163646  250670.252765  249726.224767\n",
      "4   294272.129962  286076.709496  300259.258224  294106.248384  295257.362962\n",
      "5   278093.746318  273150.920284  285611.989469  280511.400543  278852.860545\n",
      "6    34307.134358   34307.134358   34564.991907   39649.448931   34307.134358\n",
      "7    57207.198806   57207.198806   60040.887257   59594.375864   58289.233448\n",
      "8   150993.282865  150993.282865  151285.721637  150993.282865  150993.282865\n",
      "9   551710.686304  538394.486071  556812.562587  552151.928386  551897.475538\n",
      "10   16637.943807   16637.943807   16914.854673   16760.770149   16760.770149\n",
      "11  668194.790790  579325.764323  675476.918874  668872.543882  668302.548302\n",
      "12   36765.893248   36765.893248   40985.015319   36765.893248   36765.893248\n",
      "13   95448.166416   93461.314562  110559.927228  134509.385464   93461.314562\n",
      "14   24182.163167   24182.163167   25285.433996   24182.163167   24182.163167\n",
      "15   47116.115700   47116.115700   50939.690497   47912.939078   47116.115700\n",
      "16  225336.963140  214887.036660  231724.871187  304663.186741  225116.626956\n",
      "17  193196.613951  192941.244871  208249.125784  221141.838325  193904.194946\n",
      "18  199766.990626  198465.692018  201194.715407  226015.608840  200395.959341\n",
      "19  109092.302541  107398.228203  117449.182075  110765.287288  110090.466887\n",
      "20  287392.440999  281726.621063  290638.181111  291237.934772  290638.181111\n",
      "21  254524.476581  227238.607999  261594.588580  261860.868034  254885.414789\n",
      "22  107375.105378  106922.417332  112216.472209  110053.749893  107241.679558\n",
      "23   94462.580411   94462.580411   98784.842459   94462.580411   94462.580411\n",
      "24  104976.042134  100530.036996  117754.272061  104976.042134  104976.042134\n",
      "25   66033.742328   66033.742328   68308.812532   66611.477896   66033.742328\n",
      "26  235412.061914  223021.295476  238999.188689  236980.267873  235676.095703\n",
      "27  318263.992730  275645.395081  324301.915267  319832.998413  321018.677080\n",
      "28  190340.525575  190340.525575  212489.787358  202271.708572  190620.232496\n",
      "29  160723.930749  156354.861028  177885.900409  162421.118185  161686.965131\n",
      "GHS            192089.512080\n",
      "Local Ratio    183252.718454\n",
      "TRM            198701.806137\n",
      "HS             199903.455111\n",
      "TRHS           192595.237684\n",
      "dtype: float64\n"
     ]
    }
   ],
   "source": [
    "scores_df = pd.read_csv('outputs/scores_'+name+'.csv')\n",
    "scores_df = scores_df[scores_df.columns[1:]]\n",
    "print(scores_df)\n",
    "scores = pd.Series(np.mean(scores_df.values,axis=0),index=scores_df.columns)\n",
    "print(scores)"
   ]
  },
  {
   "cell_type": "code",
   "execution_count": 138,
   "metadata": {},
   "outputs": [
    {
     "name": "stdout",
     "output_type": "stream",
     "text": [
      "GHS            121.956136\n",
      "Local Ratio     43.008276\n",
      "TRM              0.063964\n",
      "HS               2.481841\n",
      "TRHS             1.837902\n",
      "dtype: float64\n"
     ]
    }
   ],
   "source": [
    "runtimes_df = pd.read_csv('outputs/runtimes_'+name+'.csv')\n",
    "runtimes_df = runtimes_df[runtimes_df.columns[1:]]\n",
    "\n",
    "runtimes = pd.Series(np.mean(runtimes_df.values,axis=0),index=runtimes_df.columns)\n",
    "runtimes"
   ]
  },
  {
   "cell_type": "code",
   "execution_count": 144,
   "metadata": {},
   "outputs": [
    {
     "data": {
      "text/html": [
       "<div>\n",
       "<style scoped>\n",
       "    .dataframe tbody tr th:only-of-type {\n",
       "        vertical-align: middle;\n",
       "    }\n",
       "\n",
       "    .dataframe tbody tr th {\n",
       "        vertical-align: top;\n",
       "    }\n",
       "\n",
       "    .dataframe thead th {\n",
       "        text-align: right;\n",
       "    }\n",
       "</style>\n",
       "<table border=\"1\" class=\"dataframe\">\n",
       "  <thead>\n",
       "    <tr style=\"text-align: right;\">\n",
       "      <th></th>\n",
       "      <th>GHS</th>\n",
       "      <th>Local Ratio</th>\n",
       "      <th>TRM</th>\n",
       "      <th>HS</th>\n",
       "      <th>TRHS</th>\n",
       "    </tr>\n",
       "  </thead>\n",
       "  <tbody>\n",
       "    <tr>\n",
       "      <th>0</th>\n",
       "      <td>454.490450</td>\n",
       "      <td>171.169201</td>\n",
       "      <td>0.184189</td>\n",
       "      <td>9.034530</td>\n",
       "      <td>7.011055</td>\n",
       "    </tr>\n",
       "    <tr>\n",
       "      <th>1</th>\n",
       "      <td>4.855989</td>\n",
       "      <td>0.659780</td>\n",
       "      <td>0.010089</td>\n",
       "      <td>0.152480</td>\n",
       "      <td>0.285896</td>\n",
       "    </tr>\n",
       "    <tr>\n",
       "      <th>2</th>\n",
       "      <td>332.490739</td>\n",
       "      <td>146.956921</td>\n",
       "      <td>0.161433</td>\n",
       "      <td>8.398118</td>\n",
       "      <td>5.732781</td>\n",
       "    </tr>\n",
       "    <tr>\n",
       "      <th>3</th>\n",
       "      <td>269.062304</td>\n",
       "      <td>56.652111</td>\n",
       "      <td>0.108907</td>\n",
       "      <td>4.589785</td>\n",
       "      <td>3.615391</td>\n",
       "    </tr>\n",
       "    <tr>\n",
       "      <th>4</th>\n",
       "      <td>74.715441</td>\n",
       "      <td>18.096697</td>\n",
       "      <td>0.061436</td>\n",
       "      <td>2.162760</td>\n",
       "      <td>2.260007</td>\n",
       "    </tr>\n",
       "    <tr>\n",
       "      <th>5</th>\n",
       "      <td>206.567942</td>\n",
       "      <td>50.942624</td>\n",
       "      <td>0.099728</td>\n",
       "      <td>3.948691</td>\n",
       "      <td>2.906297</td>\n",
       "    </tr>\n",
       "    <tr>\n",
       "      <th>6</th>\n",
       "      <td>2.333343</td>\n",
       "      <td>0.218647</td>\n",
       "      <td>0.006999</td>\n",
       "      <td>0.044594</td>\n",
       "      <td>0.038688</td>\n",
       "    </tr>\n",
       "    <tr>\n",
       "      <th>7</th>\n",
       "      <td>6.089533</td>\n",
       "      <td>0.816157</td>\n",
       "      <td>0.012750</td>\n",
       "      <td>0.190830</td>\n",
       "      <td>0.149699</td>\n",
       "    </tr>\n",
       "    <tr>\n",
       "      <th>8</th>\n",
       "      <td>18.230259</td>\n",
       "      <td>2.219667</td>\n",
       "      <td>0.020452</td>\n",
       "      <td>0.431222</td>\n",
       "      <td>0.534062</td>\n",
       "    </tr>\n",
       "    <tr>\n",
       "      <th>9</th>\n",
       "      <td>386.744322</td>\n",
       "      <td>139.407796</td>\n",
       "      <td>0.158095</td>\n",
       "      <td>5.793503</td>\n",
       "      <td>5.093474</td>\n",
       "    </tr>\n",
       "    <tr>\n",
       "      <th>10</th>\n",
       "      <td>1.484419</td>\n",
       "      <td>0.123991</td>\n",
       "      <td>0.005256</td>\n",
       "      <td>0.039697</td>\n",
       "      <td>0.027919</td>\n",
       "    </tr>\n",
       "    <tr>\n",
       "      <th>11</th>\n",
       "      <td>754.663465</td>\n",
       "      <td>439.428795</td>\n",
       "      <td>0.244288</td>\n",
       "      <td>14.202928</td>\n",
       "      <td>8.861751</td>\n",
       "    </tr>\n",
       "    <tr>\n",
       "      <th>12</th>\n",
       "      <td>8.132862</td>\n",
       "      <td>0.980040</td>\n",
       "      <td>0.013877</td>\n",
       "      <td>0.142895</td>\n",
       "      <td>0.191934</td>\n",
       "    </tr>\n",
       "    <tr>\n",
       "      <th>13</th>\n",
       "      <td>49.172452</td>\n",
       "      <td>9.569070</td>\n",
       "      <td>0.050852</td>\n",
       "      <td>1.276364</td>\n",
       "      <td>1.129346</td>\n",
       "    </tr>\n",
       "    <tr>\n",
       "      <th>14</th>\n",
       "      <td>2.056305</td>\n",
       "      <td>0.242025</td>\n",
       "      <td>0.007180</td>\n",
       "      <td>0.073520</td>\n",
       "      <td>0.061143</td>\n",
       "    </tr>\n",
       "    <tr>\n",
       "      <th>15</th>\n",
       "      <td>4.744412</td>\n",
       "      <td>0.633236</td>\n",
       "      <td>0.011396</td>\n",
       "      <td>0.126525</td>\n",
       "      <td>0.106693</td>\n",
       "    </tr>\n",
       "    <tr>\n",
       "      <th>16</th>\n",
       "      <td>164.595692</td>\n",
       "      <td>40.561782</td>\n",
       "      <td>0.088442</td>\n",
       "      <td>3.194994</td>\n",
       "      <td>2.097672</td>\n",
       "    </tr>\n",
       "    <tr>\n",
       "      <th>17</th>\n",
       "      <td>99.415756</td>\n",
       "      <td>19.347124</td>\n",
       "      <td>0.069209</td>\n",
       "      <td>1.402327</td>\n",
       "      <td>1.141147</td>\n",
       "    </tr>\n",
       "    <tr>\n",
       "      <th>18</th>\n",
       "      <td>72.744897</td>\n",
       "      <td>14.493485</td>\n",
       "      <td>0.054528</td>\n",
       "      <td>2.096103</td>\n",
       "      <td>1.091771</td>\n",
       "    </tr>\n",
       "    <tr>\n",
       "      <th>19</th>\n",
       "      <td>19.083610</td>\n",
       "      <td>2.599487</td>\n",
       "      <td>0.022573</td>\n",
       "      <td>0.415168</td>\n",
       "      <td>0.272917</td>\n",
       "    </tr>\n",
       "    <tr>\n",
       "      <th>20</th>\n",
       "      <td>150.391496</td>\n",
       "      <td>35.001919</td>\n",
       "      <td>0.082039</td>\n",
       "      <td>2.200208</td>\n",
       "      <td>1.396263</td>\n",
       "    </tr>\n",
       "    <tr>\n",
       "      <th>21</th>\n",
       "      <td>77.696444</td>\n",
       "      <td>19.921475</td>\n",
       "      <td>0.063773</td>\n",
       "      <td>1.537777</td>\n",
       "      <td>1.869120</td>\n",
       "    </tr>\n",
       "    <tr>\n",
       "      <th>22</th>\n",
       "      <td>25.085544</td>\n",
       "      <td>6.320072</td>\n",
       "      <td>0.037826</td>\n",
       "      <td>1.195781</td>\n",
       "      <td>0.563389</td>\n",
       "    </tr>\n",
       "    <tr>\n",
       "      <th>23</th>\n",
       "      <td>3.960381</td>\n",
       "      <td>0.471239</td>\n",
       "      <td>0.009225</td>\n",
       "      <td>0.173698</td>\n",
       "      <td>0.072284</td>\n",
       "    </tr>\n",
       "    <tr>\n",
       "      <th>24</th>\n",
       "      <td>30.620916</td>\n",
       "      <td>4.136244</td>\n",
       "      <td>0.027892</td>\n",
       "      <td>0.657449</td>\n",
       "      <td>0.571815</td>\n",
       "    </tr>\n",
       "    <tr>\n",
       "      <th>25</th>\n",
       "      <td>13.161547</td>\n",
       "      <td>2.001428</td>\n",
       "      <td>0.019795</td>\n",
       "      <td>0.362787</td>\n",
       "      <td>0.259383</td>\n",
       "    </tr>\n",
       "    <tr>\n",
       "      <th>26</th>\n",
       "      <td>170.255587</td>\n",
       "      <td>53.996619</td>\n",
       "      <td>0.101779</td>\n",
       "      <td>5.646221</td>\n",
       "      <td>2.613437</td>\n",
       "    </tr>\n",
       "    <tr>\n",
       "      <th>27</th>\n",
       "      <td>99.134377</td>\n",
       "      <td>17.623860</td>\n",
       "      <td>0.060164</td>\n",
       "      <td>1.452373</td>\n",
       "      <td>1.501905</td>\n",
       "    </tr>\n",
       "    <tr>\n",
       "      <th>28</th>\n",
       "      <td>72.409154</td>\n",
       "      <td>19.526384</td>\n",
       "      <td>0.066099</td>\n",
       "      <td>1.705463</td>\n",
       "      <td>2.340623</td>\n",
       "    </tr>\n",
       "    <tr>\n",
       "      <th>29</th>\n",
       "      <td>84.294438</td>\n",
       "      <td>16.130409</td>\n",
       "      <td>0.058648</td>\n",
       "      <td>1.806431</td>\n",
       "      <td>1.339187</td>\n",
       "    </tr>\n",
       "  </tbody>\n",
       "</table>\n",
       "</div>"
      ],
      "text/plain": [
       "           GHS  Local Ratio       TRM         HS      TRHS\n",
       "0   454.490450   171.169201  0.184189   9.034530  7.011055\n",
       "1     4.855989     0.659780  0.010089   0.152480  0.285896\n",
       "2   332.490739   146.956921  0.161433   8.398118  5.732781\n",
       "3   269.062304    56.652111  0.108907   4.589785  3.615391\n",
       "4    74.715441    18.096697  0.061436   2.162760  2.260007\n",
       "5   206.567942    50.942624  0.099728   3.948691  2.906297\n",
       "6     2.333343     0.218647  0.006999   0.044594  0.038688\n",
       "7     6.089533     0.816157  0.012750   0.190830  0.149699\n",
       "8    18.230259     2.219667  0.020452   0.431222  0.534062\n",
       "9   386.744322   139.407796  0.158095   5.793503  5.093474\n",
       "10    1.484419     0.123991  0.005256   0.039697  0.027919\n",
       "11  754.663465   439.428795  0.244288  14.202928  8.861751\n",
       "12    8.132862     0.980040  0.013877   0.142895  0.191934\n",
       "13   49.172452     9.569070  0.050852   1.276364  1.129346\n",
       "14    2.056305     0.242025  0.007180   0.073520  0.061143\n",
       "15    4.744412     0.633236  0.011396   0.126525  0.106693\n",
       "16  164.595692    40.561782  0.088442   3.194994  2.097672\n",
       "17   99.415756    19.347124  0.069209   1.402327  1.141147\n",
       "18   72.744897    14.493485  0.054528   2.096103  1.091771\n",
       "19   19.083610     2.599487  0.022573   0.415168  0.272917\n",
       "20  150.391496    35.001919  0.082039   2.200208  1.396263\n",
       "21   77.696444    19.921475  0.063773   1.537777  1.869120\n",
       "22   25.085544     6.320072  0.037826   1.195781  0.563389\n",
       "23    3.960381     0.471239  0.009225   0.173698  0.072284\n",
       "24   30.620916     4.136244  0.027892   0.657449  0.571815\n",
       "25   13.161547     2.001428  0.019795   0.362787  0.259383\n",
       "26  170.255587    53.996619  0.101779   5.646221  2.613437\n",
       "27   99.134377    17.623860  0.060164   1.452373  1.501905\n",
       "28   72.409154    19.526384  0.066099   1.705463  2.340623\n",
       "29   84.294438    16.130409  0.058648   1.806431  1.339187"
      ]
     },
     "execution_count": 144,
     "metadata": {},
     "output_type": "execute_result"
    }
   ],
   "source": [
    "runtimes_df"
   ]
  },
  {
   "cell_type": "code",
   "execution_count": 139,
   "metadata": {},
   "outputs": [
    {
     "data": {
      "image/png": "[encoded data removed]",
      "text/plain": [
       "<Figure size 432x288 with 1 Axes>"
      ]
     },
     "metadata": {},
     "output_type": "display_data"
    },
    {
     "name": "stdout",
     "output_type": "stream",
     "text": [
      "0     262\n",
      "1      62\n",
      "2     260\n",
      "3     214\n",
      "4     159\n",
      "5     206\n",
      "6      49\n",
      "7      70\n",
      "8      89\n",
      "9     254\n",
      "10     40\n",
      "11    314\n",
      "12     71\n",
      "13    141\n",
      "14     44\n",
      "15     65\n",
      "16    195\n",
      "17    167\n",
      "18    150\n",
      "19     94\n",
      "20    186\n",
      "21    162\n",
      "22    125\n",
      "23     58\n",
      "24    106\n",
      "25     90\n",
      "26    210\n",
      "27    158\n",
      "28    167\n",
      "29    156\n",
      "Name: 0, dtype: int64\n"
     ]
    }
   ],
   "source": [
    "graphsizes = pd.read_csv('outputs/graphs_'+name+'.csv')['0']\n",
    "plt.hist(graphsizes)\n",
    "plt.show()\n",
    "print(graphsizes)"
   ]
  },
  {
   "cell_type": "code",
   "execution_count": 140,
   "metadata": {},
   "outputs": [
    {
     "name": "stdout",
     "output_type": "stream",
     "text": [
      "0     368780.135422\n",
      "1      48286.742296\n",
      "2     169834.877263\n",
      "3     150145.238142\n",
      "4     194014.585419\n",
      "5     166590.594824\n",
      "6      22830.561106\n",
      "7      43835.181154\n",
      "8      95400.210255\n",
      "9     301779.100426\n",
      "10     15952.190279\n",
      "11    335322.068698\n",
      "12     31529.134805\n",
      "13     75735.565086\n",
      "14     21024.383660\n",
      "15     43561.842489\n",
      "16    177778.027218\n",
      "17    158256.305845\n",
      "18    143211.889638\n",
      "19     66984.393399\n",
      "20    146259.540180\n",
      "21    128641.881690\n",
      "22     95732.873830\n",
      "23     50265.283877\n",
      "24     68929.945404\n",
      "25     55418.524986\n",
      "26    141353.565546\n",
      "27    127905.770276\n",
      "28    153234.433241\n",
      "29    128341.150245\n",
      "Name: 0, dtype: float64 \n",
      "\n"
     ]
    }
   ],
   "source": [
    "sdists = pd.read_csv('outputs/sdists_'+name+'.csv')['0']\n",
    "\n",
    "print(sdists,'\\n')"
   ]
  },
  {
   "cell_type": "code",
   "execution_count": 145,
   "metadata": {},
   "outputs": [
    {
     "name": "stdout",
     "output_type": "stream",
     "text": [
      "(12, 5) (11, 5) (7, 5) Index(['GHS', 'Local Ratio', 'TRM', 'HS', 'TRHS'], dtype='object')\n",
      "\\begin{tabular}{lrrrrr}\n",
      "\\toprule\n",
      "{} &            GHS &    Local Ratio &            TRM &             HS &           TRHS \\\\\n",
      "\\midrule\n",
      "Small  &       9.562798 &       1.258495 &       0.013957 &       0.234239 &       0.214369 \\\\\n",
      "Medium &      88.150517 &      19.690207 &       0.063001 &       1.820962 &       1.520948 \\\\\n",
      "Large  &  367433.280682 &  345799.404830 &  374944.338222 &  370582.583503 &  368202.347820 \\\\\n",
      "\\bottomrule\n",
      "\\end{tabular}\n",
      "\n"
     ]
    }
   ],
   "source": [
    "small_scores_df = scores_df.loc[graphsizes.values<120]\n",
    "small_scores = np.mean(small_scores_df)\n",
    "small_sdists =  sdists[graphsizes.values<120]\n",
    "med_scores_df = scores_df.loc[(graphsizes<200) & (graphsizes>120)]\n",
    "med_scores = np.mean(med_scores_df)\n",
    "med_sdists =  sdists[(graphsizes<200) & (graphsizes>120)]\n",
    "large_scores_df = scores_df.loc[graphsizes>200,]\n",
    "large_scores = np.mean(large_scores_df)\n",
    "large_sdists =  sdists[graphsizes.values>200]\n",
    "\n",
    "small_runtimes_df = runtimes_df.loc[graphsizes.values<120]\n",
    "small_runtimes = [np.mean(small_runtimes_df[col]) for col in runtimes_df.columns]\n",
    "med_runtimes_df = runtimes_df.loc[(graphsizes<200) & (graphsizes>120)]\n",
    "med_runtimes = [np.mean(med_runtimes[col]) for col in runtimes_df.columns]\n",
    "large_runtimes_df = scores_df.loc[graphsizes>200,]\n",
    "large_runtimes = [np.mean(large_runtimes[col]) for col in runtimes_df.columns]\n",
    "\n",
    "\n",
    "print(small_scores_df.shape,med_scores_df.shape,large_scores_df.shape,small_scores_df.columns)\n",
    "\n",
    "avgs = pd.DataFrame([small_runtimes,med_runtimes,large_runtimes],columns=runtimes_df.columns,index=[\"Small\",\"Medium\",'Large'])\n",
    "print(avgs.to_latex())"
   ]
  },
  {
   "cell_type": "code",
   "execution_count": 146,
   "metadata": {},
   "outputs": [
    {
     "data": {
      "text/html": [
       "<div>\n",
       "<style scoped>\n",
       "    .dataframe tbody tr th:only-of-type {\n",
       "        vertical-align: middle;\n",
       "    }\n",
       "\n",
       "    .dataframe tbody tr th {\n",
       "        vertical-align: top;\n",
       "    }\n",
       "\n",
       "    .dataframe thead th {\n",
       "        text-align: right;\n",
       "    }\n",
       "</style>\n",
       "<table border=\"1\" class=\"dataframe\">\n",
       "  <thead>\n",
       "    <tr style=\"text-align: right;\">\n",
       "      <th></th>\n",
       "      <th>GHS</th>\n",
       "      <th>Local Ratio</th>\n",
       "      <th>TRM</th>\n",
       "      <th>HS</th>\n",
       "      <th>TRHS</th>\n",
       "    </tr>\n",
       "  </thead>\n",
       "  <tbody>\n",
       "    <tr>\n",
       "      <th>0</th>\n",
       "      <td>386860.593069</td>\n",
       "      <td>363732.072247</td>\n",
       "      <td>392174.494363</td>\n",
       "      <td>387265.415181</td>\n",
       "      <td>390334.482795</td>\n",
       "    </tr>\n",
       "    <tr>\n",
       "      <th>2</th>\n",
       "      <td>202698.583017</td>\n",
       "      <td>193908.792049</td>\n",
       "      <td>222269.049925</td>\n",
       "      <td>217626.275888</td>\n",
       "      <td>202626.747094</td>\n",
       "    </tr>\n",
       "    <tr>\n",
       "      <th>3</th>\n",
       "      <td>249062.503358</td>\n",
       "      <td>249062.503358</td>\n",
       "      <td>253266.163646</td>\n",
       "      <td>250670.252765</td>\n",
       "      <td>249726.224767</td>\n",
       "    </tr>\n",
       "    <tr>\n",
       "      <th>5</th>\n",
       "      <td>278093.746318</td>\n",
       "      <td>273150.920284</td>\n",
       "      <td>285611.989469</td>\n",
       "      <td>280511.400543</td>\n",
       "      <td>278852.860545</td>\n",
       "    </tr>\n",
       "    <tr>\n",
       "      <th>9</th>\n",
       "      <td>551710.686304</td>\n",
       "      <td>538394.486071</td>\n",
       "      <td>556812.562587</td>\n",
       "      <td>552151.928386</td>\n",
       "      <td>551897.475538</td>\n",
       "    </tr>\n",
       "    <tr>\n",
       "      <th>11</th>\n",
       "      <td>668194.790790</td>\n",
       "      <td>579325.764323</td>\n",
       "      <td>675476.918874</td>\n",
       "      <td>668872.543882</td>\n",
       "      <td>668302.548302</td>\n",
       "    </tr>\n",
       "    <tr>\n",
       "      <th>26</th>\n",
       "      <td>235412.061914</td>\n",
       "      <td>223021.295476</td>\n",
       "      <td>238999.188689</td>\n",
       "      <td>236980.267873</td>\n",
       "      <td>235676.095703</td>\n",
       "    </tr>\n",
       "  </tbody>\n",
       "</table>\n",
       "</div>"
      ],
      "text/plain": [
       "              GHS    Local Ratio            TRM             HS           TRHS\n",
       "0   386860.593069  363732.072247  392174.494363  387265.415181  390334.482795\n",
       "2   202698.583017  193908.792049  222269.049925  217626.275888  202626.747094\n",
       "3   249062.503358  249062.503358  253266.163646  250670.252765  249726.224767\n",
       "5   278093.746318  273150.920284  285611.989469  280511.400543  278852.860545\n",
       "9   551710.686304  538394.486071  556812.562587  552151.928386  551897.475538\n",
       "11  668194.790790  579325.764323  675476.918874  668872.543882  668302.548302\n",
       "26  235412.061914  223021.295476  238999.188689  236980.267873  235676.095703"
      ]
     },
     "execution_count": 146,
     "metadata": {},
     "output_type": "execute_result"
    }
   ],
   "source": [
    "large_runtimes_df"
   ]
  },
  {
   "cell_type": "code",
   "execution_count": 142,
   "metadata": {},
   "outputs": [
    {
     "name": "stdout",
     "output_type": "stream",
     "text": [
      "[386.86059307 122.23666215 202.69858302 249.06250336 294.27212996\n",
      " 278.09374632  34.30713436  57.20719881 150.99328287 551.7106863\n",
      "  16.63794381 668.19479079  36.76589325  95.44816642  24.18216317\n",
      "  47.1161157  225.33696314 193.19661395 199.76699063 109.09230254\n",
      " 287.392441   254.52447658 107.37510538  94.46258041 104.97604213\n",
      "  66.03374233 235.41206191 318.26399273 190.34052558 160.72393075]\n",
      "[ 0.06  2.06  4.06  6.06  8.06 10.06 12.06 14.06 16.06 18.06 20.06 22.06\n",
      " 24.06 26.06 28.06 30.06 32.06 34.06 36.06 38.06 40.06 42.06 44.06 46.06\n",
      " 48.06 50.06 52.06 54.06 56.06 58.06]\n",
      "[363.73207225 117.29097423 193.90879205 249.06250336 286.0767095\n",
      " 273.15092028  34.30713436  57.20719881 150.99328287 538.39448607\n",
      "  16.63794381 579.32576432  36.76589325  93.46131456  24.18216317\n",
      "  47.1161157  214.88703666 192.94124487 198.46569202 107.3982282\n",
      " 281.72662106 227.238608   106.92241733  94.46258041 100.530037\n",
      "  66.03374233 223.02129548 275.64539508 190.34052558 156.35486103]\n",
      "[ 0.06  2.06  4.06  6.06  8.06 10.06 12.06 14.06 16.06 18.06 20.06 22.06\n",
      " 24.06 26.06 28.06 30.06 32.06 34.06 36.06 38.06 40.06 42.06 44.06 46.06\n",
      " 48.06 50.06 52.06 54.06 56.06 58.06]\n",
      "[392.17449436 123.01536937 222.26904993 253.26616365 300.25925822\n",
      " 285.61198947  34.56499191  60.04088726 151.28572164 556.81256259\n",
      "  16.91485467 675.47691887  40.98501532 110.55992723  25.285434\n",
      "  50.9396905  231.72487119 208.24912578 201.19471541 117.44918208\n",
      " 290.63818111 261.59458858 112.21647221  98.78484246 117.75427206\n",
      "  68.30881253 238.99918869 324.30191527 212.48978736 177.88590041]\n",
      "[ 0.06  2.06  4.06  6.06  8.06 10.06 12.06 14.06 16.06 18.06 20.06 22.06\n",
      " 24.06 26.06 28.06 30.06 32.06 34.06 36.06 38.06 40.06 42.06 44.06 46.06\n",
      " 48.06 50.06 52.06 54.06 56.06 58.06]\n",
      "[387.26541518 122.23666215 217.62627589 250.67025276 294.10624838\n",
      " 280.51140054  39.64944893  59.59437586 150.99328287 552.15192839\n",
      "  16.76077015 668.87254388  36.76589325 134.50938546  24.18216317\n",
      "  47.91293908 304.66318674 221.14183832 226.01560884 110.76528729\n",
      " 291.23793477 261.86086803 110.05374989  94.46258041 104.97604213\n",
      "  66.6114779  236.98026787 319.83299841 202.27170857 162.42111818]\n",
      "[ 0.06  2.06  4.06  6.06  8.06 10.06 12.06 14.06 16.06 18.06 20.06 22.06\n",
      " 24.06 26.06 28.06 30.06 32.06 34.06 36.06 38.06 40.06 42.06 44.06 46.06\n",
      " 48.06 50.06 52.06 54.06 56.06 58.06]\n",
      "[390.33448279 122.23666215 202.62674709 249.72622477 295.25736296\n",
      " 278.85286054  34.30713436  58.28923345 150.99328287 551.89747554\n",
      "  16.76077015 668.3025483   36.76589325  93.46131456  24.18216317\n",
      "  47.1161157  225.11662696 193.90419495 200.39595934 110.09046689\n",
      " 290.63818111 254.88541479 107.24167956  94.46258041 104.97604213\n",
      "  66.03374233 235.6760957  321.01867708 190.6202325  161.68696513]\n",
      "[ 0.06  2.06  4.06  6.06  8.06 10.06 12.06 14.06 16.06 18.06 20.06 22.06\n",
      " 24.06 26.06 28.06 30.06 32.06 34.06 36.06 38.06 40.06 42.06 44.06 46.06\n",
      " 48.06 50.06 52.06 54.06 56.06 58.06]\n"
     ]
    },
    {
     "data": {
      "image/png": "[encoded data removed]",
      "text/plain": [
       "<Figure size 720x720 with 1 Axes>"
      ]
     },
     "metadata": {},
     "output_type": "display_data"
    }
   ],
   "source": [
    "font = {\n",
    "        'size'   : 22}\n",
    "#rc('font', **font)\n",
    "rc('font', **{'family': 'serif', 'serif': ['Computer Modern']})\n",
    "#rc('text', usetex=True)\n",
    "plt.style.use('seaborn-whitegrid')\n",
    "rc('font', **{'family': 'serif', 'serif': ['Computer Modern']})\n",
    "\n",
    "\n",
    "x = 2*np.arange(len(scores_df.index))  # the label locations\n",
    "width = 0.2  # the width of the bars\n",
    "fig, ax = plt.subplots()\n",
    "l = len(scores_df.columns)\n",
    "rects = []\n",
    "colors = ['#753252','#1f1aba','#18d97f','#f0137a','#7e804a']\n",
    "for i,col in enumerate(scores_df.columns):\n",
    "    val = (scores_df[col].values)/1000\n",
    "    print(val)\n",
    "    print(x + width/2-width/l)\n",
    "    rects.append( ax.bar(x + (l*width)/2-i*width, \n",
    "                         val, width, color=colors[i], label=col))\n",
    "    \n",
    "# Add some text for labels, title and custom x-axis tick labels, etc.\n",
    "ax.set_ylabel('Detour (km)',**font)\n",
    "ax.set_xlabel('Graph',**font)\n",
    "ax.set_xticks(x)\n",
    "ax.set_xticklabels(scores_df.index)\n",
    "ax.legend()\n",
    "#for rect in rects:\n",
    "#    ax.bar_label(rect, padding=15)\n",
    "fig.set_size_inches(10, 10)\n",
    "\n",
    "fig.tight_layout()\n",
    "plt.title('Total Detour Assigned', **font\n",
    "         )\n",
    "plt.show()\n",
    "\n"
   ]
  },
  {
   "cell_type": "code",
   "execution_count": 143,
   "metadata": {
    "scrolled": false
   },
   "outputs": [
    {
     "name": "stderr",
     "output_type": "stream",
     "text": [
      "<ipython-input-143-3693dce92d06>:26: UserWarning: FixedFormatter should only be used together with FixedLocator\n",
      "  ax.set_xticklabels(['']+list(scores_df_.columns))\n"
     ]
    },
    {
     "data": {
      "image/png": "[encoded data removed]",
      "text/plain": [
       "<Figure size 720x720 with 1 Axes>"
      ]
     },
     "metadata": {},
     "output_type": "display_data"
    },
    {
     "data": {
      "image/png": "[encoded data removed]",
      "text/plain": [
       "<Figure size 720x720 with 1 Axes>"
      ]
     },
     "metadata": {},
     "output_type": "display_data"
    },
    {
     "data": {
      "image/png": "[encoded data removed]",
      "text/plain": [
       "<Figure size 720x720 with 1 Axes>"
      ]
     },
     "metadata": {},
     "output_type": "display_data"
    },
    {
     "name": "stdout",
     "output_type": "stream",
     "text": [
      "\\begin{tabular}{lrrrrr}\n",
      "\\toprule\n",
      "{} &        GHS &  Local Ratio &        TRM &         HS &       TRHS \\\\\n",
      "\\midrule\n",
      "Small  &  53.188455 &    51.222957 &  60.514104 &  55.120991 &  53.579049 \\\\\n",
      "Medium &  52.156369 &    45.447841 &  58.988662 &  65.332206 &  52.652427 \\\\\n",
      "Large  &  57.425889 &    48.156908 &  60.643984 &  58.775200 &  57.755394 \\\\\n",
      "\\bottomrule\n",
      "\\end{tabular}\n",
      "\n"
     ]
    }
   ],
   "source": [
    "avgs = []\n",
    "for lab,scores_,scores_df_,sdists_ in zip([\"Small\",\"Medium\",'Large'],[small_scores,med_scores,large_scores],\n",
    "                       [small_scores_df,med_scores_df,large_scores_df],[small_sdists,med_sdists,large_sdists]):\n",
    "    colors = [\"#3e442b\",\"#6a7062\",\"#8d909b\",\"#aaadc4\",\"#d6eeff\"]\n",
    "    detours = scores_.values-np.array([np.mean(sdists_.values)]*len(scores))\n",
    "    detour_rats = detours/np.mean(sdists_.values)\n",
    "    drats = [[(scores_df_.loc[i,c]-sdists_[i])/sdists_[i] for c in scores_df_.columns] for i in scores_df_.index]\n",
    "    detour_rats_df = pd.DataFrame(columns=scores_df_.columns,data=drats)\n",
    "    errors = [np.std(detour_rats_df[col]) for col in scores_df_.columns]\n",
    "    avgs.append(detour_rats)\n",
    "\n",
    "    fig, ax = plt.subplots()\n",
    "\n",
    "\n",
    "    ax.bar(range(len(scores)),detour_rats,color=colors)\n",
    "\n",
    "    #for rect in rects:\n",
    "    #    ax.bar_label(rect, padding=15)\n",
    "    fig.set_size_inches(10, 10)\n",
    "\n",
    "    fig.tight_layout()\n",
    "    plt.title('Detour Added', **font\n",
    "             )\n",
    "    ax.set_ylabel('Detour Added (%)',**font)\n",
    "    ax.set_xlabel('Algorithm',**font)\n",
    "    ax.set_xticklabels(['']+list(scores_df_.columns))\n",
    "    plt.show()\n",
    "avgs = pd.DataFrame(data = np.array(avgs)*100, columns=scores_df.columns,index=[\"Small\",\"Medium\",'Large'])\n",
    "print(avgs.to_latex())"
   ]
  },
  {
   "cell_type": "code",
   "execution_count": 135,
   "metadata": {},
   "outputs": [
    {
     "ename": "ValueError",
     "evalue": "operands could not be broadcast together with shapes (30,) (10,) ",
     "output_type": "error",
     "traceback": [
      "\u001b[0;31m---------------------------------------------------------------------------\u001b[0m",
      "\u001b[0;31mValueError\u001b[0m                                Traceback (most recent call last)",
      "\u001b[0;32m<ipython-input-135-862ecf4a2e8d>\u001b[0m in \u001b[0;36m<module>\u001b[0;34m\u001b[0m\n\u001b[1;32m      5\u001b[0m \u001b[0mrects\u001b[0m \u001b[0;34m=\u001b[0m \u001b[0;34m[\u001b[0m\u001b[0;34m]\u001b[0m\u001b[0;34m\u001b[0m\u001b[0;34m\u001b[0m\u001b[0m\n\u001b[1;32m      6\u001b[0m \u001b[0;32mfor\u001b[0m \u001b[0mi\u001b[0m\u001b[0;34m,\u001b[0m\u001b[0mcol\u001b[0m \u001b[0;32min\u001b[0m \u001b[0menumerate\u001b[0m\u001b[0;34m(\u001b[0m\u001b[0mscores_df\u001b[0m\u001b[0;34m.\u001b[0m\u001b[0mcolumns\u001b[0m\u001b[0;34m)\u001b[0m\u001b[0;34m:\u001b[0m\u001b[0;34m\u001b[0m\u001b[0;34m\u001b[0m\u001b[0m\n\u001b[0;32m----> 7\u001b[0;31m     \u001b[0mval\u001b[0m \u001b[0;34m=\u001b[0m \u001b[0;34m(\u001b[0m\u001b[0mscores_df\u001b[0m\u001b[0;34m[\u001b[0m\u001b[0mcol\u001b[0m\u001b[0;34m]\u001b[0m\u001b[0;34m.\u001b[0m\u001b[0mvalues\u001b[0m\u001b[0;34m-\u001b[0m\u001b[0msdists_df\u001b[0m\u001b[0;34m.\u001b[0m\u001b[0mvalues\u001b[0m\u001b[0;34m)\u001b[0m\u001b[0;34m/\u001b[0m\u001b[0msdists_df\u001b[0m\u001b[0;34m.\u001b[0m\u001b[0mvalues\u001b[0m\u001b[0;34m\u001b[0m\u001b[0;34m\u001b[0m\u001b[0m\n\u001b[0m\u001b[1;32m      8\u001b[0m     \u001b[0mprint\u001b[0m\u001b[0;34m(\u001b[0m\u001b[0mval\u001b[0m\u001b[0;34m)\u001b[0m\u001b[0;34m\u001b[0m\u001b[0;34m\u001b[0m\u001b[0m\n\u001b[1;32m      9\u001b[0m     \u001b[0mprint\u001b[0m\u001b[0;34m(\u001b[0m\u001b[0mx\u001b[0m \u001b[0;34m+\u001b[0m \u001b[0mwidth\u001b[0m\u001b[0;34m/\u001b[0m\u001b[0;36m2\u001b[0m\u001b[0;34m-\u001b[0m\u001b[0mwidth\u001b[0m\u001b[0;34m/\u001b[0m\u001b[0ml\u001b[0m\u001b[0;34m)\u001b[0m\u001b[0;34m\u001b[0m\u001b[0;34m\u001b[0m\u001b[0m\n",
      "\u001b[0;31mValueError\u001b[0m: operands could not be broadcast together with shapes (30,) (10,) "
     ]
    },
    {
     "data": {
      "image/png": "[encoded data removed]",
      "text/plain": [
       "<Figure size 432x288 with 1 Axes>"
      ]
     },
     "metadata": {},
     "output_type": "display_data"
    }
   ],
   "source": [
    "\n",
    "\n",
    "\n",
    "x = 2*np.arange(len(scores_df.index))  # the label locations\n",
    "width = 0.2  # the width of the bars\n",
    "fig, ax = plt.subplots()\n",
    "l = len(scores_df.columns)\n",
    "rects = []\n",
    "for i,col in enumerate(scores_df.columns):\n",
    "    val = (scores_df[col].values-sdists_df.values)/sdists_df.values\n",
    "    print(val)\n",
    "    print(x + width/2-width/l)\n",
    "    rects.append( ax.bar(x + (l*width)/2-i*width, val, width,\n",
    "                         color=colors[i], label=col))\n",
    "\n",
    "# Add some text for labels, title and custom x-axis tick labels, etc.\n",
    "ax.set_ylabel('Total Detour/Total Unassigned',**font)\n",
    "ax.set_xlabel('Graph',**font)\n",
    "ax.set_xticks(x)\n",
    "ax.set_xticklabels(scores_df.index)\n",
    "ax.legend()\n",
    "#for rect in rects:\n",
    "#    ax.bar_label(rect, padding=15)\n",
    "fig.set_size_inches(10, 10)\n",
    "\n",
    "fig.tight_layout()\n",
    "plt.title('Detour Ratio')\n",
    "plt.show()"
   ]
  },
  {
   "cell_type": "code",
   "execution_count": 40,
   "metadata": {},
   "outputs": [
    {
     "data": {
      "text/plain": [
       "0    0.02038\n",
       "1    0.02038\n",
       "2    0.02038\n",
       "3    0.02038\n",
       "4    0.02038\n",
       "Name: TRHS, dtype: float64"
      ]
     },
     "execution_count": 40,
     "metadata": {},
     "output_type": "execute_result"
    }
   ],
   "source": []
  },
  {
   "cell_type": "code",
   "execution_count": 9,
   "metadata": {},
   "outputs": [
    {
     "data": {
      "image/png": "[encoded data removed]",
      "text/plain": [
       "<Figure size 720x720 with 1 Axes>"
      ]
     },
     "metadata": {},
     "output_type": "display_data"
    }
   ],
   "source": [
    "x = 2*np.arange(len(runtimes_df.index))  # the label locations\n",
    "width = 0.2  # the width of the bars\n",
    "fig, ax = plt.subplots()\n",
    "l = len(runtimes_df.columns)\n",
    "rects = []\n",
    "for i,col in enumerate(runtimes_df.columns):\n",
    "    val = runtimes_df[col]\n",
    "    rects.append( ax.barh(x + (l*width)/2-i*width, val, width, label=col))\n",
    "\n",
    "# Add some text for labels, title and custom x-axis tick labels, etc.\n",
    "ax.set_xlabel('Runtimes',**font)\n",
    "ax.set_ylabel('Graph',**font)\n",
    "ax.set_yticks(x)\n",
    "ax.set_yticklabels(runtimes_df.index)\n",
    "ax.legend()\n",
    "#for rect in rects:\n",
    "#    ax.bar_label(rect, padding=15)\n",
    "fig.set_size_inches(10, 10)\n",
    "\n",
    "fig.tight_layout()\n",
    "plt.title('Runtime(s)', **font)\n",
    "plt.show()"
   ]
  },
  {
   "cell_type": "code",
   "execution_count": 56,
   "metadata": {},
   "outputs": [
    {
     "name": "stderr",
     "output_type": "stream",
     "text": [
      "<ipython-input-56-55d8d0b5e789>:20: UserWarning: FixedFormatter should only be used together with FixedLocator\n",
      "  ax.set_xticklabels(list(scores_df.columns))\n"
     ]
    },
    {
     "data": {
      "image/png": "[encoded data removed]",
      "text/plain": [
       "<Figure size 720x720 with 1 Axes>"
      ]
     },
     "metadata": {},
     "output_type": "display_data"
    }
   ],
   "source": [
    "colors = [\"#3e442b\",\"#6a7062\",\"#8d909b\",\"#aaadc4\",\"#d6eeff\"]\n",
    "\n",
    "errors = [np.std(runtimes_df[col]) for col in runtimes_df.columns]\n",
    "\n",
    "\n",
    "fig, ax = plt.subplots()\n",
    "\n",
    "\n",
    "ax.bar(range(len(runtimes.values)),runtimes.values,color=colors,yerr=errors)\n",
    "\n",
    "#for rect in rects:\n",
    "#    ax.bar_label(rect, padding=15)\n",
    "fig.set_size_inches(10, 10)\n",
    "\n",
    "fig.tight_layout()\n",
    "plt.title('Algorithm Runtimes', **font\n",
    "         )\n",
    "ax.set_ylabel('Avg Seconds',**font)\n",
    "ax.set_xlabel('Algorithm',**font)\n",
    "ax.set_xticklabels(list(scores_df.columns))\n",
    "plt.show()"
   ]
  },
  {
   "cell_type": "code",
   "execution_count": 10,
   "metadata": {},
   "outputs": [
    {
     "name": "stdout",
     "output_type": "stream",
     "text": [
      "\\begin{tabular}{llllll}\n",
      "\\toprule\n",
      "{} &     GHS & Local Ratio &    TRM &     HS &   TRHS \\\\\n",
      "\\midrule\n",
      "0 &  13.989 &       2.891 &  0.032 &  0.387 &    0.2 \\\\\n",
      "1 &  10.322 &       2.271 &  0.027 &  0.229 &  0.222 \\\\\n",
      "2 &   6.076 &       0.734 &  0.016 &  0.158 &  0.082 \\\\\n",
      "3 &  26.616 &       4.687 &  0.045 &  0.358 &  0.249 \\\\\n",
      "4 &   4.393 &       0.619 &  0.014 &  0.115 &  0.071 \\\\\n",
      "5 &   0.668 &       0.071 &  0.005 &  0.017 &  0.016 \\\\\n",
      "6 &  20.544 &       3.562 &  0.038 &  0.409 &  0.289 \\\\\n",
      "7 &  24.173 &       4.527 &  0.044 &  0.376 &   0.34 \\\\\n",
      "8 &   3.804 &       0.562 &  0.013 &  0.073 &  0.089 \\\\\n",
      "9 &  18.329 &       2.711 &  0.034 &  0.276 &  0.193 \\\\\n",
      "\\bottomrule\n",
      "\\end{tabular}\n",
      "\n"
     ]
    }
   ],
   "source": [
    "rt_df = runtimes_df.copy()\n",
    "for col in rt_df.columns:\n",
    "    rt_df[col] = rt_df[col].apply(lambda x: '%s' % float('%.3f' % x))\n",
    "print(rt_df.to_latex())\n"
   ]
  },
  {
   "cell_type": "code",
   "execution_count": null,
   "metadata": {},
   "outputs": [],
   "source": []
  },
  {
   "cell_type": "code",
   "execution_count": 11,
   "metadata": {},
   "outputs": [
    {
     "data": {
      "text/plain": [
       "<models.hs.TRM_RLS at 0x7f832e03da90>"
      ]
     },
     "execution_count": 11,
     "metadata": {},
     "output_type": "execute_result"
    }
   ],
   "source": [
    "from models.hs import TRM_RLS\n",
    "TRM_RLS()"
   ]
  },
  {
   "cell_type": "code",
   "execution_count": null,
   "metadata": {},
   "outputs": [],
   "source": []
  },
  {
   "cell_type": "code",
   "execution_count": null,
   "metadata": {},
   "outputs": [],
   "source": []
  }
 ],
 "metadata": {
  "kernelspec": {
   "display_name": "Python 3",
   "language": "python",
   "name": "python3"
  },
  "language_info": {
   "codemirror_mode": {
    "name": "ipython",
    "version": 3
   },
   "file_extension": ".py",
   "mimetype": "text/x-python",
   "name": "python",
   "nbconvert_exporter": "python",
   "pygments_lexer": "ipython3",
   "version": "3.9.5"
  }
 },
 "nbformat": 4,
 "nbformat_minor": 1
}
