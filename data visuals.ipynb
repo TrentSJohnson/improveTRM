{
 "cells": [
  {
   "cell_type": "code",
   "execution_count": 1,
   "metadata": {},
   "outputs": [],
   "source": [
    "import pandas as pd\n",
    "import numpy as np\n",
    "from matplotlib import rc\n",
    "import matplotlib.pyplot as plt\n",
    "name = 'metro'"
   ]
  },
  {
   "cell_type": "code",
   "execution_count": 2,
   "metadata": {
    "pycharm": {
     "name": "#%%\n"
    }
   },
   "outputs": [
    {
     "ename": "FileNotFoundError",
     "evalue": "[Errno 2] No such file or directory: 'outputs/scores_metro.csv'",
     "output_type": "error",
     "traceback": [
      "\u001b[0;31m---------------------------------------------------------------------------\u001b[0m",
      "\u001b[0;31mFileNotFoundError\u001b[0m                         Traceback (most recent call last)",
      "\u001b[0;32m<ipython-input-2-9f4387fcbb5b>\u001b[0m in \u001b[0;36m<module>\u001b[0;34m\u001b[0m\n\u001b[0;32m----> 1\u001b[0;31m \u001b[0mscores_df\u001b[0m \u001b[0;34m=\u001b[0m \u001b[0mpd\u001b[0m\u001b[0;34m.\u001b[0m\u001b[0mread_csv\u001b[0m\u001b[0;34m(\u001b[0m\u001b[0;34m'outputs/scores_'\u001b[0m\u001b[0;34m+\u001b[0m\u001b[0mname\u001b[0m\u001b[0;34m+\u001b[0m\u001b[0;34m'.csv'\u001b[0m\u001b[0;34m)\u001b[0m\u001b[0;34m\u001b[0m\u001b[0;34m\u001b[0m\u001b[0m\n\u001b[0m\u001b[1;32m      2\u001b[0m \u001b[0mscores_df\u001b[0m \u001b[0;34m=\u001b[0m \u001b[0mscores_df\u001b[0m\u001b[0;34m[\u001b[0m\u001b[0mscores_df\u001b[0m\u001b[0;34m.\u001b[0m\u001b[0mcolumns\u001b[0m\u001b[0;34m[\u001b[0m\u001b[0;36m1\u001b[0m\u001b[0;34m:\u001b[0m\u001b[0;34m]\u001b[0m\u001b[0;34m]\u001b[0m\u001b[0;34m\u001b[0m\u001b[0;34m\u001b[0m\u001b[0m\n\u001b[1;32m      3\u001b[0m \u001b[0mprint\u001b[0m\u001b[0;34m(\u001b[0m\u001b[0mscores_df\u001b[0m\u001b[0;34m)\u001b[0m\u001b[0;34m\u001b[0m\u001b[0;34m\u001b[0m\u001b[0m\n\u001b[1;32m      4\u001b[0m \u001b[0mscores\u001b[0m \u001b[0;34m=\u001b[0m \u001b[0mpd\u001b[0m\u001b[0;34m.\u001b[0m\u001b[0mSeries\u001b[0m\u001b[0;34m(\u001b[0m\u001b[0mnp\u001b[0m\u001b[0;34m.\u001b[0m\u001b[0mmean\u001b[0m\u001b[0;34m(\u001b[0m\u001b[0mscores_df\u001b[0m\u001b[0;34m.\u001b[0m\u001b[0mvalues\u001b[0m\u001b[0;34m,\u001b[0m\u001b[0maxis\u001b[0m\u001b[0;34m=\u001b[0m\u001b[0;36m0\u001b[0m\u001b[0;34m)\u001b[0m\u001b[0;34m,\u001b[0m\u001b[0mindex\u001b[0m\u001b[0;34m=\u001b[0m\u001b[0mscores_df\u001b[0m\u001b[0;34m.\u001b[0m\u001b[0mcolumns\u001b[0m\u001b[0;34m)\u001b[0m\u001b[0;34m\u001b[0m\u001b[0;34m\u001b[0m\u001b[0m\n\u001b[1;32m      5\u001b[0m \u001b[0mprint\u001b[0m\u001b[0;34m(\u001b[0m\u001b[0mscores\u001b[0m\u001b[0;34m)\u001b[0m\u001b[0;34m\u001b[0m\u001b[0;34m\u001b[0m\u001b[0m\n",
      "\u001b[0;32m~/opt/anaconda3/lib/python3.8/site-packages/pandas/io/parsers.py\u001b[0m in \u001b[0;36mread_csv\u001b[0;34m(filepath_or_buffer, sep, delimiter, header, names, index_col, usecols, squeeze, prefix, mangle_dupe_cols, dtype, engine, converters, true_values, false_values, skipinitialspace, skiprows, skipfooter, nrows, na_values, keep_default_na, na_filter, verbose, skip_blank_lines, parse_dates, infer_datetime_format, keep_date_col, date_parser, dayfirst, cache_dates, iterator, chunksize, compression, thousands, decimal, lineterminator, quotechar, quoting, doublequote, escapechar, comment, encoding, dialect, error_bad_lines, warn_bad_lines, delim_whitespace, low_memory, memory_map, float_precision)\u001b[0m\n\u001b[1;32m    684\u001b[0m     )\n\u001b[1;32m    685\u001b[0m \u001b[0;34m\u001b[0m\u001b[0m\n\u001b[0;32m--> 686\u001b[0;31m     \u001b[0;32mreturn\u001b[0m \u001b[0m_read\u001b[0m\u001b[0;34m(\u001b[0m\u001b[0mfilepath_or_buffer\u001b[0m\u001b[0;34m,\u001b[0m \u001b[0mkwds\u001b[0m\u001b[0;34m)\u001b[0m\u001b[0;34m\u001b[0m\u001b[0;34m\u001b[0m\u001b[0m\n\u001b[0m\u001b[1;32m    687\u001b[0m \u001b[0;34m\u001b[0m\u001b[0m\n\u001b[1;32m    688\u001b[0m \u001b[0;34m\u001b[0m\u001b[0m\n",
      "\u001b[0;32m~/opt/anaconda3/lib/python3.8/site-packages/pandas/io/parsers.py\u001b[0m in \u001b[0;36m_read\u001b[0;34m(filepath_or_buffer, kwds)\u001b[0m\n\u001b[1;32m    450\u001b[0m \u001b[0;34m\u001b[0m\u001b[0m\n\u001b[1;32m    451\u001b[0m     \u001b[0;31m# Create the parser.\u001b[0m\u001b[0;34m\u001b[0m\u001b[0;34m\u001b[0m\u001b[0;34m\u001b[0m\u001b[0m\n\u001b[0;32m--> 452\u001b[0;31m     \u001b[0mparser\u001b[0m \u001b[0;34m=\u001b[0m \u001b[0mTextFileReader\u001b[0m\u001b[0;34m(\u001b[0m\u001b[0mfp_or_buf\u001b[0m\u001b[0;34m,\u001b[0m \u001b[0;34m**\u001b[0m\u001b[0mkwds\u001b[0m\u001b[0;34m)\u001b[0m\u001b[0;34m\u001b[0m\u001b[0;34m\u001b[0m\u001b[0m\n\u001b[0m\u001b[1;32m    453\u001b[0m \u001b[0;34m\u001b[0m\u001b[0m\n\u001b[1;32m    454\u001b[0m     \u001b[0;32mif\u001b[0m \u001b[0mchunksize\u001b[0m \u001b[0;32mor\u001b[0m \u001b[0miterator\u001b[0m\u001b[0;34m:\u001b[0m\u001b[0;34m\u001b[0m\u001b[0;34m\u001b[0m\u001b[0m\n",
      "\u001b[0;32m~/opt/anaconda3/lib/python3.8/site-packages/pandas/io/parsers.py\u001b[0m in \u001b[0;36m__init__\u001b[0;34m(self, f, engine, **kwds)\u001b[0m\n\u001b[1;32m    944\u001b[0m             \u001b[0mself\u001b[0m\u001b[0;34m.\u001b[0m\u001b[0moptions\u001b[0m\u001b[0;34m[\u001b[0m\u001b[0;34m\"has_index_names\"\u001b[0m\u001b[0;34m]\u001b[0m \u001b[0;34m=\u001b[0m \u001b[0mkwds\u001b[0m\u001b[0;34m[\u001b[0m\u001b[0;34m\"has_index_names\"\u001b[0m\u001b[0;34m]\u001b[0m\u001b[0;34m\u001b[0m\u001b[0;34m\u001b[0m\u001b[0m\n\u001b[1;32m    945\u001b[0m \u001b[0;34m\u001b[0m\u001b[0m\n\u001b[0;32m--> 946\u001b[0;31m         \u001b[0mself\u001b[0m\u001b[0;34m.\u001b[0m\u001b[0m_make_engine\u001b[0m\u001b[0;34m(\u001b[0m\u001b[0mself\u001b[0m\u001b[0;34m.\u001b[0m\u001b[0mengine\u001b[0m\u001b[0;34m)\u001b[0m\u001b[0;34m\u001b[0m\u001b[0;34m\u001b[0m\u001b[0m\n\u001b[0m\u001b[1;32m    947\u001b[0m \u001b[0;34m\u001b[0m\u001b[0m\n\u001b[1;32m    948\u001b[0m     \u001b[0;32mdef\u001b[0m \u001b[0mclose\u001b[0m\u001b[0;34m(\u001b[0m\u001b[0mself\u001b[0m\u001b[0;34m)\u001b[0m\u001b[0;34m:\u001b[0m\u001b[0;34m\u001b[0m\u001b[0;34m\u001b[0m\u001b[0m\n",
      "\u001b[0;32m~/opt/anaconda3/lib/python3.8/site-packages/pandas/io/parsers.py\u001b[0m in \u001b[0;36m_make_engine\u001b[0;34m(self, engine)\u001b[0m\n\u001b[1;32m   1176\u001b[0m     \u001b[0;32mdef\u001b[0m \u001b[0m_make_engine\u001b[0m\u001b[0;34m(\u001b[0m\u001b[0mself\u001b[0m\u001b[0;34m,\u001b[0m \u001b[0mengine\u001b[0m\u001b[0;34m=\u001b[0m\u001b[0;34m\"c\"\u001b[0m\u001b[0;34m)\u001b[0m\u001b[0;34m:\u001b[0m\u001b[0;34m\u001b[0m\u001b[0;34m\u001b[0m\u001b[0m\n\u001b[1;32m   1177\u001b[0m         \u001b[0;32mif\u001b[0m \u001b[0mengine\u001b[0m \u001b[0;34m==\u001b[0m \u001b[0;34m\"c\"\u001b[0m\u001b[0;34m:\u001b[0m\u001b[0;34m\u001b[0m\u001b[0;34m\u001b[0m\u001b[0m\n\u001b[0;32m-> 1178\u001b[0;31m             \u001b[0mself\u001b[0m\u001b[0;34m.\u001b[0m\u001b[0m_engine\u001b[0m \u001b[0;34m=\u001b[0m \u001b[0mCParserWrapper\u001b[0m\u001b[0;34m(\u001b[0m\u001b[0mself\u001b[0m\u001b[0;34m.\u001b[0m\u001b[0mf\u001b[0m\u001b[0;34m,\u001b[0m \u001b[0;34m**\u001b[0m\u001b[0mself\u001b[0m\u001b[0;34m.\u001b[0m\u001b[0moptions\u001b[0m\u001b[0;34m)\u001b[0m\u001b[0;34m\u001b[0m\u001b[0;34m\u001b[0m\u001b[0m\n\u001b[0m\u001b[1;32m   1179\u001b[0m         \u001b[0;32melse\u001b[0m\u001b[0;34m:\u001b[0m\u001b[0;34m\u001b[0m\u001b[0;34m\u001b[0m\u001b[0m\n\u001b[1;32m   1180\u001b[0m             \u001b[0;32mif\u001b[0m \u001b[0mengine\u001b[0m \u001b[0;34m==\u001b[0m \u001b[0;34m\"python\"\u001b[0m\u001b[0;34m:\u001b[0m\u001b[0;34m\u001b[0m\u001b[0;34m\u001b[0m\u001b[0m\n",
      "\u001b[0;32m~/opt/anaconda3/lib/python3.8/site-packages/pandas/io/parsers.py\u001b[0m in \u001b[0;36m__init__\u001b[0;34m(self, src, **kwds)\u001b[0m\n\u001b[1;32m   2006\u001b[0m         \u001b[0mkwds\u001b[0m\u001b[0;34m[\u001b[0m\u001b[0;34m\"usecols\"\u001b[0m\u001b[0;34m]\u001b[0m \u001b[0;34m=\u001b[0m \u001b[0mself\u001b[0m\u001b[0;34m.\u001b[0m\u001b[0musecols\u001b[0m\u001b[0;34m\u001b[0m\u001b[0;34m\u001b[0m\u001b[0m\n\u001b[1;32m   2007\u001b[0m \u001b[0;34m\u001b[0m\u001b[0m\n\u001b[0;32m-> 2008\u001b[0;31m         \u001b[0mself\u001b[0m\u001b[0;34m.\u001b[0m\u001b[0m_reader\u001b[0m \u001b[0;34m=\u001b[0m \u001b[0mparsers\u001b[0m\u001b[0;34m.\u001b[0m\u001b[0mTextReader\u001b[0m\u001b[0;34m(\u001b[0m\u001b[0msrc\u001b[0m\u001b[0;34m,\u001b[0m \u001b[0;34m**\u001b[0m\u001b[0mkwds\u001b[0m\u001b[0;34m)\u001b[0m\u001b[0;34m\u001b[0m\u001b[0;34m\u001b[0m\u001b[0m\n\u001b[0m\u001b[1;32m   2009\u001b[0m         \u001b[0mself\u001b[0m\u001b[0;34m.\u001b[0m\u001b[0munnamed_cols\u001b[0m \u001b[0;34m=\u001b[0m \u001b[0mself\u001b[0m\u001b[0;34m.\u001b[0m\u001b[0m_reader\u001b[0m\u001b[0;34m.\u001b[0m\u001b[0munnamed_cols\u001b[0m\u001b[0;34m\u001b[0m\u001b[0;34m\u001b[0m\u001b[0m\n\u001b[1;32m   2010\u001b[0m \u001b[0;34m\u001b[0m\u001b[0m\n",
      "\u001b[0;32mpandas/_libs/parsers.pyx\u001b[0m in \u001b[0;36mpandas._libs.parsers.TextReader.__cinit__\u001b[0;34m()\u001b[0m\n",
      "\u001b[0;32mpandas/_libs/parsers.pyx\u001b[0m in \u001b[0;36mpandas._libs.parsers.TextReader._setup_parser_source\u001b[0;34m()\u001b[0m\n",
      "\u001b[0;31mFileNotFoundError\u001b[0m: [Errno 2] No such file or directory: 'outputs/scores_metro.csv'"
     ]
    }
   ],
   "source": [
    "scores_df = pd.read_csv('outputs/scores_'+name+'.csv')\n",
    "scores_df = scores_df[scores_df.columns[1:]]\n",
    "print(scores_df)\n",
    "scores = pd.Series(np.mean(scores_df.values,axis=0),index=scores_df.columns)\n",
    "print(scores)"
   ]
  },
  {
   "cell_type": "code",
   "execution_count": null,
   "metadata": {},
   "outputs": [],
   "source": [
    "runtimes_df = pd.read_csv('outputs/runtimes_'+name+'.csv')\n",
    "runtimes_df = runtimes_df[runtimes_df.columns[1:]]\n",
    "\n",
    "runtimes = pd.Series(np.mean(runtimes_df.values,axis=0),index=runtimes_df.columns)\n",
    "runtimes"
   ]
  },
  {
   "cell_type": "code",
   "execution_count": null,
   "metadata": {},
   "outputs": [],
   "source": [
    "runtimes_df"
   ]
  },
  {
   "cell_type": "code",
   "execution_count": null,
   "metadata": {},
   "outputs": [],
   "source": [
    "graphsizes = pd.read_csv('outputs/graphs_'+name+'.csv')['0']\n",
    "plt.hist(graphsizes)\n",
    "plt.show()\n",
    "print(graphsizes)"
   ]
  },
  {
   "cell_type": "code",
   "execution_count": null,
   "metadata": {},
   "outputs": [],
   "source": [
    "sdists = pd.read_csv('outputs/sdists_'+name+'.csv')['0']\n",
    "\n",
    "print(sdists,'\\n')"
   ]
  },
  {
   "cell_type": "code",
   "execution_count": null,
   "metadata": {},
   "outputs": [],
   "source": [
    "small_scores_df = scores_df.loc[graphsizes.values<120]\n",
    "small_scores = np.mean(small_scores_df)\n",
    "small_sdists =  sdists[graphsizes.values<120]\n",
    "med_scores_df = scores_df.loc[(graphsizes<200) & (graphsizes>120)]\n",
    "med_scores = np.mean(med_scores_df)\n",
    "med_sdists =  sdists[(graphsizes<200) & (graphsizes>120)]\n",
    "large_scores_df = scores_df.loc[graphsizes>200,]\n",
    "large_scores = np.mean(large_scores_df)\n",
    "large_sdists =  sdists[graphsizes.values>200]\n",
    "\n",
    "small_runtimes_df = runtimes_df.loc[graphsizes.values<120]\n",
    "small_runtimes = [np.mean(small_runtimes_df[col]) for col in runtimes_df.columns]\n",
    "med_runtimes_df = runtimes_df.loc[(graphsizes<200) & (graphsizes>120)]\n",
    "med_runtimes = [np.mean(med_runtimes[col]) for col in runtimes_df.columns]\n",
    "large_runtimes_df = scores_df.loc[graphsizes>200,]\n",
    "large_runtimes = [np.mean(large_runtimes[col]) for col in runtimes_df.columns]\n",
    "\n",
    "\n",
    "print(small_scores_df.shape,med_scores_df.shape,large_scores_df.shape,small_scores_df.columns)\n",
    "\n",
    "avgs = pd.DataFrame([small_runtimes,med_runtimes,large_runtimes],columns=runtimes_df.columns,index=[\"Small\",\"Medium\",'Large'])\n",
    "print(avgs.to_latex())"
   ]
  },
  {
   "cell_type": "code",
   "execution_count": null,
   "metadata": {},
   "outputs": [],
   "source": [
    "large_runtimes_df"
   ]
  },
  {
   "cell_type": "code",
   "execution_count": null,
   "metadata": {},
   "outputs": [],
   "source": [
    "font = {\n",
    "        'size'   : 22}\n",
    "#rc('font', **font)\n",
    "rc('font', **{'family': 'serif', 'serif': ['Computer Modern']})\n",
    "#rc('text', usetex=True)\n",
    "plt.style.use('seaborn-whitegrid')\n",
    "rc('font', **{'family': 'serif', 'serif': ['Computer Modern']})\n",
    "\n",
    "\n",
    "x = 2*np.arange(len(scores_df.index))  # the label locations\n",
    "width = 0.2  # the width of the bars\n",
    "fig, ax = plt.subplots()\n",
    "l = len(scores_df.columns)\n",
    "rects = []\n",
    "colors = ['#753252','#1f1aba','#18d97f','#f0137a','#7e804a']\n",
    "for i,col in enumerate(scores_df.columns):\n",
    "    val = (scores_df[col].values)/1000\n",
    "    print(val)\n",
    "    print(x + width/2-width/l)\n",
    "    rects.append( ax.bar(x + (l*width)/2-i*width, \n",
    "                         val, width, color=colors[i], label=col))\n",
    "    \n",
    "# Add some text for labels, title and custom x-axis tick labels, etc.\n",
    "ax.set_ylabel('Detour (km)',**font)\n",
    "ax.set_xlabel('Graph',**font)\n",
    "ax.set_xticks(x)\n",
    "ax.set_xticklabels(scores_df.index)\n",
    "ax.legend()\n",
    "#for rect in rects:\n",
    "#    ax.bar_label(rect, padding=15)\n",
    "fig.set_size_inches(10, 10)\n",
    "\n",
    "fig.tight_layout()\n",
    "plt.title('Total Detour Assigned', **font\n",
    "         )\n",
    "plt.show()\n",
    "\n"
   ]
  },
  {
   "cell_type": "code",
   "execution_count": null,
   "metadata": {},
   "outputs": [],
   "source": [
    "avgs = []\n",
    "for lab,scores_,scores_df_,sdists_ in zip([\"Small\",\"Medium\",'Large'],[small_scores,med_scores,large_scores],\n",
    "                       [small_scores_df,med_scores_df,large_scores_df],[small_sdists,med_sdists,large_sdists]):\n",
    "    colors = [\"#3e442b\",\"#6a7062\",\"#8d909b\",\"#aaadc4\",\"#d6eeff\"]\n",
    "    detours = scores_.values-np.array([np.mean(sdists_.values)]*len(scores))\n",
    "    detour_rats = detours/np.mean(sdists_.values)\n",
    "    drats = [[(scores_df_.loc[i,c]-sdists_[i])/sdists_[i] for c in scores_df_.columns] for i in scores_df_.index]\n",
    "    detour_rats_df = pd.DataFrame(columns=scores_df_.columns,data=drats)\n",
    "    errors = [np.std(detour_rats_df[col]) for col in scores_df_.columns]\n",
    "    avgs.append(detour_rats)\n",
    "\n",
    "    fig, ax = plt.subplots()\n",
    "\n",
    "\n",
    "    ax.bar(range(len(scores)),detour_rats,color=colors)\n",
    "\n",
    "    #for rect in rects:\n",
    "    #    ax.bar_label(rect, padding=15)\n",
    "    fig.set_size_inches(10, 10)\n",
    "\n",
    "    fig.tight_layout()\n",
    "    plt.title('Detour Added', **font\n",
    "             )\n",
    "    ax.set_ylabel('Detour Added (%)',**font)\n",
    "    ax.set_xlabel('Algorithm',**font)\n",
    "    ax.set_xticklabels(['']+list(scores_df_.columns))\n",
    "    plt.show()\n",
    "avgs = pd.DataFrame(data = np.array(avgs)*100, columns=scores_df.columns,index=[\"Small\",\"Medium\",'Large'])\n",
    "print(avgs.to_latex())"
   ]
  },
  {
   "cell_type": "code",
   "execution_count": null,
   "metadata": {},
   "outputs": [],
   "source": [
    "\n",
    "\n",
    "\n",
    "x = 2*np.arange(len(scores_df.index))  # the label locations\n",
    "width = 0.2  # the width of the bars\n",
    "fig, ax = plt.subplots()\n",
    "l = len(scores_df.columns)\n",
    "rects = []\n",
    "for i,col in enumerate(scores_df.columns):\n",
    "    val = (scores_df[col].values-sdists_df.values)/sdists_df.values\n",
    "    print(val)\n",
    "    print(x + width/2-width/l)\n",
    "    rects.append( ax.bar(x + (l*width)/2-i*width, val, width,\n",
    "                         color=colors[i], label=col))\n",
    "\n",
    "# Add some text for labels, title and custom x-axis tick labels, etc.\n",
    "ax.set_ylabel('Total Detour/Total Unassigned',**font)\n",
    "ax.set_xlabel('Graph',**font)\n",
    "ax.set_xticks(x)\n",
    "ax.set_xticklabels(scores_df.index)\n",
    "ax.legend()\n",
    "#for rect in rects:\n",
    "#    ax.bar_label(rect, padding=15)\n",
    "fig.set_size_inches(10, 10)\n",
    "\n",
    "fig.tight_layout()\n",
    "plt.title('Detour Ratio')\n",
    "plt.show()"
   ]
  },
  {
   "cell_type": "code",
   "execution_count": null,
   "metadata": {},
   "outputs": [],
   "source": []
  },
  {
   "cell_type": "code",
   "execution_count": null,
   "metadata": {},
   "outputs": [],
   "source": [
    "x = 2*np.arange(len(runtimes_df.index))  # the label locations\n",
    "width = 0.2  # the width of the bars\n",
    "fig, ax = plt.subplots()\n",
    "l = len(runtimes_df.columns)\n",
    "rects = []\n",
    "for i,col in enumerate(runtimes_df.columns):\n",
    "    val = runtimes_df[col]\n",
    "    rects.append( ax.barh(x + (l*width)/2-i*width, val, width, label=col))\n",
    "\n",
    "# Add some text for labels, title and custom x-axis tick labels, etc.\n",
    "ax.set_xlabel('Runtimes',**font)\n",
    "ax.set_ylabel('Graph',**font)\n",
    "ax.set_yticks(x)\n",
    "ax.set_yticklabels(runtimes_df.index)\n",
    "ax.legend()\n",
    "#for rect in rects:\n",
    "#    ax.bar_label(rect, padding=15)\n",
    "fig.set_size_inches(10, 10)\n",
    "\n",
    "fig.tight_layout()\n",
    "plt.title('Runtime(s)', **font)\n",
    "plt.show()"
   ]
  },
  {
   "cell_type": "code",
   "execution_count": null,
   "metadata": {},
   "outputs": [],
   "source": [
    "colors = [\"#3e442b\",\"#6a7062\",\"#8d909b\",\"#aaadc4\",\"#d6eeff\"]\n",
    "\n",
    "errors = [np.std(runtimes_df[col]) for col in runtimes_df.columns]\n",
    "\n",
    "\n",
    "fig, ax = plt.subplots()\n",
    "\n",
    "\n",
    "ax.bar(range(len(runtimes.values)),runtimes.values,color=colors,yerr=errors)\n",
    "\n",
    "#for rect in rects:\n",
    "#    ax.bar_label(rect, padding=15)\n",
    "fig.set_size_inches(10, 10)\n",
    "\n",
    "fig.tight_layout()\n",
    "plt.title('Algorithm Runtimes', **font\n",
    "         )\n",
    "ax.set_ylabel('Avg Seconds',**font)\n",
    "ax.set_xlabel('Algorithm',**font)\n",
    "ax.set_xticklabels(list(scores_df.columns))\n",
    "plt.show()"
   ]
  },
  {
   "cell_type": "code",
   "execution_count": null,
   "metadata": {},
   "outputs": [],
   "source": [
    "rt_df = runtimes_df.copy()\n",
    "for col in rt_df.columns:\n",
    "    rt_df[col] = rt_df[col].apply(lambda x: '%s' % float('%.3f' % x))\n",
    "print(rt_df.to_latex())\n"
   ]
  },
  {
   "cell_type": "code",
   "execution_count": null,
   "metadata": {},
   "outputs": [],
   "source": []
  },
  {
   "cell_type": "code",
   "execution_count": null,
   "metadata": {},
   "outputs": [],
   "source": [
    "from models.hs import TRM_RLS\n",
    "TRM_RLS()"
   ]
  },
  {
   "cell_type": "code",
   "execution_count": null,
   "metadata": {},
   "outputs": [],
   "source": []
  },
  {
   "cell_type": "code",
   "execution_count": null,
   "metadata": {},
   "outputs": [],
   "source": []
  }
 ],
 "metadata": {
  "kernelspec": {
   "display_name": "Python 3",
   "language": "python",
   "name": "python3"
  },
  "language_info": {
   "codemirror_mode": {
    "name": "ipython",
    "version": 3
   },
   "file_extension": ".py",
   "mimetype": "text/x-python",
   "name": "python",
   "nbconvert_exporter": "python",
   "pygments_lexer": "ipython3",
   "version": "3.8.5"
  }
 },
 "nbformat": 4,
 "nbformat_minor": 4
}
